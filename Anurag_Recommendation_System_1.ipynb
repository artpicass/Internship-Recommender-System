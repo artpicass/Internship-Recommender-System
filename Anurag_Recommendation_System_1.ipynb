{
  "nbformat": 4,
  "nbformat_minor": 0,
  "metadata": {
    "colab": {
      "name": "Recommendation System #1.ipynb",
      "provenance": [],
      "collapsed_sections": []
    },
    "kernelspec": {
      "name": "python3",
      "display_name": "Python 3"
    }
  },
  "cells": [
    {
      "cell_type": "markdown",
      "metadata": {
        "id": "3ueoadHAfMHP",
        "colab_type": "text"
      },
      "source": [
        "# ***ANURAG***"
      ]
    },
    {
      "cell_type": "markdown",
      "metadata": {
        "id": "lxKmHUMZllJw",
        "colab_type": "text"
      },
      "source": [
        "1. What does the data mean?\n",
        "2. Data cleaning (remove null values, outlier analysis, etc.)\n",
        "3. Keeping in mind the broad categories of recommendation system algorithms, what features you will need and why?\n",
        "4. Perform data visualization on the dataset provided like; popularity of various genres, most rated movies, highest rated movies, least rated movies, etc."
      ]
    },
    {
      "cell_type": "markdown",
      "metadata": {
        "id": "PSc1R-npFeTI",
        "colab_type": "text"
      },
      "source": [
        "*DATA DISCRIPTION*"
      ]
    },
    {
      "cell_type": "code",
      "metadata": {
        "id": "KCv7GUujNuna",
        "colab_type": "code",
        "colab": {}
      },
      "source": [
        "import pandas as pd\n",
        "ratings=pd.read_csv('/content/drive/My Drive/datasets/Ratings .csv')\n",
        "movies=pd.read_csv('/content/drive/My Drive/datasets/movies.csv')\n",
        "userdata=pd.read_csv('/content/drive/My Drive/datasets/user_data.csv')"
      ],
      "execution_count": 51,
      "outputs": []
    },
    {
      "cell_type": "code",
      "metadata": {
        "id": "5yyGnVmbVpzo",
        "colab_type": "code",
        "colab": {
          "base_uri": "https://localhost:8080/",
          "height": 66
        },
        "outputId": "42a71093-feb4-4769-b9c8-40c8145e6a5d"
      },
      "source": [
        "#Shape of datasets:\n",
        "print('shape of ratings dataset ::',ratings.shape)\n",
        "print('shape of movies dataset ::',movies.shape)\n",
        "print('shape of userdata dataset ::',userdata.shape)"
      ],
      "execution_count": 53,
      "outputs": [
        {
          "output_type": "stream",
          "text": [
            "shape of ratings dataset :: (1000209, 4)\n",
            "shape of movies dataset :: (3883, 3)\n",
            "shape of userdata dataset :: (6040, 5)\n"
          ],
          "name": "stdout"
        }
      ]
    },
    {
      "cell_type": "code",
      "metadata": {
        "id": "BwAvuZCoVvnz",
        "colab_type": "code",
        "colab": {
          "base_uri": "https://localhost:8080/",
          "height": 66
        },
        "outputId": "72b48e83-4edd-411b-fef4-c3cf3974ef60"
      },
      "source": [
        "print('Ratings columns :',ratings.columns)\n",
        "print('movies columns :',movies.columns)\n",
        "print('userdata columns :',userdata.columns)"
      ],
      "execution_count": 54,
      "outputs": [
        {
          "output_type": "stream",
          "text": [
            "Ratings columns : Index(['UserID', 'MovieID', 'Rating', 'Timestamp'], dtype='object')\n",
            "movies columns : Index(['MovieID', 'Title', 'Genres'], dtype='object')\n",
            "userdata columns : Index(['UserID', 'Gender', 'Age', 'Occupation', 'Zip-code'], dtype='object')\n"
          ],
          "name": "stdout"
        }
      ]
    },
    {
      "cell_type": "code",
      "metadata": {
        "id": "dYBpNqSgurZc",
        "colab_type": "code",
        "colab": {}
      },
      "source": [
        "#merge datasets:: ratings,movies and userdata\n",
        "d=pd.merge(userdata,ratings,on='UserID',how='left')\n",
        "df=pd.merge(d,movies,on='MovieID',how='left')\n",
        "#Now df is merged dataset"
      ],
      "execution_count": 55,
      "outputs": []
    },
    {
      "cell_type": "code",
      "metadata": {
        "id": "Q2ik_Sntegzt",
        "colab_type": "code",
        "colab": {
          "base_uri": "https://localhost:8080/",
          "height": 50
        },
        "outputId": "b7911fd3-7025-4bf9-bb59-05ffe89b2956"
      },
      "source": [
        "num_cols=df.columns\n",
        "continues= []\n",
        "categorical =[ ]\n",
        "for i in num_cols:\n",
        "  if(len(df[i].unique()))>=(df.shape[0]/25):\n",
        "     continues.append(i)\n",
        "  else:\n",
        "    categorical.append(i)\n",
        "print ('continue variables',continues,'\\n','Categorical Variables',categorical) "
      ],
      "execution_count": 56,
      "outputs": [
        {
          "output_type": "stream",
          "text": [
            "continue variables ['Timestamp'] \n",
            " Categorical Variables ['UserID', 'Gender', 'Age', 'Occupation', 'Zip-code', 'MovieID', 'Rating', 'Title', 'Genres']\n"
          ],
          "name": "stdout"
        }
      ]
    },
    {
      "cell_type": "markdown",
      "metadata": {
        "id": "yk3LdRkCmq-q",
        "colab_type": "text"
      },
      "source": [
        "***4. Perform data visualization on the dataset provided like; popularity of various genres, most rated movies, highest rated movies, least rated movies, etc.***"
      ]
    },
    {
      "cell_type": "markdown",
      "metadata": {
        "id": "UH_NIVJ7AD49",
        "colab_type": "text"
      },
      "source": [
        "***Univariate Analysis***"
      ]
    },
    {
      "cell_type": "code",
      "metadata": {
        "id": "qapnru5_put4",
        "colab_type": "code",
        "colab": {
          "base_uri": "https://localhost:8080/",
          "height": 1000
        },
        "outputId": "8170b5b9-ff9f-4f65-f275-052e7cadca3f"
      },
      "source": [
        "df.hist(figsize=[20,15],bins=20,grid=False,color='#86bf91', zorder=2, rwidth=0.9)"
      ],
      "execution_count": 57,
      "outputs": [
        {
          "output_type": "execute_result",
          "data": {
            "text/plain": [
              "array([[<matplotlib.axes._subplots.AxesSubplot object at 0x7f8cb57d5630>,\n",
              "        <matplotlib.axes._subplots.AxesSubplot object at 0x7f8ca74ca400>],\n",
              "       [<matplotlib.axes._subplots.AxesSubplot object at 0x7f8cb56226d8>,\n",
              "        <matplotlib.axes._subplots.AxesSubplot object at 0x7f8ca73e7940>],\n",
              "       [<matplotlib.axes._subplots.AxesSubplot object at 0x7f8ca7ab0ba8>,\n",
              "        <matplotlib.axes._subplots.AxesSubplot object at 0x7f8caa2b4e10>]],\n",
              "      dtype=object)"
            ]
          },
          "metadata": {
            "tags": []
          },
          "execution_count": 57
        },
        {
          "output_type": "display_data",
          "data": {
            "image/png": "[encoded data removed]",
            "text/plain": [
              "<Figure size 1440x1080 with 6 Axes>"
            ]
          },
          "metadata": {
            "tags": [],
            "needs_background": "light"
          }
        }
      ]
    },
    {
      "cell_type": "markdown",
      "metadata": {
        "id": "3b543LGi2ZdB",
        "colab_type": "text"
      },
      "source": [
        " ***INFRENCES:***\n",
        "\n",
        "\n",
        "*   There is maximum nuber of use who's age lies between 25 to 30\n",
        "*   mostly school/grade students other(not specified) occupations's user watched the max of movies\n",
        "*   maximum of movies are **4-star** Rated\n",
        "*   Timestamp Histogram shows there is an outlier in dataset\n",
        "*   Farmers don't like movies compare to other users\n",
        "\n"
      ]
    },
    {
      "cell_type": "markdown",
      "metadata": {
        "id": "BeeKFBYaP5mZ",
        "colab_type": "text"
      },
      "source": [
        "***Popularity of various Occupations***"
      ]
    },
    {
      "cell_type": "code",
      "metadata": {
        "id": "7Hl-7fW5xx7R",
        "colab_type": "code",
        "colab": {
          "base_uri": "https://localhost:8080/",
          "height": 352
        },
        "outputId": "690d8531-4b7b-48db-e691-927b9673f9f8"
      },
      "source": [
        "df['Occupation'].value_counts().plot.bar(figsize=[10,5]).set_xlabel('Occupation')\n",
        "## 4 represents school/grade student ,0= other or not specified\n",
        "# user who's belongs 4 and 0 occupation has maximum number in dataset"
      ],
      "execution_count": 58,
      "outputs": [
        {
          "output_type": "execute_result",
          "data": {
            "text/plain": [
              "Text(0.5, 0, 'Occupation')"
            ]
          },
          "metadata": {
            "tags": []
          },
          "execution_count": 58
        },
        {
          "output_type": "display_data",
          "data": {
            "image/png": "[encoded data removed]",
            "text/plain": [
              "<Figure size 720x360 with 1 Axes>"
            ]
          },
          "metadata": {
            "tags": [],
            "needs_background": "light"
          }
        }
      ]
    },
    {
      "cell_type": "markdown",
      "metadata": {
        "id": "MMUbrhuvAn0S",
        "colab_type": "text"
      },
      "source": [
        "***Bivariate Analysis***"
      ]
    },
    {
      "cell_type": "code",
      "metadata": {
        "id": "Ive-wBs6AfrC",
        "colab_type": "code",
        "colab": {
          "base_uri": "https://localhost:8080/",
          "height": 368
        },
        "outputId": "3347b8ea-2ea3-44f8-a1c0-707cc54ed372"
      },
      "source": [
        "import matplotlib.pyplot as plt\n",
        "import seaborn as sn\n",
        "a=sn.FacetGrid(df,col='Gender',col_wrap=4,height=5)\n",
        "a=a.map(plt.hist,'Rating')"
      ],
      "execution_count": 59,
      "outputs": [
        {
          "output_type": "display_data",
          "data": {
            "image/png": "[encoded data removed]",
            "text/plain": [
              "<Figure size 1440x360 with 2 Axes>"
            ]
          },
          "metadata": {
            "tags": [],
            "needs_background": "light"
          }
        }
      ]
    },
    {
      "cell_type": "markdown",
      "metadata": {
        "id": "6hebNeOGQ7-C",
        "colab_type": "text"
      },
      "source": [
        "**most of Male user who rate or watched the max of movies**"
      ]
    },
    {
      "cell_type": "code",
      "metadata": {
        "id": "XStgOU9UA-pG",
        "colab_type": "code",
        "colab": {
          "base_uri": "https://localhost:8080/",
          "height": 1000
        },
        "outputId": "fc46073f-7a5e-444f-c5fc-73e32e834c7f"
      },
      "source": [
        "import seaborn as sn\n",
        "a=sn.FacetGrid(df,col='Occupation',col_wrap=4,height=4)\n",
        "a=a.map(plt.hist,'Rating')\n",
        "##graph different occupation vs Rations of movies"
      ],
      "execution_count": 60,
      "outputs": [
        {
          "output_type": "display_data",
          "data": {
            "image/png": "[encoded data removed]",
            "text/plain": [
              "<Figure size 1152x1728 with 21 Axes>"
            ]
          },
          "metadata": {
            "tags": [],
            "needs_background": "light"
          }
        }
      ]
    },
    {
      "cell_type": "code",
      "metadata": {
        "id": "zwiy62yyLI0K",
        "colab_type": "code",
        "colab": {
          "base_uri": "https://localhost:8080/",
          "height": 432
        },
        "outputId": "51691715-12b8-4dc0-b248-2ee9eabda42a"
      },
      "source": [
        "split_data,split_data.Genres = df.iloc[[i   for i,j in enumerate(df['Genres']) for value in j.split(\"|\")] , :],[value for i in df['Genres'] for value in i.split(\"|\")]\n",
        "split_data.head(10)"
      ],
      "execution_count": 61,
      "outputs": [
        {
          "output_type": "stream",
          "text": [
            "/usr/local/lib/python3.6/dist-packages/pandas/core/generic.py:5303: SettingWithCopyWarning: \n",
            "A value is trying to be set on a copy of a slice from a DataFrame.\n",
            "Try using .loc[row_indexer,col_indexer] = value instead\n",
            "\n",
            "See the caveats in the documentation: https://pandas.pydata.org/pandas-docs/stable/user_guide/indexing.html#returning-a-view-versus-a-copy\n",
            "  self[name] = value\n"
          ],
          "name": "stderr"
        },
        {
          "output_type": "execute_result",
          "data": {
            "text/html": [
              "<div>\n",
              "<style scoped>\n",
              "    .dataframe tbody tr th:only-of-type {\n",
              "        vertical-align: middle;\n",
              "    }\n",
              "\n",
              "    .dataframe tbody tr th {\n",
              "        vertical-align: top;\n",
              "    }\n",
              "\n",
              "    .dataframe thead th {\n",
              "        text-align: right;\n",
              "    }\n",
              "</style>\n",
              "<table border=\"1\" class=\"dataframe\">\n",
              "  <thead>\n",
              "    <tr style=\"text-align: right;\">\n",
              "      <th></th>\n",
              "      <th>UserID</th>\n",
              "      <th>Gender</th>\n",
              "      <th>Age</th>\n",
              "      <th>Occupation</th>\n",
              "      <th>Zip-code</th>\n",
              "      <th>MovieID</th>\n",
              "      <th>Rating</th>\n",
              "      <th>Timestamp</th>\n",
              "      <th>Title</th>\n",
              "      <th>Genres</th>\n",
              "    </tr>\n",
              "  </thead>\n",
              "  <tbody>\n",
              "    <tr>\n",
              "      <th>0</th>\n",
              "      <td>1</td>\n",
              "      <td>F</td>\n",
              "      <td>1</td>\n",
              "      <td>10</td>\n",
              "      <td>48067</td>\n",
              "      <td>1193</td>\n",
              "      <td>5</td>\n",
              "      <td>978300760</td>\n",
              "      <td>One Flew Over the Cuckoo's Nest (1975)</td>\n",
              "      <td>Drama</td>\n",
              "    </tr>\n",
              "    <tr>\n",
              "      <th>1</th>\n",
              "      <td>1</td>\n",
              "      <td>F</td>\n",
              "      <td>1</td>\n",
              "      <td>10</td>\n",
              "      <td>48067</td>\n",
              "      <td>661</td>\n",
              "      <td>3</td>\n",
              "      <td>978302109</td>\n",
              "      <td>James and the Giant Peach (1996)</td>\n",
              "      <td>Animation</td>\n",
              "    </tr>\n",
              "    <tr>\n",
              "      <th>1</th>\n",
              "      <td>1</td>\n",
              "      <td>F</td>\n",
              "      <td>1</td>\n",
              "      <td>10</td>\n",
              "      <td>48067</td>\n",
              "      <td>661</td>\n",
              "      <td>3</td>\n",
              "      <td>978302109</td>\n",
              "      <td>James and the Giant Peach (1996)</td>\n",
              "      <td>Children's</td>\n",
              "    </tr>\n",
              "    <tr>\n",
              "      <th>1</th>\n",
              "      <td>1</td>\n",
              "      <td>F</td>\n",
              "      <td>1</td>\n",
              "      <td>10</td>\n",
              "      <td>48067</td>\n",
              "      <td>661</td>\n",
              "      <td>3</td>\n",
              "      <td>978302109</td>\n",
              "      <td>James and the Giant Peach (1996)</td>\n",
              "      <td>Musical</td>\n",
              "    </tr>\n",
              "    <tr>\n",
              "      <th>2</th>\n",
              "      <td>1</td>\n",
              "      <td>F</td>\n",
              "      <td>1</td>\n",
              "      <td>10</td>\n",
              "      <td>48067</td>\n",
              "      <td>914</td>\n",
              "      <td>3</td>\n",
              "      <td>978301968</td>\n",
              "      <td>My Fair Lady (1964)</td>\n",
              "      <td>Musical</td>\n",
              "    </tr>\n",
              "    <tr>\n",
              "      <th>2</th>\n",
              "      <td>1</td>\n",
              "      <td>F</td>\n",
              "      <td>1</td>\n",
              "      <td>10</td>\n",
              "      <td>48067</td>\n",
              "      <td>914</td>\n",
              "      <td>3</td>\n",
              "      <td>978301968</td>\n",
              "      <td>My Fair Lady (1964)</td>\n",
              "      <td>Romance</td>\n",
              "    </tr>\n",
              "    <tr>\n",
              "      <th>3</th>\n",
              "      <td>1</td>\n",
              "      <td>F</td>\n",
              "      <td>1</td>\n",
              "      <td>10</td>\n",
              "      <td>48067</td>\n",
              "      <td>3408</td>\n",
              "      <td>4</td>\n",
              "      <td>978300275</td>\n",
              "      <td>Erin Brockovich (2000)</td>\n",
              "      <td>Drama</td>\n",
              "    </tr>\n",
              "    <tr>\n",
              "      <th>4</th>\n",
              "      <td>1</td>\n",
              "      <td>F</td>\n",
              "      <td>1</td>\n",
              "      <td>10</td>\n",
              "      <td>48067</td>\n",
              "      <td>2355</td>\n",
              "      <td>5</td>\n",
              "      <td>978824291</td>\n",
              "      <td>Bug's Life, A (1998)</td>\n",
              "      <td>Animation</td>\n",
              "    </tr>\n",
              "    <tr>\n",
              "      <th>4</th>\n",
              "      <td>1</td>\n",
              "      <td>F</td>\n",
              "      <td>1</td>\n",
              "      <td>10</td>\n",
              "      <td>48067</td>\n",
              "      <td>2355</td>\n",
              "      <td>5</td>\n",
              "      <td>978824291</td>\n",
              "      <td>Bug's Life, A (1998)</td>\n",
              "      <td>Children's</td>\n",
              "    </tr>\n",
              "    <tr>\n",
              "      <th>4</th>\n",
              "      <td>1</td>\n",
              "      <td>F</td>\n",
              "      <td>1</td>\n",
              "      <td>10</td>\n",
              "      <td>48067</td>\n",
              "      <td>2355</td>\n",
              "      <td>5</td>\n",
              "      <td>978824291</td>\n",
              "      <td>Bug's Life, A (1998)</td>\n",
              "      <td>Comedy</td>\n",
              "    </tr>\n",
              "  </tbody>\n",
              "</table>\n",
              "</div>"
            ],
            "text/plain": [
              "   UserID Gender  ...                                   Title      Genres\n",
              "0       1      F  ...  One Flew Over the Cuckoo's Nest (1975)       Drama\n",
              "1       1      F  ...        James and the Giant Peach (1996)   Animation\n",
              "1       1      F  ...        James and the Giant Peach (1996)  Children's\n",
              "1       1      F  ...        James and the Giant Peach (1996)     Musical\n",
              "2       1      F  ...                     My Fair Lady (1964)     Musical\n",
              "2       1      F  ...                     My Fair Lady (1964)     Romance\n",
              "3       1      F  ...                  Erin Brockovich (2000)       Drama\n",
              "4       1      F  ...                    Bug's Life, A (1998)   Animation\n",
              "4       1      F  ...                    Bug's Life, A (1998)  Children's\n",
              "4       1      F  ...                    Bug's Life, A (1998)      Comedy\n",
              "\n",
              "[10 rows x 10 columns]"
            ]
          },
          "metadata": {
            "tags": []
          },
          "execution_count": 61
        }
      ]
    },
    {
      "cell_type": "code",
      "metadata": {
        "id": "Hkaz6QI45mFP",
        "colab_type": "code",
        "colab": {
          "base_uri": "https://localhost:8080/",
          "height": 335
        },
        "outputId": "5c45d63a-deac-4caa-e42f-4fd6e2b3a002"
      },
      "source": [
        "#Average Rated Genres\n",
        "import numpy as np\n",
        "r= split_data.groupby(['Genres'], as_index=False)['Rating'].aggregate(np.mean)\n",
        "r.head(10).sort_values(by='Rating',ascending=False)"
      ],
      "execution_count": 62,
      "outputs": [
        {
          "output_type": "execute_result",
          "data": {
            "text/html": [
              "<div>\n",
              "<style scoped>\n",
              "    .dataframe tbody tr th:only-of-type {\n",
              "        vertical-align: middle;\n",
              "    }\n",
              "\n",
              "    .dataframe tbody tr th {\n",
              "        vertical-align: top;\n",
              "    }\n",
              "\n",
              "    .dataframe thead th {\n",
              "        text-align: right;\n",
              "    }\n",
              "</style>\n",
              "<table border=\"1\" class=\"dataframe\">\n",
              "  <thead>\n",
              "    <tr style=\"text-align: right;\">\n",
              "      <th></th>\n",
              "      <th>Genres</th>\n",
              "      <th>Rating</th>\n",
              "    </tr>\n",
              "  </thead>\n",
              "  <tbody>\n",
              "    <tr>\n",
              "      <th>9</th>\n",
              "      <td>Film-Noir</td>\n",
              "      <td>4.075188</td>\n",
              "    </tr>\n",
              "    <tr>\n",
              "      <th>6</th>\n",
              "      <td>Documentary</td>\n",
              "      <td>3.933123</td>\n",
              "    </tr>\n",
              "    <tr>\n",
              "      <th>7</th>\n",
              "      <td>Drama</td>\n",
              "      <td>3.766332</td>\n",
              "    </tr>\n",
              "    <tr>\n",
              "      <th>5</th>\n",
              "      <td>Crime</td>\n",
              "      <td>3.708679</td>\n",
              "    </tr>\n",
              "    <tr>\n",
              "      <th>2</th>\n",
              "      <td>Animation</td>\n",
              "      <td>3.684868</td>\n",
              "    </tr>\n",
              "    <tr>\n",
              "      <th>4</th>\n",
              "      <td>Comedy</td>\n",
              "      <td>3.522099</td>\n",
              "    </tr>\n",
              "    <tr>\n",
              "      <th>0</th>\n",
              "      <td>Action</td>\n",
              "      <td>3.491185</td>\n",
              "    </tr>\n",
              "    <tr>\n",
              "      <th>1</th>\n",
              "      <td>Adventure</td>\n",
              "      <td>3.477257</td>\n",
              "    </tr>\n",
              "    <tr>\n",
              "      <th>8</th>\n",
              "      <td>Fantasy</td>\n",
              "      <td>3.447371</td>\n",
              "    </tr>\n",
              "    <tr>\n",
              "      <th>3</th>\n",
              "      <td>Children's</td>\n",
              "      <td>3.422035</td>\n",
              "    </tr>\n",
              "  </tbody>\n",
              "</table>\n",
              "</div>"
            ],
            "text/plain": [
              "        Genres    Rating\n",
              "9    Film-Noir  4.075188\n",
              "6  Documentary  3.933123\n",
              "7        Drama  3.766332\n",
              "5        Crime  3.708679\n",
              "2    Animation  3.684868\n",
              "4       Comedy  3.522099\n",
              "0       Action  3.491185\n",
              "1    Adventure  3.477257\n",
              "8      Fantasy  3.447371\n",
              "3   Children's  3.422035"
            ]
          },
          "metadata": {
            "tags": []
          },
          "execution_count": 62
        }
      ]
    },
    {
      "cell_type": "code",
      "metadata": {
        "id": "mFtRwHwdFfx9",
        "colab_type": "code",
        "colab": {
          "base_uri": "https://localhost:8080/",
          "height": 700
        },
        "outputId": "df8a3b8e-6ca7-4f5e-850d-d3bd70fc0ad9"
      },
      "source": [
        "m=split_data['Genres'].value_counts().plot.bar(figsize=[10,5]).set_xlabel('Genres')\n",
        "split_data['Genres'].value_counts()\n",
        "## Count the movies's Genres"
      ],
      "execution_count": 63,
      "outputs": [
        {
          "output_type": "execute_result",
          "data": {
            "text/plain": [
              "Comedy         356580\n",
              "Drama          354529\n",
              "Action         257457\n",
              "Thriller       189680\n",
              "Sci-Fi         157294\n",
              "Romance        147523\n",
              "Adventure      133953\n",
              "Crime           79541\n",
              "Horror          76386\n",
              "Children's      72186\n",
              "War             68527\n",
              "Animation       43293\n",
              "Musical         41533\n",
              "Mystery         40178\n",
              "Fantasy         36301\n",
              "Western         20683\n",
              "Film-Noir       18261\n",
              "Documentary      7910\n",
              "Name: Genres, dtype: int64"
            ]
          },
          "metadata": {
            "tags": []
          },
          "execution_count": 63
        },
        {
          "output_type": "display_data",
          "data": {
            "image/png": "[encoded data removed]",
            "text/plain": [
              "<Figure size 720x360 with 1 Axes>"
            ]
          },
          "metadata": {
            "tags": [],
            "needs_background": "light"
          }
        }
      ]
    },
    {
      "cell_type": "markdown",
      "metadata": {
        "id": "p5gLVC8lU7g_",
        "colab_type": "text"
      },
      "source": [
        "***Most rated movies***"
      ]
    },
    {
      "cell_type": "code",
      "metadata": {
        "id": "O8Cr-c_3Ym6t",
        "colab_type": "code",
        "colab": {
          "base_uri": "https://localhost:8080/",
          "height": 363
        },
        "outputId": "f359f1ff-b51b-42e7-a439-70fa89b33572"
      },
      "source": [
        "#Top 10 most rated movies\n",
        "h=df.groupby('Title').count().sort_values(ascending=False,by='Rating')[['Rating']]\n",
        "h.head(10)"
      ],
      "execution_count": 64,
      "outputs": [
        {
          "output_type": "execute_result",
          "data": {
            "text/html": [
              "<div>\n",
              "<style scoped>\n",
              "    .dataframe tbody tr th:only-of-type {\n",
              "        vertical-align: middle;\n",
              "    }\n",
              "\n",
              "    .dataframe tbody tr th {\n",
              "        vertical-align: top;\n",
              "    }\n",
              "\n",
              "    .dataframe thead th {\n",
              "        text-align: right;\n",
              "    }\n",
              "</style>\n",
              "<table border=\"1\" class=\"dataframe\">\n",
              "  <thead>\n",
              "    <tr style=\"text-align: right;\">\n",
              "      <th></th>\n",
              "      <th>Rating</th>\n",
              "    </tr>\n",
              "    <tr>\n",
              "      <th>Title</th>\n",
              "      <th></th>\n",
              "    </tr>\n",
              "  </thead>\n",
              "  <tbody>\n",
              "    <tr>\n",
              "      <th>American Beauty (1999)</th>\n",
              "      <td>3428</td>\n",
              "    </tr>\n",
              "    <tr>\n",
              "      <th>Star Wars: Episode IV - A New Hope (1977)</th>\n",
              "      <td>2991</td>\n",
              "    </tr>\n",
              "    <tr>\n",
              "      <th>Star Wars: Episode V - The Empire Strikes Back (1980)</th>\n",
              "      <td>2990</td>\n",
              "    </tr>\n",
              "    <tr>\n",
              "      <th>Star Wars: Episode VI - Return of the Jedi (1983)</th>\n",
              "      <td>2883</td>\n",
              "    </tr>\n",
              "    <tr>\n",
              "      <th>Jurassic Park (1993)</th>\n",
              "      <td>2672</td>\n",
              "    </tr>\n",
              "    <tr>\n",
              "      <th>Saving Private Ryan (1998)</th>\n",
              "      <td>2653</td>\n",
              "    </tr>\n",
              "    <tr>\n",
              "      <th>Terminator 2: Judgment Day (1991)</th>\n",
              "      <td>2649</td>\n",
              "    </tr>\n",
              "    <tr>\n",
              "      <th>Matrix, The (1999)</th>\n",
              "      <td>2590</td>\n",
              "    </tr>\n",
              "    <tr>\n",
              "      <th>Back to the Future (1985)</th>\n",
              "      <td>2583</td>\n",
              "    </tr>\n",
              "    <tr>\n",
              "      <th>Silence of the Lambs, The (1991)</th>\n",
              "      <td>2578</td>\n",
              "    </tr>\n",
              "  </tbody>\n",
              "</table>\n",
              "</div>"
            ],
            "text/plain": [
              "                                                    Rating\n",
              "Title                                                     \n",
              "American Beauty (1999)                                3428\n",
              "Star Wars: Episode IV - A New Hope (1977)             2991\n",
              "Star Wars: Episode V - The Empire Strikes Back ...    2990\n",
              "Star Wars: Episode VI - Return of the Jedi (1983)     2883\n",
              "Jurassic Park (1993)                                  2672\n",
              "Saving Private Ryan (1998)                            2653\n",
              "Terminator 2: Judgment Day (1991)                     2649\n",
              "Matrix, The (1999)                                    2590\n",
              "Back to the Future (1985)                             2583\n",
              "Silence of the Lambs, The (1991)                      2578"
            ]
          },
          "metadata": {
            "tags": []
          },
          "execution_count": 64
        }
      ]
    },
    {
      "cell_type": "code",
      "metadata": {
        "id": "AB8tyb9vYZEY",
        "colab_type": "code",
        "colab": {
          "base_uri": "https://localhost:8080/",
          "height": 220
        },
        "outputId": "72991676-1704-4f0a-b210-48ad25b10b9c"
      },
      "source": [
        "df.groupby('Rating').count()[['Title']]\n",
        "#count different rated movies"
      ],
      "execution_count": 65,
      "outputs": [
        {
          "output_type": "execute_result",
          "data": {
            "text/html": [
              "<div>\n",
              "<style scoped>\n",
              "    .dataframe tbody tr th:only-of-type {\n",
              "        vertical-align: middle;\n",
              "    }\n",
              "\n",
              "    .dataframe tbody tr th {\n",
              "        vertical-align: top;\n",
              "    }\n",
              "\n",
              "    .dataframe thead th {\n",
              "        text-align: right;\n",
              "    }\n",
              "</style>\n",
              "<table border=\"1\" class=\"dataframe\">\n",
              "  <thead>\n",
              "    <tr style=\"text-align: right;\">\n",
              "      <th></th>\n",
              "      <th>Title</th>\n",
              "    </tr>\n",
              "    <tr>\n",
              "      <th>Rating</th>\n",
              "      <th></th>\n",
              "    </tr>\n",
              "  </thead>\n",
              "  <tbody>\n",
              "    <tr>\n",
              "      <th>1</th>\n",
              "      <td>56174</td>\n",
              "    </tr>\n",
              "    <tr>\n",
              "      <th>2</th>\n",
              "      <td>107557</td>\n",
              "    </tr>\n",
              "    <tr>\n",
              "      <th>3</th>\n",
              "      <td>261197</td>\n",
              "    </tr>\n",
              "    <tr>\n",
              "      <th>4</th>\n",
              "      <td>348971</td>\n",
              "    </tr>\n",
              "    <tr>\n",
              "      <th>5</th>\n",
              "      <td>226310</td>\n",
              "    </tr>\n",
              "  </tbody>\n",
              "</table>\n",
              "</div>"
            ],
            "text/plain": [
              "         Title\n",
              "Rating        \n",
              "1        56174\n",
              "2       107557\n",
              "3       261197\n",
              "4       348971\n",
              "5       226310"
            ]
          },
          "metadata": {
            "tags": []
          },
          "execution_count": 65
        }
      ]
    },
    {
      "cell_type": "code",
      "metadata": {
        "id": "rSZHkTzyV7jP",
        "colab_type": "code",
        "colab": {
          "base_uri": "https://localhost:8080/",
          "height": 593
        },
        "outputId": "4795da68-827a-43c3-f1ab-d9daf43253e8"
      },
      "source": [
        "split_data.groupby('Genres').count()[['Title']].sort_values(by='Genres',ascending=True)\n",
        "#Total no. of movies in each categories/Genres"
      ],
      "execution_count": 66,
      "outputs": [
        {
          "output_type": "execute_result",
          "data": {
            "text/html": [
              "<div>\n",
              "<style scoped>\n",
              "    .dataframe tbody tr th:only-of-type {\n",
              "        vertical-align: middle;\n",
              "    }\n",
              "\n",
              "    .dataframe tbody tr th {\n",
              "        vertical-align: top;\n",
              "    }\n",
              "\n",
              "    .dataframe thead th {\n",
              "        text-align: right;\n",
              "    }\n",
              "</style>\n",
              "<table border=\"1\" class=\"dataframe\">\n",
              "  <thead>\n",
              "    <tr style=\"text-align: right;\">\n",
              "      <th></th>\n",
              "      <th>Title</th>\n",
              "    </tr>\n",
              "    <tr>\n",
              "      <th>Genres</th>\n",
              "      <th></th>\n",
              "    </tr>\n",
              "  </thead>\n",
              "  <tbody>\n",
              "    <tr>\n",
              "      <th>Action</th>\n",
              "      <td>257457</td>\n",
              "    </tr>\n",
              "    <tr>\n",
              "      <th>Adventure</th>\n",
              "      <td>133953</td>\n",
              "    </tr>\n",
              "    <tr>\n",
              "      <th>Animation</th>\n",
              "      <td>43293</td>\n",
              "    </tr>\n",
              "    <tr>\n",
              "      <th>Children's</th>\n",
              "      <td>72186</td>\n",
              "    </tr>\n",
              "    <tr>\n",
              "      <th>Comedy</th>\n",
              "      <td>356580</td>\n",
              "    </tr>\n",
              "    <tr>\n",
              "      <th>Crime</th>\n",
              "      <td>79541</td>\n",
              "    </tr>\n",
              "    <tr>\n",
              "      <th>Documentary</th>\n",
              "      <td>7910</td>\n",
              "    </tr>\n",
              "    <tr>\n",
              "      <th>Drama</th>\n",
              "      <td>354529</td>\n",
              "    </tr>\n",
              "    <tr>\n",
              "      <th>Fantasy</th>\n",
              "      <td>36301</td>\n",
              "    </tr>\n",
              "    <tr>\n",
              "      <th>Film-Noir</th>\n",
              "      <td>18261</td>\n",
              "    </tr>\n",
              "    <tr>\n",
              "      <th>Horror</th>\n",
              "      <td>76386</td>\n",
              "    </tr>\n",
              "    <tr>\n",
              "      <th>Musical</th>\n",
              "      <td>41533</td>\n",
              "    </tr>\n",
              "    <tr>\n",
              "      <th>Mystery</th>\n",
              "      <td>40178</td>\n",
              "    </tr>\n",
              "    <tr>\n",
              "      <th>Romance</th>\n",
              "      <td>147523</td>\n",
              "    </tr>\n",
              "    <tr>\n",
              "      <th>Sci-Fi</th>\n",
              "      <td>157294</td>\n",
              "    </tr>\n",
              "    <tr>\n",
              "      <th>Thriller</th>\n",
              "      <td>189680</td>\n",
              "    </tr>\n",
              "    <tr>\n",
              "      <th>War</th>\n",
              "      <td>68527</td>\n",
              "    </tr>\n",
              "    <tr>\n",
              "      <th>Western</th>\n",
              "      <td>20683</td>\n",
              "    </tr>\n",
              "  </tbody>\n",
              "</table>\n",
              "</div>"
            ],
            "text/plain": [
              "              Title\n",
              "Genres             \n",
              "Action       257457\n",
              "Adventure    133953\n",
              "Animation     43293\n",
              "Children's    72186\n",
              "Comedy       356580\n",
              "Crime         79541\n",
              "Documentary    7910\n",
              "Drama        354529\n",
              "Fantasy       36301\n",
              "Film-Noir     18261\n",
              "Horror        76386\n",
              "Musical       41533\n",
              "Mystery       40178\n",
              "Romance      147523\n",
              "Sci-Fi       157294\n",
              "Thriller     189680\n",
              "War           68527\n",
              "Western       20683"
            ]
          },
          "metadata": {
            "tags": []
          },
          "execution_count": 66
        }
      ]
    },
    {
      "cell_type": "code",
      "metadata": {
        "id": "HoJUlCSUICh7",
        "colab_type": "code",
        "colab": {
          "base_uri": "https://localhost:8080/",
          "height": 1000
        },
        "outputId": "c3dc0430-9e65-44b3-d977-9dc4a85794cf"
      },
      "source": [
        "import matplotlib.pyplot as plt\n",
        "import seaborn as sn\n",
        "a=sn.FacetGrid(split_data,col='Genres',col_wrap=4,height=5,)\n",
        "a=a.map(plt.hist,'Rating',color='g')\n",
        "#Graph between different Genres and Ratngs"
      ],
      "execution_count": 68,
      "outputs": [
        {
          "output_type": "display_data",
          "data": {
            "image/png": "[encoded data removed]",
            "text/plain": [
              "<Figure size 1440x1800 with 18 Axes>"
            ]
          },
          "metadata": {
            "tags": [],
            "needs_background": "light"
          }
        }
      ]
    },
    {
      "cell_type": "markdown",
      "metadata": {
        "id": "1ZhNxxGtEHK8",
        "colab_type": "text"
      },
      "source": [
        "***Infrences***\n",
        "\n",
        "*  **Drametic** and **Comedy** movies are liked by users\n",
        "*  And Documentry don't liked by users in dataset"
      ]
    },
    {
      "cell_type": "markdown",
      "metadata": {
        "id": "eMl9RovszRNk",
        "colab_type": "text"
      },
      "source": [
        "***Highest rated movies***"
      ]
    },
    {
      "cell_type": "code",
      "metadata": {
        "id": "FOYecLHZ5vJN",
        "colab_type": "code",
        "colab": {
          "base_uri": "https://localhost:8080/",
          "height": 335
        },
        "outputId": "6f4f95e4-d33d-408a-b1de-100de2aaa753"
      },
      "source": [
        "hr= df['Rating']>4\n",
        "s=df[hr].head(10)\n",
        "#Top 10 Highest Rated movies\n",
        "s"
      ],
      "execution_count": 106,
      "outputs": [
        {
          "output_type": "execute_result",
          "data": {
            "text/html": [
              "<div>\n",
              "<style scoped>\n",
              "    .dataframe tbody tr th:only-of-type {\n",
              "        vertical-align: middle;\n",
              "    }\n",
              "\n",
              "    .dataframe tbody tr th {\n",
              "        vertical-align: top;\n",
              "    }\n",
              "\n",
              "    .dataframe thead th {\n",
              "        text-align: right;\n",
              "    }\n",
              "</style>\n",
              "<table border=\"1\" class=\"dataframe\">\n",
              "  <thead>\n",
              "    <tr style=\"text-align: right;\">\n",
              "      <th></th>\n",
              "      <th>UserID</th>\n",
              "      <th>Gender</th>\n",
              "      <th>Age</th>\n",
              "      <th>Occupation</th>\n",
              "      <th>Zip-code</th>\n",
              "      <th>MovieID</th>\n",
              "      <th>Rating</th>\n",
              "      <th>Timestamp</th>\n",
              "      <th>Title</th>\n",
              "      <th>Genres</th>\n",
              "    </tr>\n",
              "  </thead>\n",
              "  <tbody>\n",
              "    <tr>\n",
              "      <th>0</th>\n",
              "      <td>1</td>\n",
              "      <td>F</td>\n",
              "      <td>1</td>\n",
              "      <td>10</td>\n",
              "      <td>48067</td>\n",
              "      <td>1193</td>\n",
              "      <td>5</td>\n",
              "      <td>978300760</td>\n",
              "      <td>One Flew Over the Cuckoo's Nest (1975)</td>\n",
              "      <td>Drama</td>\n",
              "    </tr>\n",
              "    <tr>\n",
              "      <th>4</th>\n",
              "      <td>1</td>\n",
              "      <td>F</td>\n",
              "      <td>1</td>\n",
              "      <td>10</td>\n",
              "      <td>48067</td>\n",
              "      <td>2355</td>\n",
              "      <td>5</td>\n",
              "      <td>978824291</td>\n",
              "      <td>Bug's Life, A (1998)</td>\n",
              "      <td>Animation|Children's|Comedy</td>\n",
              "    </tr>\n",
              "    <tr>\n",
              "      <th>6</th>\n",
              "      <td>1</td>\n",
              "      <td>F</td>\n",
              "      <td>1</td>\n",
              "      <td>10</td>\n",
              "      <td>48067</td>\n",
              "      <td>1287</td>\n",
              "      <td>5</td>\n",
              "      <td>978302039</td>\n",
              "      <td>Ben-Hur (1959)</td>\n",
              "      <td>Action|Adventure|Drama</td>\n",
              "    </tr>\n",
              "    <tr>\n",
              "      <th>7</th>\n",
              "      <td>1</td>\n",
              "      <td>F</td>\n",
              "      <td>1</td>\n",
              "      <td>10</td>\n",
              "      <td>48067</td>\n",
              "      <td>2804</td>\n",
              "      <td>5</td>\n",
              "      <td>978300719</td>\n",
              "      <td>Christmas Story, A (1983)</td>\n",
              "      <td>Comedy|Drama</td>\n",
              "    </tr>\n",
              "    <tr>\n",
              "      <th>10</th>\n",
              "      <td>1</td>\n",
              "      <td>F</td>\n",
              "      <td>1</td>\n",
              "      <td>10</td>\n",
              "      <td>48067</td>\n",
              "      <td>595</td>\n",
              "      <td>5</td>\n",
              "      <td>978824268</td>\n",
              "      <td>Beauty and the Beast (1991)</td>\n",
              "      <td>Animation|Children's|Musical</td>\n",
              "    </tr>\n",
              "    <tr>\n",
              "      <th>14</th>\n",
              "      <td>1</td>\n",
              "      <td>F</td>\n",
              "      <td>1</td>\n",
              "      <td>10</td>\n",
              "      <td>48067</td>\n",
              "      <td>1035</td>\n",
              "      <td>5</td>\n",
              "      <td>978301753</td>\n",
              "      <td>Sound of Music, The (1965)</td>\n",
              "      <td>Musical</td>\n",
              "    </tr>\n",
              "    <tr>\n",
              "      <th>18</th>\n",
              "      <td>1</td>\n",
              "      <td>F</td>\n",
              "      <td>1</td>\n",
              "      <td>10</td>\n",
              "      <td>48067</td>\n",
              "      <td>3105</td>\n",
              "      <td>5</td>\n",
              "      <td>978301713</td>\n",
              "      <td>Awakenings (1990)</td>\n",
              "      <td>Drama</td>\n",
              "    </tr>\n",
              "    <tr>\n",
              "      <th>22</th>\n",
              "      <td>1</td>\n",
              "      <td>F</td>\n",
              "      <td>1</td>\n",
              "      <td>10</td>\n",
              "      <td>48067</td>\n",
              "      <td>1270</td>\n",
              "      <td>5</td>\n",
              "      <td>978300055</td>\n",
              "      <td>Back to the Future (1985)</td>\n",
              "      <td>Comedy|Sci-Fi</td>\n",
              "    </tr>\n",
              "    <tr>\n",
              "      <th>23</th>\n",
              "      <td>1</td>\n",
              "      <td>F</td>\n",
              "      <td>1</td>\n",
              "      <td>10</td>\n",
              "      <td>48067</td>\n",
              "      <td>527</td>\n",
              "      <td>5</td>\n",
              "      <td>978824195</td>\n",
              "      <td>Schindler's List (1993)</td>\n",
              "      <td>Drama|War</td>\n",
              "    </tr>\n",
              "    <tr>\n",
              "      <th>25</th>\n",
              "      <td>1</td>\n",
              "      <td>F</td>\n",
              "      <td>1</td>\n",
              "      <td>10</td>\n",
              "      <td>48067</td>\n",
              "      <td>48</td>\n",
              "      <td>5</td>\n",
              "      <td>978824351</td>\n",
              "      <td>Pocahontas (1995)</td>\n",
              "      <td>Animation|Children's|Musical|Romance</td>\n",
              "    </tr>\n",
              "  </tbody>\n",
              "</table>\n",
              "</div>"
            ],
            "text/plain": [
              "    UserID  ...                                Genres\n",
              "0        1  ...                                 Drama\n",
              "4        1  ...           Animation|Children's|Comedy\n",
              "6        1  ...                Action|Adventure|Drama\n",
              "7        1  ...                          Comedy|Drama\n",
              "10       1  ...          Animation|Children's|Musical\n",
              "14       1  ...                               Musical\n",
              "18       1  ...                                 Drama\n",
              "22       1  ...                         Comedy|Sci-Fi\n",
              "23       1  ...                             Drama|War\n",
              "25       1  ...  Animation|Children's|Musical|Romance\n",
              "\n",
              "[10 rows x 10 columns]"
            ]
          },
          "metadata": {
            "tags": []
          },
          "execution_count": 106
        }
      ]
    },
    {
      "cell_type": "code",
      "metadata": {
        "id": "_0x3xdoqxcKd",
        "colab_type": "code",
        "colab": {
          "base_uri": "https://localhost:8080/",
          "height": 283
        },
        "outputId": "acb1a91e-bb94-46cf-c212-fb8b97d5a412"
      },
      "source": [
        "alt.Chart(s).mark_bar().encode(y='Title',color='Title',column='Rating')"
      ],
      "execution_count": 111,
      "outputs": [
        {
          "output_type": "execute_result",
          "data": {
            "text/plain": [
              "alt.Chart(...)"
            ],
            "text/html": [
              "\n",
              "<div id=\"altair-viz-575ab4ffbb9f43c1b8af59d1beb97c9e\"></div>\n",
              "<script type=\"text/javascript\">\n",
              "  (function(spec, embedOpt){\n",
              "    let outputDiv = document.currentScript.previousElementSibling;\n",
              "    if (outputDiv.id !== \"altair-viz-575ab4ffbb9f43c1b8af59d1beb97c9e\") {\n",
              "      outputDiv = document.getElementById(\"altair-viz-575ab4ffbb9f43c1b8af59d1beb97c9e\");\n",
              "    }\n",
              "    const paths = {\n",
              "      \"vega\": \"https://cdn.jsdelivr.net/npm//vega@5?noext\",\n",
              "      \"vega-lib\": \"https://cdn.jsdelivr.net/npm//vega-lib?noext\",\n",
              "      \"vega-lite\": \"https://cdn.jsdelivr.net/npm//vega-lite@4.8.1?noext\",\n",
              "      \"vega-embed\": \"https://cdn.jsdelivr.net/npm//vega-embed@6?noext\",\n",
              "    };\n",
              "\n",
              "    function loadScript(lib) {\n",
              "      return new Promise(function(resolve, reject) {\n",
              "        var s = document.createElement('script');\n",
              "        s.src = paths[lib];\n",
              "        s.async = true;\n",
              "        s.onload = () => resolve(paths[lib]);\n",
              "        s.onerror = () => reject(`Error loading script: ${paths[lib]}`);\n",
              "        document.getElementsByTagName(\"head\")[0].appendChild(s);\n",
              "      });\n",
              "    }\n",
              "\n",
              "    function showError(err) {\n",
              "      outputDiv.innerHTML = `<div class=\"error\" style=\"color:red;\">${err}</div>`;\n",
              "      throw err;\n",
              "    }\n",
              "\n",
              "    function displayChart(vegaEmbed) {\n",
              "      vegaEmbed(outputDiv, spec, embedOpt)\n",
              "        .catch(err => showError(`Javascript Error: ${err.message}<br>This usually means there's a typo in your chart specification. See the javascript console for the full traceback.`));\n",
              "    }\n",
              "\n",
              "    if(typeof define === \"function\" && define.amd) {\n",
              "      requirejs.config({paths});\n",
              "      require([\"vega-embed\"], displayChart, err => showError(`Error loading script: ${err.message}`));\n",
              "    } else if (typeof vegaEmbed === \"function\") {\n",
              "      displayChart(vegaEmbed);\n",
              "    } else {\n",
              "      loadScript(\"vega\")\n",
              "        .then(() => loadScript(\"vega-lite\"))\n",
              "        .then(() => loadScript(\"vega-embed\"))\n",
              "        .catch(showError)\n",
              "        .then(() => displayChart(vegaEmbed));\n",
              "    }\n",
              "  })({\"config\": {\"view\": {\"continuousWidth\": 400, \"continuousHeight\": 300}}, \"data\": {\"name\": \"data-4f1178248c7645e050f7c6b6534a759b\"}, \"mark\": \"bar\", \"encoding\": {\"color\": {\"type\": \"nominal\", \"field\": \"Title\"}, \"column\": {\"type\": \"quantitative\", \"field\": \"Rating\"}, \"y\": {\"type\": \"nominal\", \"field\": \"Title\"}}, \"$schema\": \"https://vega.github.io/schema/vega-lite/v4.8.1.json\", \"datasets\": {\"data-4f1178248c7645e050f7c6b6534a759b\": [{\"UserID\": 1, \"Gender\": \"F\", \"Age\": 1, \"Occupation\": 10, \"Zip-code\": \"48067\", \"MovieID\": 1193, \"Rating\": 5, \"Timestamp\": 978300760, \"Title\": \"One Flew Over the Cuckoo's Nest (1975)\", \"Genres\": \"Drama\"}, {\"UserID\": 1, \"Gender\": \"F\", \"Age\": 1, \"Occupation\": 10, \"Zip-code\": \"48067\", \"MovieID\": 2355, \"Rating\": 5, \"Timestamp\": 978824291, \"Title\": \"Bug's Life, A (1998)\", \"Genres\": \"Animation|Children's|Comedy\"}, {\"UserID\": 1, \"Gender\": \"F\", \"Age\": 1, \"Occupation\": 10, \"Zip-code\": \"48067\", \"MovieID\": 1287, \"Rating\": 5, \"Timestamp\": 978302039, \"Title\": \"Ben-Hur (1959)\", \"Genres\": \"Action|Adventure|Drama\"}, {\"UserID\": 1, \"Gender\": \"F\", \"Age\": 1, \"Occupation\": 10, \"Zip-code\": \"48067\", \"MovieID\": 2804, \"Rating\": 5, \"Timestamp\": 978300719, \"Title\": \"Christmas Story, A (1983)\", \"Genres\": \"Comedy|Drama\"}, {\"UserID\": 1, \"Gender\": \"F\", \"Age\": 1, \"Occupation\": 10, \"Zip-code\": \"48067\", \"MovieID\": 595, \"Rating\": 5, \"Timestamp\": 978824268, \"Title\": \"Beauty and the Beast (1991)\", \"Genres\": \"Animation|Children's|Musical\"}, {\"UserID\": 1, \"Gender\": \"F\", \"Age\": 1, \"Occupation\": 10, \"Zip-code\": \"48067\", \"MovieID\": 1035, \"Rating\": 5, \"Timestamp\": 978301753, \"Title\": \"Sound of Music, The (1965)\", \"Genres\": \"Musical\"}, {\"UserID\": 1, \"Gender\": \"F\", \"Age\": 1, \"Occupation\": 10, \"Zip-code\": \"48067\", \"MovieID\": 3105, \"Rating\": 5, \"Timestamp\": 978301713, \"Title\": \"Awakenings (1990)\", \"Genres\": \"Drama\"}, {\"UserID\": 1, \"Gender\": \"F\", \"Age\": 1, \"Occupation\": 10, \"Zip-code\": \"48067\", \"MovieID\": 1270, \"Rating\": 5, \"Timestamp\": 978300055, \"Title\": \"Back to the Future (1985)\", \"Genres\": \"Comedy|Sci-Fi\"}, {\"UserID\": 1, \"Gender\": \"F\", \"Age\": 1, \"Occupation\": 10, \"Zip-code\": \"48067\", \"MovieID\": 527, \"Rating\": 5, \"Timestamp\": 978824195, \"Title\": \"Schindler's List (1993)\", \"Genres\": \"Drama|War\"}, {\"UserID\": 1, \"Gender\": \"F\", \"Age\": 1, \"Occupation\": 10, \"Zip-code\": \"48067\", \"MovieID\": 48, \"Rating\": 5, \"Timestamp\": 978824351, \"Title\": \"Pocahontas (1995)\", \"Genres\": \"Animation|Children's|Musical|Romance\"}]}}, {\"mode\": \"vega-lite\"});\n",
              "</script>"
            ]
          },
          "metadata": {
            "tags": []
          },
          "execution_count": 111
        }
      ]
    },
    {
      "cell_type": "markdown",
      "metadata": {
        "id": "jtwUUfsOrwBP",
        "colab_type": "text"
      },
      "source": [
        "***Least rated movies***"
      ]
    },
    {
      "cell_type": "code",
      "metadata": {
        "id": "DdoUUhMhr2fY",
        "colab_type": "code",
        "colab": {
          "base_uri": "https://localhost:8080/",
          "height": 191
        },
        "outputId": "454b54ff-0ecb-4f92-f6d8-a0f485e54f26"
      },
      "source": [
        "#Top 5 least Rated movies\n",
        "lr= df['Rating']<4\n",
        "df[lr].head()"
      ],
      "execution_count": 113,
      "outputs": [
        {
          "output_type": "execute_result",
          "data": {
            "text/html": [
              "<div>\n",
              "<style scoped>\n",
              "    .dataframe tbody tr th:only-of-type {\n",
              "        vertical-align: middle;\n",
              "    }\n",
              "\n",
              "    .dataframe tbody tr th {\n",
              "        vertical-align: top;\n",
              "    }\n",
              "\n",
              "    .dataframe thead th {\n",
              "        text-align: right;\n",
              "    }\n",
              "</style>\n",
              "<table border=\"1\" class=\"dataframe\">\n",
              "  <thead>\n",
              "    <tr style=\"text-align: right;\">\n",
              "      <th></th>\n",
              "      <th>UserID</th>\n",
              "      <th>Gender</th>\n",
              "      <th>Age</th>\n",
              "      <th>Occupation</th>\n",
              "      <th>Zip-code</th>\n",
              "      <th>MovieID</th>\n",
              "      <th>Rating</th>\n",
              "      <th>Timestamp</th>\n",
              "      <th>Title</th>\n",
              "      <th>Genres</th>\n",
              "    </tr>\n",
              "  </thead>\n",
              "  <tbody>\n",
              "    <tr>\n",
              "      <th>1</th>\n",
              "      <td>1</td>\n",
              "      <td>F</td>\n",
              "      <td>1</td>\n",
              "      <td>10</td>\n",
              "      <td>48067</td>\n",
              "      <td>661</td>\n",
              "      <td>3</td>\n",
              "      <td>978302109</td>\n",
              "      <td>James and the Giant Peach (1996)</td>\n",
              "      <td>Animation|Children's|Musical</td>\n",
              "    </tr>\n",
              "    <tr>\n",
              "      <th>2</th>\n",
              "      <td>1</td>\n",
              "      <td>F</td>\n",
              "      <td>1</td>\n",
              "      <td>10</td>\n",
              "      <td>48067</td>\n",
              "      <td>914</td>\n",
              "      <td>3</td>\n",
              "      <td>978301968</td>\n",
              "      <td>My Fair Lady (1964)</td>\n",
              "      <td>Musical|Romance</td>\n",
              "    </tr>\n",
              "    <tr>\n",
              "      <th>5</th>\n",
              "      <td>1</td>\n",
              "      <td>F</td>\n",
              "      <td>1</td>\n",
              "      <td>10</td>\n",
              "      <td>48067</td>\n",
              "      <td>1197</td>\n",
              "      <td>3</td>\n",
              "      <td>978302268</td>\n",
              "      <td>Princess Bride, The (1987)</td>\n",
              "      <td>Action|Adventure|Comedy|Romance</td>\n",
              "    </tr>\n",
              "    <tr>\n",
              "      <th>16</th>\n",
              "      <td>1</td>\n",
              "      <td>F</td>\n",
              "      <td>1</td>\n",
              "      <td>10</td>\n",
              "      <td>48067</td>\n",
              "      <td>2687</td>\n",
              "      <td>3</td>\n",
              "      <td>978824268</td>\n",
              "      <td>Tarzan (1999)</td>\n",
              "      <td>Animation|Children's</td>\n",
              "    </tr>\n",
              "    <tr>\n",
              "      <th>20</th>\n",
              "      <td>1</td>\n",
              "      <td>F</td>\n",
              "      <td>1</td>\n",
              "      <td>10</td>\n",
              "      <td>48067</td>\n",
              "      <td>2321</td>\n",
              "      <td>3</td>\n",
              "      <td>978302205</td>\n",
              "      <td>Pleasantville (1998)</td>\n",
              "      <td>Comedy</td>\n",
              "    </tr>\n",
              "  </tbody>\n",
              "</table>\n",
              "</div>"
            ],
            "text/plain": [
              "    UserID  ...                           Genres\n",
              "1        1  ...     Animation|Children's|Musical\n",
              "2        1  ...                  Musical|Romance\n",
              "5        1  ...  Action|Adventure|Comedy|Romance\n",
              "16       1  ...             Animation|Children's\n",
              "20       1  ...                           Comedy\n",
              "\n",
              "[5 rows x 10 columns]"
            ]
          },
          "metadata": {
            "tags": []
          },
          "execution_count": 113
        }
      ]
    },
    {
      "cell_type": "code",
      "metadata": {
        "id": "pZP8lkN6zuJM",
        "colab_type": "code",
        "colab": {
          "base_uri": "https://localhost:8080/",
          "height": 50
        },
        "outputId": "2b64cc2f-3068-48c6-88dd-08d1343e8a29"
      },
      "source": [
        "#unique movie genre\n",
        "u_Genres=split_data['Genres'].unique().tolist()\n",
        "print([u_Genres])\n",
        "print('Total Movie Genres:',len(u_Genres))"
      ],
      "execution_count": 71,
      "outputs": [
        {
          "output_type": "stream",
          "text": [
            "[['Drama', 'Animation', \"Children's\", 'Musical', 'Romance', 'Comedy', 'Action', 'Adventure', 'Fantasy', 'Sci-Fi', 'War', 'Thriller', 'Crime', 'Mystery', 'Western', 'Horror', 'Film-Noir', 'Documentary']]\n",
            "Total Movie Genres: 18\n"
          ],
          "name": "stdout"
        }
      ]
    },
    {
      "cell_type": "code",
      "metadata": {
        "id": "tRaY-7Ru0nfH",
        "colab_type": "code",
        "colab": {
          "base_uri": "https://localhost:8080/",
          "height": 456
        },
        "outputId": "b2f81ede-8181-4b2d-807c-d4fe111bdb8c"
      },
      "source": [
        "#top 25 most rated movies\n",
        "most_rated = df.groupby('Title').size().sort_values(ascending=False)[:25]\n",
        "most_rated.head(25)"
      ],
      "execution_count": 74,
      "outputs": [
        {
          "output_type": "execute_result",
          "data": {
            "text/plain": [
              "Title\n",
              "American Beauty (1999)                                   3428\n",
              "Star Wars: Episode IV - A New Hope (1977)                2991\n",
              "Star Wars: Episode V - The Empire Strikes Back (1980)    2990\n",
              "Star Wars: Episode VI - Return of the Jedi (1983)        2883\n",
              "Jurassic Park (1993)                                     2672\n",
              "Saving Private Ryan (1998)                               2653\n",
              "Terminator 2: Judgment Day (1991)                        2649\n",
              "Matrix, The (1999)                                       2590\n",
              "Back to the Future (1985)                                2583\n",
              "Silence of the Lambs, The (1991)                         2578\n",
              "Men in Black (1997)                                      2538\n",
              "Raiders of the Lost Ark (1981)                           2514\n",
              "Fargo (1996)                                             2513\n",
              "Sixth Sense, The (1999)                                  2459\n",
              "Braveheart (1995)                                        2443\n",
              "Shakespeare in Love (1998)                               2369\n",
              "Princess Bride, The (1987)                               2318\n",
              "Schindler's List (1993)                                  2304\n",
              "L.A. Confidential (1997)                                 2288\n",
              "Groundhog Day (1993)                                     2278\n",
              "E.T. the Extra-Terrestrial (1982)                        2269\n",
              "Star Wars: Episode I - The Phantom Menace (1999)         2250\n",
              "Being John Malkovich (1999)                              2241\n",
              "Shawshank Redemption, The (1994)                         2227\n",
              "Godfather, The (1972)                                    2223\n",
              "dtype: int64"
            ]
          },
          "metadata": {
            "tags": []
          },
          "execution_count": 74
        }
      ]
    },
    {
      "cell_type": "code",
      "metadata": {
        "id": "cBFadj-d04GO",
        "colab_type": "code",
        "colab": {
          "base_uri": "https://localhost:8080/",
          "height": 191
        },
        "outputId": "103ea17c-32f7-4721-c32b-369cfe164673"
      },
      "source": [
        "# here we extract year from title\n",
        "d['year'] =df['Title'].str.extract('.*\\((.*)\\).*',expand = False)\n",
        "d.head(5)"
      ],
      "execution_count": 72,
      "outputs": [
        {
          "output_type": "execute_result",
          "data": {
            "text/html": [
              "<div>\n",
              "<style scoped>\n",
              "    .dataframe tbody tr th:only-of-type {\n",
              "        vertical-align: middle;\n",
              "    }\n",
              "\n",
              "    .dataframe tbody tr th {\n",
              "        vertical-align: top;\n",
              "    }\n",
              "\n",
              "    .dataframe thead th {\n",
              "        text-align: right;\n",
              "    }\n",
              "</style>\n",
              "<table border=\"1\" class=\"dataframe\">\n",
              "  <thead>\n",
              "    <tr style=\"text-align: right;\">\n",
              "      <th></th>\n",
              "      <th>UserID</th>\n",
              "      <th>Gender</th>\n",
              "      <th>Age</th>\n",
              "      <th>Occupation</th>\n",
              "      <th>Zip-code</th>\n",
              "      <th>MovieID</th>\n",
              "      <th>Rating</th>\n",
              "      <th>Timestamp</th>\n",
              "      <th>year</th>\n",
              "    </tr>\n",
              "  </thead>\n",
              "  <tbody>\n",
              "    <tr>\n",
              "      <th>0</th>\n",
              "      <td>1</td>\n",
              "      <td>F</td>\n",
              "      <td>1</td>\n",
              "      <td>10</td>\n",
              "      <td>48067</td>\n",
              "      <td>1193</td>\n",
              "      <td>5</td>\n",
              "      <td>978300760</td>\n",
              "      <td>1975</td>\n",
              "    </tr>\n",
              "    <tr>\n",
              "      <th>1</th>\n",
              "      <td>1</td>\n",
              "      <td>F</td>\n",
              "      <td>1</td>\n",
              "      <td>10</td>\n",
              "      <td>48067</td>\n",
              "      <td>661</td>\n",
              "      <td>3</td>\n",
              "      <td>978302109</td>\n",
              "      <td>1996</td>\n",
              "    </tr>\n",
              "    <tr>\n",
              "      <th>2</th>\n",
              "      <td>1</td>\n",
              "      <td>F</td>\n",
              "      <td>1</td>\n",
              "      <td>10</td>\n",
              "      <td>48067</td>\n",
              "      <td>914</td>\n",
              "      <td>3</td>\n",
              "      <td>978301968</td>\n",
              "      <td>1964</td>\n",
              "    </tr>\n",
              "    <tr>\n",
              "      <th>3</th>\n",
              "      <td>1</td>\n",
              "      <td>F</td>\n",
              "      <td>1</td>\n",
              "      <td>10</td>\n",
              "      <td>48067</td>\n",
              "      <td>3408</td>\n",
              "      <td>4</td>\n",
              "      <td>978300275</td>\n",
              "      <td>2000</td>\n",
              "    </tr>\n",
              "    <tr>\n",
              "      <th>4</th>\n",
              "      <td>1</td>\n",
              "      <td>F</td>\n",
              "      <td>1</td>\n",
              "      <td>10</td>\n",
              "      <td>48067</td>\n",
              "      <td>2355</td>\n",
              "      <td>5</td>\n",
              "      <td>978824291</td>\n",
              "      <td>1998</td>\n",
              "    </tr>\n",
              "  </tbody>\n",
              "</table>\n",
              "</div>"
            ],
            "text/plain": [
              "   UserID Gender  Age  Occupation Zip-code  MovieID  Rating  Timestamp  year\n",
              "0       1      F    1          10    48067     1193       5  978300760  1975\n",
              "1       1      F    1          10    48067      661       3  978302109  1996\n",
              "2       1      F    1          10    48067      914       3  978301968  1964\n",
              "3       1      F    1          10    48067     3408       4  978300275  2000\n",
              "4       1      F    1          10    48067     2355       5  978824291  1998"
            ]
          },
          "metadata": {
            "tags": []
          },
          "execution_count": 72
        }
      ]
    },
    {
      "cell_type": "markdown",
      "metadata": {
        "id": "0lpfPbVxSy_r",
        "colab_type": "text"
      },
      "source": [
        "***2. Data cleaning (remove null values, outlier analysis, etc.***\n"
      ]
    },
    {
      "cell_type": "markdown",
      "metadata": {
        "id": "M7IIMd9ETdHL",
        "colab_type": "text"
      },
      "source": [
        "***Handling Missing values***"
      ]
    },
    {
      "cell_type": "code",
      "metadata": {
        "id": "T-Jjr8rufgig",
        "colab_type": "code",
        "colab": {
          "base_uri": "https://localhost:8080/",
          "height": 407
        },
        "outputId": "3a708d86-dd33-48d5-cfce-55f6b2420b13"
      },
      "source": [
        "#Detect Misiing or Null Values\n",
        "#Missing data percentage list\n",
        "import numpy as np\n",
        "for col in df.columns:\n",
        "    pct_missing = np.mean(df[col].isnull())\n",
        "    print('{} - {}%'.format(col, round(pct_missing*100)))\n",
        "print('\\n')\n",
        "print('Count NUll values : ')\n",
        "df.isnull().sum()"
      ],
      "execution_count": 120,
      "outputs": [
        {
          "output_type": "stream",
          "text": [
            "UserID - 0.0%\n",
            "Gender - 0.0%\n",
            "Age - 0.0%\n",
            "Occupation - 0.0%\n",
            "Zip-code - 0.0%\n",
            "MovieID - 0.0%\n",
            "Rating - 0.0%\n",
            "Timestamp - 0.0%\n",
            "Title - 0.0%\n",
            "Genres - 0.0%\n",
            "\n",
            "\n",
            "Count NUll values : \n"
          ],
          "name": "stdout"
        },
        {
          "output_type": "execute_result",
          "data": {
            "text/plain": [
              "UserID        0\n",
              "Gender        0\n",
              "Age           0\n",
              "Occupation    0\n",
              "Zip-code      0\n",
              "MovieID       0\n",
              "Rating        0\n",
              "Timestamp     0\n",
              "Title         0\n",
              "Genres        0\n",
              "dtype: int64"
            ]
          },
          "metadata": {
            "tags": []
          },
          "execution_count": 120
        }
      ]
    },
    {
      "cell_type": "markdown",
      "metadata": {
        "id": "yKd3UmhNUkfG",
        "colab_type": "text"
      },
      "source": [
        "**So in Dataset there is no any missing value*"
      ]
    },
    {
      "cell_type": "markdown",
      "metadata": {
        "id": "yuDyIB0nUy5Q",
        "colab_type": "text"
      },
      "source": [
        "***Handling Outliers***"
      ]
    },
    {
      "cell_type": "code",
      "metadata": {
        "id": "QyEy_L1ofyg_",
        "colab_type": "code",
        "colab": {
          "base_uri": "https://localhost:8080/",
          "height": 196
        },
        "outputId": "237d611a-94d5-44de-bba3-9c473845ce86"
      },
      "source": [
        "df.mode().iloc[0]"
      ],
      "execution_count": 122,
      "outputs": [
        {
          "output_type": "execute_result",
          "data": {
            "text/plain": [
              "UserID                          4169\n",
              "Gender                             M\n",
              "Age                               25\n",
              "Occupation                         4\n",
              "Zip-code                       94110\n",
              "MovieID                         2858\n",
              "Rating                             4\n",
              "Timestamp                  975528402\n",
              "Title         American Beauty (1999)\n",
              "Genres                        Comedy\n",
              "Name: 0, dtype: object"
            ]
          },
          "metadata": {
            "tags": []
          },
          "execution_count": 122
        }
      ]
    },
    {
      "cell_type": "code",
      "metadata": {
        "id": "7tIsI7uxVHBn",
        "colab_type": "code",
        "colab": {
          "base_uri": "https://localhost:8080/",
          "height": 105
        },
        "outputId": "d85865e7-e61b-4466-f4b2-393ce38345d2"
      },
      "source": [
        "Num_cols=df._get_numeric_data()\n",
        "Num_cols.head(2)"
      ],
      "execution_count": 123,
      "outputs": [
        {
          "output_type": "execute_result",
          "data": {
            "text/html": [
              "<div>\n",
              "<style scoped>\n",
              "    .dataframe tbody tr th:only-of-type {\n",
              "        vertical-align: middle;\n",
              "    }\n",
              "\n",
              "    .dataframe tbody tr th {\n",
              "        vertical-align: top;\n",
              "    }\n",
              "\n",
              "    .dataframe thead th {\n",
              "        text-align: right;\n",
              "    }\n",
              "</style>\n",
              "<table border=\"1\" class=\"dataframe\">\n",
              "  <thead>\n",
              "    <tr style=\"text-align: right;\">\n",
              "      <th></th>\n",
              "      <th>UserID</th>\n",
              "      <th>Age</th>\n",
              "      <th>Occupation</th>\n",
              "      <th>MovieID</th>\n",
              "      <th>Rating</th>\n",
              "      <th>Timestamp</th>\n",
              "    </tr>\n",
              "  </thead>\n",
              "  <tbody>\n",
              "    <tr>\n",
              "      <th>0</th>\n",
              "      <td>1</td>\n",
              "      <td>1</td>\n",
              "      <td>10</td>\n",
              "      <td>1193</td>\n",
              "      <td>5</td>\n",
              "      <td>978300760</td>\n",
              "    </tr>\n",
              "    <tr>\n",
              "      <th>1</th>\n",
              "      <td>1</td>\n",
              "      <td>1</td>\n",
              "      <td>10</td>\n",
              "      <td>661</td>\n",
              "      <td>3</td>\n",
              "      <td>978302109</td>\n",
              "    </tr>\n",
              "  </tbody>\n",
              "</table>\n",
              "</div>"
            ],
            "text/plain": [
              "   UserID  Age  Occupation  MovieID  Rating  Timestamp\n",
              "0       1    1          10     1193       5  978300760\n",
              "1       1    1          10      661       3  978302109"
            ]
          },
          "metadata": {
            "tags": []
          },
          "execution_count": 123
        }
      ]
    },
    {
      "cell_type": "code",
      "metadata": {
        "id": "YpAJ1hmd0gww",
        "colab_type": "code",
        "colab": {
          "base_uri": "https://localhost:8080/",
          "height": 131
        },
        "outputId": "9167de88-2da5-4612-b48e-60a3ab27387b"
      },
      "source": [
        "Num_F=['UserID','Age','Occupation','MovieID','Rating','Timestamp']\n",
        "df[Num_F].skew()"
      ],
      "execution_count": 125,
      "outputs": [
        {
          "output_type": "execute_result",
          "data": {
            "text/plain": [
              "UserID        0.005735\n",
              "Age           0.398471\n",
              "Occupation    0.404363\n",
              "MovieID       0.092436\n",
              "Rating       -0.553610\n",
              "Timestamp     2.765691\n",
              "dtype: float64"
            ]
          },
          "metadata": {
            "tags": []
          },
          "execution_count": 125
        }
      ]
    },
    {
      "cell_type": "markdown",
      "metadata": {
        "id": "IRIdKgLNrqD2",
        "colab_type": "text"
      },
      "source": [
        "*Here we see only Timestamp has ouliers and other features skewness is bearable"
      ]
    },
    {
      "cell_type": "code",
      "metadata": {
        "id": "Vk__UhCNoFMd",
        "colab_type": "code",
        "colab": {
          "base_uri": "https://localhost:8080/",
          "height": 292
        },
        "outputId": "3f47abe6-ece0-41cd-be03-63b0e397ba39"
      },
      "source": [
        "df.boxplot(column='Timestamp')"
      ],
      "execution_count": 126,
      "outputs": [
        {
          "output_type": "execute_result",
          "data": {
            "text/plain": [
              "<matplotlib.axes._subplots.AxesSubplot at 0x7f8c9faf95f8>"
            ]
          },
          "metadata": {
            "tags": []
          },
          "execution_count": 126
        },
        {
          "output_type": "display_data",
          "data": {
            "image/png": "[encoded data removed]",
            "text/plain": [
              "<Figure size 432x288 with 1 Axes>"
            ]
          },
          "metadata": {
            "tags": [],
            "needs_background": "light"
          }
        }
      ]
    },
    {
      "cell_type": "code",
      "metadata": {
        "id": "g8JgGs7bnQxL",
        "colab_type": "code",
        "colab": {}
      },
      "source": [
        "#IOR Treatmnet for outliers\n",
        "df['Timestamp'] = np.where(df['Timestamp'] <int(df['Timestamp'].quantile(0.05)), int(df['Timestamp'].quantile(0.1)),df['Timestamp'])\n",
        "df['Timestamp'] = np.where(df['Timestamp'] >int(df['Timestamp'].quantile(0.97)), int(df['Timestamp'].quantile(0.9)),df['Timestamp'])"
      ],
      "execution_count": 129,
      "outputs": []
    },
    {
      "cell_type": "code",
      "metadata": {
        "id": "pDJ0SRKxrR0W",
        "colab_type": "code",
        "colab": {
          "base_uri": "https://localhost:8080/",
          "height": 390
        },
        "outputId": "61a86fea-9bd2-4cc5-aad2-a5d81b872136"
      },
      "source": [
        "df.boxplot(column='Timestamp')\n",
        "df[Num_F].skew()"
      ],
      "execution_count": 130,
      "outputs": [
        {
          "output_type": "execute_result",
          "data": {
            "text/plain": [
              "UserID        0.005735\n",
              "Age           0.398471\n",
              "Occupation    0.404363\n",
              "MovieID       0.092436\n",
              "Rating       -0.553610\n",
              "Timestamp    -0.156723\n",
              "dtype: float64"
            ]
          },
          "metadata": {
            "tags": []
          },
          "execution_count": 130
        },
        {
          "output_type": "display_data",
          "data": {
            "image/png": "[encoded data removed]",
            "text/plain": [
              "<Figure size 432x288 with 1 Axes>"
            ]
          },
          "metadata": {
            "tags": [],
            "needs_background": "light"
          }
        }
      ]
    },
    {
      "cell_type": "markdown",
      "metadata": {
        "id": "SqAT71_DfCYe",
        "colab_type": "text"
      },
      "source": [
        "***3. Keeping in mind the broad categories of recommendation system algorithms, what features you will need and why?***"
      ]
    },
    {
      "cell_type": "markdown",
      "metadata": {
        "id": "UIMRc779469_",
        "colab_type": "text"
      },
      "source": [
        "*Label Encoding*"
      ]
    },
    {
      "cell_type": "code",
      "metadata": {
        "id": "7r9UivssEn7E",
        "colab_type": "code",
        "colab": {
          "base_uri": "https://localhost:8080/",
          "height": 191
        },
        "outputId": "2bcc360b-1a2a-4deb-88a4-dd5d5d9a0bf1"
      },
      "source": [
        "from sklearn.preprocessing import LabelEncoder\n",
        "le=LabelEncoder()\n",
        "df_=df.copy()\n",
        "le_df=pd.DataFrame()\n",
        "for i in list(set(df_.columns)-set(df_._get_numeric_data().columns)):\n",
        "  le_df[i]=le.fit_transform(df_[i])\n",
        "for j in list(df_._get_numeric_data().columns):\n",
        "  le_df[j]=df_[j]\n",
        "le_df.head()"
      ],
      "execution_count": 131,
      "outputs": [
        {
          "output_type": "execute_result",
          "data": {
            "text/html": [
              "<div>\n",
              "<style scoped>\n",
              "    .dataframe tbody tr th:only-of-type {\n",
              "        vertical-align: middle;\n",
              "    }\n",
              "\n",
              "    .dataframe tbody tr th {\n",
              "        vertical-align: top;\n",
              "    }\n",
              "\n",
              "    .dataframe thead th {\n",
              "        text-align: right;\n",
              "    }\n",
              "</style>\n",
              "<table border=\"1\" class=\"dataframe\">\n",
              "  <thead>\n",
              "    <tr style=\"text-align: right;\">\n",
              "      <th></th>\n",
              "      <th>Title</th>\n",
              "      <th>Genres</th>\n",
              "      <th>Gender</th>\n",
              "      <th>Zip-code</th>\n",
              "      <th>UserID</th>\n",
              "      <th>Age</th>\n",
              "      <th>Occupation</th>\n",
              "      <th>MovieID</th>\n",
              "      <th>Rating</th>\n",
              "      <th>Timestamp</th>\n",
              "    </tr>\n",
              "  </thead>\n",
              "  <tbody>\n",
              "    <tr>\n",
              "      <th>0</th>\n",
              "      <td>2452</td>\n",
              "      <td>239</td>\n",
              "      <td>0</td>\n",
              "      <td>1429</td>\n",
              "      <td>1</td>\n",
              "      <td>1</td>\n",
              "      <td>10</td>\n",
              "      <td>1193</td>\n",
              "      <td>5</td>\n",
              "      <td>978300760</td>\n",
              "    </tr>\n",
              "    <tr>\n",
              "      <th>1</th>\n",
              "      <td>1739</td>\n",
              "      <td>152</td>\n",
              "      <td>0</td>\n",
              "      <td>1429</td>\n",
              "      <td>1</td>\n",
              "      <td>1</td>\n",
              "      <td>10</td>\n",
              "      <td>661</td>\n",
              "      <td>3</td>\n",
              "      <td>978302109</td>\n",
              "    </tr>\n",
              "    <tr>\n",
              "      <th>2</th>\n",
              "      <td>2289</td>\n",
              "      <td>282</td>\n",
              "      <td>0</td>\n",
              "      <td>1429</td>\n",
              "      <td>1</td>\n",
              "      <td>1</td>\n",
              "      <td>10</td>\n",
              "      <td>914</td>\n",
              "      <td>3</td>\n",
              "      <td>978301968</td>\n",
              "    </tr>\n",
              "    <tr>\n",
              "      <th>3</th>\n",
              "      <td>1054</td>\n",
              "      <td>239</td>\n",
              "      <td>0</td>\n",
              "      <td>1429</td>\n",
              "      <td>1</td>\n",
              "      <td>1</td>\n",
              "      <td>10</td>\n",
              "      <td>3408</td>\n",
              "      <td>4</td>\n",
              "      <td>978300275</td>\n",
              "    </tr>\n",
              "    <tr>\n",
              "      <th>4</th>\n",
              "      <td>557</td>\n",
              "      <td>145</td>\n",
              "      <td>0</td>\n",
              "      <td>1429</td>\n",
              "      <td>1</td>\n",
              "      <td>1</td>\n",
              "      <td>10</td>\n",
              "      <td>2355</td>\n",
              "      <td>5</td>\n",
              "      <td>978824291</td>\n",
              "    </tr>\n",
              "  </tbody>\n",
              "</table>\n",
              "</div>"
            ],
            "text/plain": [
              "   Title  Genres  Gender  Zip-code  ...  Occupation  MovieID  Rating  Timestamp\n",
              "0   2452     239       0      1429  ...          10     1193       5  978300760\n",
              "1   1739     152       0      1429  ...          10      661       3  978302109\n",
              "2   2289     282       0      1429  ...          10      914       3  978301968\n",
              "3   1054     239       0      1429  ...          10     3408       4  978300275\n",
              "4    557     145       0      1429  ...          10     2355       5  978824291\n",
              "\n",
              "[5 rows x 10 columns]"
            ]
          },
          "metadata": {
            "tags": []
          },
          "execution_count": 131
        }
      ]
    },
    {
      "cell_type": "code",
      "metadata": {
        "id": "8Hkgs0SZF4bV",
        "colab_type": "code",
        "colab": {
          "base_uri": "https://localhost:8080/",
          "height": 191
        },
        "outputId": "a99cc18f-b82c-4116-e3d6-796e747562ec"
      },
      "source": [
        "corr = le_df.corr()\n",
        "corr.head()"
      ],
      "execution_count": 132,
      "outputs": [
        {
          "output_type": "execute_result",
          "data": {
            "text/html": [
              "<div>\n",
              "<style scoped>\n",
              "    .dataframe tbody tr th:only-of-type {\n",
              "        vertical-align: middle;\n",
              "    }\n",
              "\n",
              "    .dataframe tbody tr th {\n",
              "        vertical-align: top;\n",
              "    }\n",
              "\n",
              "    .dataframe thead th {\n",
              "        text-align: right;\n",
              "    }\n",
              "</style>\n",
              "<table border=\"1\" class=\"dataframe\">\n",
              "  <thead>\n",
              "    <tr style=\"text-align: right;\">\n",
              "      <th></th>\n",
              "      <th>Title</th>\n",
              "      <th>Genres</th>\n",
              "      <th>Gender</th>\n",
              "      <th>Zip-code</th>\n",
              "      <th>UserID</th>\n",
              "      <th>Age</th>\n",
              "      <th>Occupation</th>\n",
              "      <th>MovieID</th>\n",
              "      <th>Rating</th>\n",
              "      <th>Timestamp</th>\n",
              "    </tr>\n",
              "  </thead>\n",
              "  <tbody>\n",
              "    <tr>\n",
              "      <th>Title</th>\n",
              "      <td>1.000000</td>\n",
              "      <td>-0.063523</td>\n",
              "      <td>0.000972</td>\n",
              "      <td>0.003718</td>\n",
              "      <td>-0.000375</td>\n",
              "      <td>-0.008961</td>\n",
              "      <td>-0.000030</td>\n",
              "      <td>-0.015053</td>\n",
              "      <td>0.012247</td>\n",
              "      <td>-0.001234</td>\n",
              "    </tr>\n",
              "    <tr>\n",
              "      <th>Genres</th>\n",
              "      <td>-0.063523</td>\n",
              "      <td>1.000000</td>\n",
              "      <td>-0.073500</td>\n",
              "      <td>-0.014125</td>\n",
              "      <td>0.004665</td>\n",
              "      <td>0.059269</td>\n",
              "      <td>-0.015023</td>\n",
              "      <td>0.029295</td>\n",
              "      <td>0.060061</td>\n",
              "      <td>0.016395</td>\n",
              "    </tr>\n",
              "    <tr>\n",
              "      <th>Gender</th>\n",
              "      <td>0.000972</td>\n",
              "      <td>-0.073500</td>\n",
              "      <td>1.000000</td>\n",
              "      <td>-0.015056</td>\n",
              "      <td>-0.035042</td>\n",
              "      <td>-0.003189</td>\n",
              "      <td>0.114974</td>\n",
              "      <td>0.021626</td>\n",
              "      <td>-0.019861</td>\n",
              "      <td>0.022001</td>\n",
              "    </tr>\n",
              "    <tr>\n",
              "      <th>Zip-code</th>\n",
              "      <td>0.003718</td>\n",
              "      <td>-0.014125</td>\n",
              "      <td>-0.015056</td>\n",
              "      <td>1.000000</td>\n",
              "      <td>-0.044845</td>\n",
              "      <td>0.003513</td>\n",
              "      <td>0.035743</td>\n",
              "      <td>0.000758</td>\n",
              "      <td>0.000776</td>\n",
              "      <td>0.028769</td>\n",
              "    </tr>\n",
              "    <tr>\n",
              "      <th>UserID</th>\n",
              "      <td>-0.000375</td>\n",
              "      <td>0.004665</td>\n",
              "      <td>-0.035042</td>\n",
              "      <td>-0.044845</td>\n",
              "      <td>1.000000</td>\n",
              "      <td>0.034688</td>\n",
              "      <td>-0.026698</td>\n",
              "      <td>-0.017739</td>\n",
              "      <td>0.012303</td>\n",
              "      <td>-0.843524</td>\n",
              "    </tr>\n",
              "  </tbody>\n",
              "</table>\n",
              "</div>"
            ],
            "text/plain": [
              "             Title    Genres    Gender  ...   MovieID    Rating  Timestamp\n",
              "Title     1.000000 -0.063523  0.000972  ... -0.015053  0.012247  -0.001234\n",
              "Genres   -0.063523  1.000000 -0.073500  ...  0.029295  0.060061   0.016395\n",
              "Gender    0.000972 -0.073500  1.000000  ...  0.021626 -0.019861   0.022001\n",
              "Zip-code  0.003718 -0.014125 -0.015056  ...  0.000758  0.000776   0.028769\n",
              "UserID   -0.000375  0.004665 -0.035042  ... -0.017739  0.012303  -0.843524\n",
              "\n",
              "[5 rows x 10 columns]"
            ]
          },
          "metadata": {
            "tags": []
          },
          "execution_count": 132
        }
      ]
    },
    {
      "cell_type": "code",
      "metadata": {
        "id": "5XwvcaNAGOAP",
        "colab_type": "code",
        "colab": {
          "base_uri": "https://localhost:8080/",
          "height": 718
        },
        "outputId": "f2cadf39-0b27-4ea2-bb80-444a9e42845b"
      },
      "source": [
        "import numpy as np\n",
        "from matplotlib import pyplot as plt\n",
        "mask = np.zeros_like(corr, dtype=np.bool)\n",
        "mask[np.triu_indices_from(mask)] = True\n",
        "f, ax = plt.subplots(figsize=(15,15))\n",
        "cmap = sns.diverging_palette(220, 10, as_cmap=True)\n",
        "svm = sns.heatmap(corr, mask=mask, cmap=cmap, center=0,\n",
        "            square=True, linewidths=.5, cbar_kws={\"shrink\": .5})\n",
        "figure = svm.get_figure()"
      ],
      "execution_count": 136,
      "outputs": [
        {
          "output_type": "display_data",
          "data": {
            "image/png": "[encoded data removed]",
            "text/plain": [
              "<Figure size 1080x1080 with 2 Axes>"
            ]
          },
          "metadata": {
            "tags": [],
            "needs_background": "light"
          }
        }
      ]
    },
    {
      "cell_type": "markdown",
      "metadata": {
        "id": "n7HDituU5Suh",
        "colab_type": "text"
      },
      "source": [
        "***Infences:***\n",
        "*   A score closer to 1 or -1 is a positive or negative relationship. A perfect score of 1 is a direct correlation.\n",
        "*  in this heat map very light pink means positive, dark voilet means negative. The stronger the color, the larger the correlation magnitude.\n",
        "*  So by analyzing the above heatmap and correlation matrix ***Timestamp*** and ***Zip-code*** has very negative value ***(-0.843524) ,(-0.044845)*** and it goes on -1 side it negative correlation with other so we can think about to Drop it from dataset because it not contribute much information as comapare to others.\n",
        "\n",
        "*  And also if think about categories of recommendatiomns systems both are not contribute much as we need Because in ***Content Based Filtering*** we needs user related information which relate it to recommend movies and ***Collaborative filtering*** is based on the assumption that people who agreed in the past will agree in the future and that they will like similar kind of objects as they liked in the past So according to this scenario we don\"t need these features."
      ]
    },
    {
      "cell_type": "markdown",
      "metadata": {
        "colab_type": "text",
        "id": "Hr7RzOBp4qbq"
      },
      "source": [
        "***1. What does the data mean?***"
      ]
    },
    {
      "cell_type": "markdown",
      "metadata": {
        "id": "KSFS0p2y52tY",
        "colab_type": "text"
      },
      "source": [
        "It is MovieLens 1M Dataset provided by **Grouplenc.org.**\n",
        "here 1,000,209 user ratings of 3883 movies \n",
        "made by 6,040 users.\n",
        "\n",
        "Here we have 3 diffrent datasets:\n",
        "* **Movies Dataset:** It contains following columns\n",
        "  *  MovieID: Each movies has a Unique ID \n",
        "  *  Title: Titles(Name) of Movies\n",
        "  *  Genres: Category of Movies(like: Drama, Comedy, Action etc..)\n",
        "  *  **Shape** : (3883,3)\n",
        "\n",
        "* **User Datasets:** It Contains following\n",
        "  *  UserID: Each user who rate the movies has an unique ID\n",
        "  *  Age: Age of user (*1*:\"Under 18\", *18*:\"18-24\", *25*:\"25-34\", *35*:\"35-44\", *45*:\"45-49\", *50*:\"50-55, *56*:\"56+\")\n",
        "  *  Gender: User'Gender(M or F)\n",
        "  *  Occupation: It ranges(0-20) each number has represent Occupation of a particular of a User\n",
        "  *   Zip-code: Area or Zip code of a user\n",
        "  *  **Shape:** (6040,5)\n",
        "\n",
        "* **Rating Datasets:**\n",
        "  *  UserIDs: ranges(1 to 6040)\n",
        "  *  MovieIDs: range between 1 and 3952\n",
        "  *  Ratings:   1-5-star rating by user\n",
        "  *  Timestamp: Represented the time mentioned in seconds when the rating was provided\n",
        "  *  **Shape:** (1000209,4)\n",
        "\n",
        "\n",
        "*  All these datasets merge in dataframe based on common column between them,merged datasets **Shape** is **(1000209,10)**\n",
        "    *  so by using this large dataset we train our model\n",
        "    and apply it to make a good recommendation system\n",
        "It shows that one user rate more tFhen one movies so these rows increased\n",
        "    *  By above analysis the User most like **Drama** and **Comedy** Genres's Movies.\n",
        "\n",
        "    *  And there is school/grade_student watched the movies mostly.\n",
        "\n"
      ]
    }
  ]
}