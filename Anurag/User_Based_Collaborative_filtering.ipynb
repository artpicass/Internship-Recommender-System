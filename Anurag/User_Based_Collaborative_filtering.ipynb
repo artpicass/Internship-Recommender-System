{
  "nbformat": 4,
  "nbformat_minor": 0,
  "metadata": {
    "colab": {
      "name": "User Based_Collaborative filtering.ipynb",
      "provenance": [],
      "collapsed_sections": [],
      "toc_visible": true
    },
    "kernelspec": {
      "name": "python3",
      "display_name": "Python 3"
    },
    "accelerator": "GPU"
  },
  "cells": [
    {
      "cell_type": "markdown",
      "metadata": {
        "id": "lAvEtB67n6Nz",
        "colab_type": "text"
      },
      "source": [
        "***ANURAG***"
      ]
    },
    {
      "cell_type": "markdown",
      "metadata": {
        "id": "2pKaYxXarf8Q",
        "colab_type": "text"
      },
      "source": [
        "Collaborative based filtering\n",
        "1. User based approach (go through various techniques like SVD, etc.)\n"
      ]
    },
    {
      "cell_type": "code",
      "metadata": {
        "id": "yWQrKABNqClW",
        "colab_type": "code",
        "colab": {
          "base_uri": "https://localhost:8080/",
          "height": 121
        },
        "outputId": "3aa2c4b1-7468-4f0a-d142-d6fe6f30026e"
      },
      "source": [
        "import pandas as pd\n",
        "import seaborn as sns\n",
        "import matplotlib.pyplot as plt\n",
        "import numpy as np\n",
        "!pip install surprise\n",
        "import surprise\n",
        "from collections import defaultdict\n",
        "from sklearn.metrics.pairwise import cosine_similarity\n",
        "from surprise.model_selection import GridSearchCV\n",
        "from surprise import accuracy\n",
        "from surprise.model_selection import train_test_split\n",
        "from surprise import Reader, Dataset, SVD, model_selection"
      ],
      "execution_count": 2,
      "outputs": [
        {
          "output_type": "stream",
          "text": [
            "Requirement already satisfied: surprise in /usr/local/lib/python3.6/dist-packages (0.1)\n",
            "Requirement already satisfied: scikit-surprise in /usr/local/lib/python3.6/dist-packages (from surprise) (1.1.0)\n",
            "Requirement already satisfied: joblib>=0.11 in /usr/local/lib/python3.6/dist-packages (from scikit-surprise->surprise) (0.15.1)\n",
            "Requirement already satisfied: scipy>=1.0.0 in /usr/local/lib/python3.6/dist-packages (from scikit-surprise->surprise) (1.4.1)\n",
            "Requirement already satisfied: six>=1.10.0 in /usr/local/lib/python3.6/dist-packages (from scikit-surprise->surprise) (1.12.0)\n",
            "Requirement already satisfied: numpy>=1.11.2 in /usr/local/lib/python3.6/dist-packages (from scikit-surprise->surprise) (1.18.5)\n"
          ],
          "name": "stdout"
        }
      ]
    },
    {
      "cell_type": "code",
      "metadata": {
        "id": "H5_VHAsLqkD7",
        "colab_type": "code",
        "colab": {}
      },
      "source": [
        "ratings=pd.read_csv('/content/drive/My Drive/datasets/Ratings .csv')\n",
        "movies=pd.read_csv('/content/drive/My Drive/datasets/movies.csv')\n",
        "userdata=pd.read_csv('/content/drive/My Drive/datasets/user_data.csv')"
      ],
      "execution_count": 3,
      "outputs": []
    },
    {
      "cell_type": "code",
      "metadata": {
        "id": "wpJP2aReqmMP",
        "colab_type": "code",
        "colab": {
          "base_uri": "https://localhost:8080/",
          "height": 69
        },
        "outputId": "3a2f5825-244f-4df3-dc78-d68925a51d5f"
      },
      "source": [
        "print('shape of ratings dataset ::',ratings.shape)\n",
        "print('shape of movies dataset ::',movies.shape)\n",
        "print('shape of userdata dataset ::',userdata.shape)"
      ],
      "execution_count": null,
      "outputs": [
        {
          "output_type": "stream",
          "text": [
            "shape of ratings dataset :: (1000209, 4)\n",
            "shape of movies dataset :: (3883, 3)\n",
            "shape of userdata dataset :: (6040, 5)\n"
          ],
          "name": "stdout"
        }
      ]
    },
    {
      "cell_type": "code",
      "metadata": {
        "id": "5sEzsa4lqq3V",
        "colab_type": "code",
        "colab": {}
      },
      "source": [
        "#merge datasets:: ratings,movies and userdata\n",
        "d=pd.merge(userdata,ratings,on='UserID',how='left')\n",
        "df=pd.merge(d,movies,on='MovieID',how='left')"
      ],
      "execution_count": 4,
      "outputs": []
    },
    {
      "cell_type": "code",
      "metadata": {
        "id": "QCViTOLVrA7i",
        "colab_type": "code",
        "colab": {}
      },
      "source": [
        "split_data,split_data.Genres = df.iloc[[i   for i,j in enumerate(df['Genres']) for value in j.split(\"|\")] , :],[value for i in df['Genres'] for value in i.split(\"|\")]\n",
        "split_data.head(10)"
      ],
      "execution_count": null,
      "outputs": []
    },
    {
      "cell_type": "markdown",
      "metadata": {
        "id": "yPF-VAPq8LGl",
        "colab_type": "text"
      },
      "source": [
        "***Experiment with Surprise SVD***"
      ]
    },
    {
      "cell_type": "code",
      "metadata": {
        "id": "GrULi7Avf5dz",
        "colab_type": "code",
        "colab": {}
      },
      "source": [
        "d = pd.read_csv('/content/drive/My Drive/datasets/Ratings .csv')\n",
        "reader = Reader()\n",
        "data = Dataset.load_from_df(d[['UserID', 'MovieID', 'Rating']], reader)"
      ],
      "execution_count": 5,
      "outputs": []
    },
    {
      "cell_type": "code",
      "metadata": {
        "id": "WR0zP3aexrLk",
        "colab_type": "code",
        "colab": {
          "base_uri": "https://localhost:8080/",
          "height": 242
        },
        "outputId": "e6687740-f4b2-4951-ed54-f6cfa9c1e74f"
      },
      "source": [
        "svd = SVD()\n",
        "print(\"CROSS VALIDATING THE DATASET\", '\\n')\n",
        "model_selection.cross_validate(svd, data, measures=['rmse'],cv=5, verbose=True)\n",
        "print(\"DONE CROSS VALIDATING THE DATASET\",'\\n')\n",
        "\n",
        "print(\"TRAINING THE MODEL\")\n",
        "trainset = data.build_full_trainset()\n",
        "sd=svd.fit(trainset)\n",
        "print(\"DONE TRAINING THE MODEL\", '\\n')"
      ],
      "execution_count": null,
      "outputs": [
        {
          "output_type": "stream",
          "text": [
            "CROSS VALIDATING THE DATASET \n",
            "\n",
            "Evaluating RMSE of algorithm SVD on 5 split(s).\n",
            "\n",
            "                  Fold 1  Fold 2  Fold 3  Fold 4  Fold 5  Mean    Std     \n",
            "RMSE (testset)    0.8732  0.8718  0.8766  0.8744  0.8738  0.8740  0.0016  \n",
            "Fit time          49.13   49.73   49.70   50.39   49.34   49.66   0.43    \n",
            "Test time         1.80    1.65    1.67    1.70    1.67    1.70    0.05    \n",
            "DONE CROSS VALIDATING THE DATASET \n",
            "\n",
            "TRAINING THE MODEL\n",
            "DONE TRAINING THE MODEL \n",
            "\n"
          ],
          "name": "stdout"
        }
      ]
    },
    {
      "cell_type": "code",
      "metadata": {
        "id": "jGdwhATwOgOm",
        "colab_type": "code",
        "colab": {
          "base_uri": "https://localhost:8080/",
          "height": 34
        },
        "outputId": "40f5aecd-2bf6-4528-af08-25512d2962c2"
      },
      "source": [
        "#predict rating\n",
        "y=[ ]\n",
        "for i in range(1,6040):\n",
        "  for j in range(1,3700):\n",
        "    y.append(sd.predict(uid=i, iid=j, r_ui=1))\n",
        "len(y)"
      ],
      "execution_count": null,
      "outputs": [
        {
          "output_type": "execute_result",
          "data": {
            "text/plain": [
              "22338261"
            ]
          },
          "metadata": {
            "tags": []
          },
          "execution_count": 8
        }
      ]
    },
    {
      "cell_type": "code",
      "metadata": {
        "id": "EkDWo3rvMe3Z",
        "colab_type": "code",
        "colab": {
          "base_uri": "https://localhost:8080/",
          "height": 202
        },
        "outputId": "952090ed-d77a-48f3-806f-c23ccfa6b781"
      },
      "source": [
        "e=pd.DataFrame(y)\n",
        "e.head()"
      ],
      "execution_count": null,
      "outputs": [
        {
          "output_type": "execute_result",
          "data": {
            "text/html": [
              "<div>\n",
              "<style scoped>\n",
              "    .dataframe tbody tr th:only-of-type {\n",
              "        vertical-align: middle;\n",
              "    }\n",
              "\n",
              "    .dataframe tbody tr th {\n",
              "        vertical-align: top;\n",
              "    }\n",
              "\n",
              "    .dataframe thead th {\n",
              "        text-align: right;\n",
              "    }\n",
              "</style>\n",
              "<table border=\"1\" class=\"dataframe\">\n",
              "  <thead>\n",
              "    <tr style=\"text-align: right;\">\n",
              "      <th></th>\n",
              "      <th>uid</th>\n",
              "      <th>iid</th>\n",
              "      <th>r_ui</th>\n",
              "      <th>est</th>\n",
              "      <th>details</th>\n",
              "    </tr>\n",
              "  </thead>\n",
              "  <tbody>\n",
              "    <tr>\n",
              "      <th>0</th>\n",
              "      <td>1</td>\n",
              "      <td>1</td>\n",
              "      <td>1</td>\n",
              "      <td>4.419962</td>\n",
              "      <td>{'was_impossible': False}</td>\n",
              "    </tr>\n",
              "    <tr>\n",
              "      <th>1</th>\n",
              "      <td>1</td>\n",
              "      <td>2</td>\n",
              "      <td>1</td>\n",
              "      <td>3.605446</td>\n",
              "      <td>{'was_impossible': False}</td>\n",
              "    </tr>\n",
              "    <tr>\n",
              "      <th>2</th>\n",
              "      <td>1</td>\n",
              "      <td>3</td>\n",
              "      <td>1</td>\n",
              "      <td>3.481897</td>\n",
              "      <td>{'was_impossible': False}</td>\n",
              "    </tr>\n",
              "    <tr>\n",
              "      <th>3</th>\n",
              "      <td>1</td>\n",
              "      <td>4</td>\n",
              "      <td>1</td>\n",
              "      <td>2.934002</td>\n",
              "      <td>{'was_impossible': False}</td>\n",
              "    </tr>\n",
              "    <tr>\n",
              "      <th>4</th>\n",
              "      <td>1</td>\n",
              "      <td>5</td>\n",
              "      <td>1</td>\n",
              "      <td>3.370183</td>\n",
              "      <td>{'was_impossible': False}</td>\n",
              "    </tr>\n",
              "  </tbody>\n",
              "</table>\n",
              "</div>"
            ],
            "text/plain": [
              "   uid  iid  r_ui       est                    details\n",
              "0    1    1     1  4.419962  {'was_impossible': False}\n",
              "1    1    2     1  3.605446  {'was_impossible': False}\n",
              "2    1    3     1  3.481897  {'was_impossible': False}\n",
              "3    1    4     1  2.934002  {'was_impossible': False}\n",
              "4    1    5     1  3.370183  {'was_impossible': False}"
            ]
          },
          "metadata": {
            "tags": []
          },
          "execution_count": 9
        }
      ]
    },
    {
      "cell_type": "code",
      "metadata": {
        "id": "6GTSi_NGsvhc",
        "colab_type": "code",
        "colab": {}
      },
      "source": [
        "trainset, testset = train_test_split(data, test_size =.25)\n",
        "predictions = svd.fit(trainset).test(testset)"
      ],
      "execution_count": null,
      "outputs": []
    },
    {
      "cell_type": "code",
      "metadata": {
        "id": "0ncQUl8hmwZD",
        "colab_type": "code",
        "colab": {
          "base_uri": "https://localhost:8080/",
          "height": 52
        },
        "outputId": "c6822f43-cd2a-4808-e186-1c25e1b3e7b0"
      },
      "source": [
        "accuracy.rmse(predictions)"
      ],
      "execution_count": null,
      "outputs": [
        {
          "output_type": "stream",
          "text": [
            "RMSE: 0.8761\n"
          ],
          "name": "stdout"
        },
        {
          "output_type": "execute_result",
          "data": {
            "text/plain": [
              "0.8761252657385575"
            ]
          },
          "metadata": {
            "tags": []
          },
          "execution_count": 12
        }
      ]
    },
    {
      "cell_type": "code",
      "metadata": {
        "id": "o1XP7s1kiwoG",
        "colab_type": "code",
        "colab": {
          "base_uri": "https://localhost:8080/",
          "height": 34
        },
        "outputId": "0a09aae3-2304-4123-e7fe-ea425dd75387"
      },
      "source": [
        "df1=pd.DataFrame(predictions)\n",
        "df1.shape"
      ],
      "execution_count": null,
      "outputs": [
        {
          "output_type": "execute_result",
          "data": {
            "text/plain": [
              "(250053, 5)"
            ]
          },
          "metadata": {
            "tags": []
          },
          "execution_count": 20
        }
      ]
    },
    {
      "cell_type": "code",
      "metadata": {
        "id": "BqlqcOaLJj8H",
        "colab_type": "code",
        "colab": {}
      },
      "source": [
        "def recommend(userid_, n):\n",
        "  f=e.loc[e[(e.uid==userid_)].est.sort_values(ascending=False).index][:n].iid.tolist()\n",
        "  p=movies.loc[movies[movies.MovieID.isin(f)].index]\n",
        "  k = ratings.loc[ratings[(ratings.UserID==userid_)].index]['MovieID'].tolist()\n",
        "  return p.loc[p[~p.MovieID.isin(k)].index]\n",
        "  #return p"
      ],
      "execution_count": null,
      "outputs": []
    },
    {
      "cell_type": "code",
      "metadata": {
        "id": "aAjQIu-Ms-uG",
        "colab_type": "code",
        "colab": {
          "base_uri": "https://localhost:8080/",
          "height": 34
        },
        "outputId": "21cf211b-950b-42fb-ae19-674c6c73debd"
      },
      "source": [
        "u=df.loc[df[(df.UserID==1)].index]['Genres']\n",
        "u.mode()\n",
        "u2=u1.loc[u1.index]['Genres']\n",
        "u2.mode().iloc[0]"
      ],
      "execution_count": null,
      "outputs": [
        {
          "output_type": "execute_result",
          "data": {
            "application/vnd.google.colaboratory.intrinsic": {
              "type": "string"
            },
            "text/plain": [
              "'Drama'"
            ]
          },
          "metadata": {
            "tags": []
          },
          "execution_count": 74
        }
      ]
    },
    {
      "cell_type": "code",
      "metadata": {
        "id": "nSunbkWwnXPn",
        "colab_type": "code",
        "colab": {
          "base_uri": "https://localhost:8080/",
          "height": 417
        },
        "outputId": "be01d786-493e-4101-d111-a929a379ee3d"
      },
      "source": [
        "recommend(1, 15)"
      ],
      "execution_count": null,
      "outputs": [
        {
          "output_type": "execute_result",
          "data": {
            "text/html": [
              "<div>\n",
              "<style scoped>\n",
              "    .dataframe tbody tr th:only-of-type {\n",
              "        vertical-align: middle;\n",
              "    }\n",
              "\n",
              "    .dataframe tbody tr th {\n",
              "        vertical-align: top;\n",
              "    }\n",
              "\n",
              "    .dataframe thead th {\n",
              "        text-align: right;\n",
              "    }\n",
              "</style>\n",
              "<table border=\"1\" class=\"dataframe\">\n",
              "  <thead>\n",
              "    <tr style=\"text-align: right;\">\n",
              "      <th></th>\n",
              "      <th>MovieID</th>\n",
              "      <th>Title</th>\n",
              "      <th>Genres</th>\n",
              "    </tr>\n",
              "  </thead>\n",
              "  <tbody>\n",
              "    <tr>\n",
              "      <th>49</th>\n",
              "      <td>50</td>\n",
              "      <td>Usual Suspects, The (1995)</td>\n",
              "      <td>Crime|Thriller</td>\n",
              "    </tr>\n",
              "    <tr>\n",
              "      <th>108</th>\n",
              "      <td>110</td>\n",
              "      <td>Braveheart (1995)</td>\n",
              "      <td>Action|Drama|War</td>\n",
              "    </tr>\n",
              "    <tr>\n",
              "      <th>293</th>\n",
              "      <td>296</td>\n",
              "      <td>Pulp Fiction (1994)</td>\n",
              "      <td>Crime|Drama</td>\n",
              "    </tr>\n",
              "    <tr>\n",
              "      <th>315</th>\n",
              "      <td>318</td>\n",
              "      <td>Shawshank Redemption, The (1994)</td>\n",
              "      <td>Drama</td>\n",
              "    </tr>\n",
              "    <tr>\n",
              "      <th>589</th>\n",
              "      <td>593</td>\n",
              "      <td>Silence of the Lambs, The (1991)</td>\n",
              "      <td>Drama|Thriller</td>\n",
              "    </tr>\n",
              "    <tr>\n",
              "      <th>643</th>\n",
              "      <td>649</td>\n",
              "      <td>Cold Fever (� k�ldum klaka) (1994)</td>\n",
              "      <td>Comedy|Drama</td>\n",
              "    </tr>\n",
              "    <tr>\n",
              "      <th>941</th>\n",
              "      <td>953</td>\n",
              "      <td>It's a Wonderful Life (1946)</td>\n",
              "      <td>Drama</td>\n",
              "    </tr>\n",
              "    <tr>\n",
              "      <th>1222</th>\n",
              "      <td>1242</td>\n",
              "      <td>Glory (1989)</td>\n",
              "      <td>Action|Drama|War</td>\n",
              "    </tr>\n",
              "    <tr>\n",
              "      <th>1854</th>\n",
              "      <td>1923</td>\n",
              "      <td>There's Something About Mary (1998)</td>\n",
              "      <td>Comedy</td>\n",
              "    </tr>\n",
              "    <tr>\n",
              "      <th>2255</th>\n",
              "      <td>2324</td>\n",
              "      <td>Life Is Beautiful (La Vita � bella) (1997)</td>\n",
              "      <td>Comedy|Drama</td>\n",
              "    </tr>\n",
              "    <tr>\n",
              "      <th>2260</th>\n",
              "      <td>2329</td>\n",
              "      <td>American History X (1998)</td>\n",
              "      <td>Drama</td>\n",
              "    </tr>\n",
              "    <tr>\n",
              "      <th>2836</th>\n",
              "      <td>2905</td>\n",
              "      <td>Sanjuro (1962)</td>\n",
              "      <td>Action|Adventure</td>\n",
              "    </tr>\n",
              "  </tbody>\n",
              "</table>\n",
              "</div>"
            ],
            "text/plain": [
              "      MovieID                                       Title            Genres\n",
              "49         50                  Usual Suspects, The (1995)    Crime|Thriller\n",
              "108       110                           Braveheart (1995)  Action|Drama|War\n",
              "293       296                         Pulp Fiction (1994)       Crime|Drama\n",
              "315       318            Shawshank Redemption, The (1994)             Drama\n",
              "589       593            Silence of the Lambs, The (1991)    Drama|Thriller\n",
              "643       649          Cold Fever (� k�ldum klaka) (1994)      Comedy|Drama\n",
              "941       953                It's a Wonderful Life (1946)             Drama\n",
              "1222     1242                                Glory (1989)  Action|Drama|War\n",
              "1854     1923         There's Something About Mary (1998)            Comedy\n",
              "2255     2324  Life Is Beautiful (La Vita � bella) (1997)      Comedy|Drama\n",
              "2260     2329                   American History X (1998)             Drama\n",
              "2836     2905                              Sanjuro (1962)  Action|Adventure"
            ]
          },
          "metadata": {
            "tags": []
          },
          "execution_count": 16
        }
      ]
    },
    {
      "cell_type": "code",
      "metadata": {
        "id": "4BgO5Tjlmwqq",
        "colab_type": "code",
        "colab": {}
      },
      "source": [
        "\n",
        "# def get_top_n(predictions, n=10):\n",
        "    # First map the predictions to each user.\n",
        "    # top_n = defaultdict(list)\n",
        "    # for uid, iid, true_r, est, _ in predictions:\n",
        "        # top_n[uid].append((iid, est))\n",
        "    # Then sort the predictions for each user and retrieve the k highest ones.\n",
        "    # for uid, user_ratings in top_n.items():\n",
        "        # user_ratings.sort(key=lambda x: x[1], reverse=True)\n",
        "        # top_n[uid] = user_ratings[:n]\n",
        "    # return top_n"
      ],
      "execution_count": null,
      "outputs": []
    },
    {
      "cell_type": "code",
      "metadata": {
        "id": "K4eKx4s2rkwY",
        "colab_type": "code",
        "colab": {}
      },
      "source": [
        "top_n = get_top_n(predictions, n=8)\n",
        "#Print the recommended items for each user\n",
        "print(\"PRINTING RECOMMENDATION\")\n",
        "for uid, user_ratings in top_n.items():\n",
        "    print(uid, [iid for (iid, _) in user_ratings])"
      ],
      "execution_count": null,
      "outputs": []
    },
    {
      "cell_type": "markdown",
      "metadata": {
        "id": "tpjHmHDw_tnY",
        "colab_type": "text"
      },
      "source": [
        "\n",
        "\n",
        "***USER BASED COLLABORATIVE USING NMF(Non-negative Matrix Factorization.) Surprise***"
      ]
    },
    {
      "cell_type": "code",
      "metadata": {
        "id": "hQwp2ouD5TBY",
        "colab_type": "code",
        "colab": {
          "base_uri": "https://localhost:8080/",
          "height": 242
        },
        "outputId": "33084993-3112-4c9c-8c5f-ebce5a13e9ac"
      },
      "source": [
        "from surprise import NMF\n",
        "nmf= NMF()\n",
        "print(\"CROSS VALIDATING THE DATASET\", '\\n')\n",
        "model_selection.cross_validate(nmf, data, measures=['rmse'],cv=5, verbose=True)\n",
        "print(\"DONE CROSS VALIDATING THE DATASET\",'\\n')\n",
        "\n",
        "print(\"TRAINING THE MODEL\")\n",
        "trainset = data.build_full_trainset()\n",
        "nmf.fit(trainset)\n",
        "print(\"DONE TRAINING THE MODEL\", '\\n')"
      ],
      "execution_count": 7,
      "outputs": [
        {
          "output_type": "stream",
          "text": [
            "CROSS VALIDATING THE DATASET \n",
            "\n",
            "Evaluating RMSE of algorithm NMF on 5 split(s).\n",
            "\n",
            "                  Fold 1  Fold 2  Fold 3  Fold 4  Fold 5  Mean    Std     \n",
            "RMSE (testset)    0.9191  0.9180  0.9149  0.9161  0.9154  0.9167  0.0016  \n",
            "Fit time          55.69   56.28   56.11   55.54   55.17   55.76   0.40    \n",
            "Test time         2.26    2.20    2.57    1.87    2.21    2.22    0.22    \n",
            "DONE CROSS VALIDATING THE DATASET \n",
            "\n",
            "TRAINING THE MODEL\n",
            "DONE TRAINING THE MODEL \n",
            "\n"
          ],
          "name": "stdout"
        }
      ]
    },
    {
      "cell_type": "code",
      "metadata": {
        "id": "0RHqTPg9dM41",
        "colab_type": "code",
        "colab": {}
      },
      "source": [
        "trainset, testset = train_test_split(data, test_size =.25)\n",
        "predictions = nmf.fit(trainset).test(testset)"
      ],
      "execution_count": 8,
      "outputs": []
    },
    {
      "cell_type": "code",
      "metadata": {
        "id": "GZfkW6Tr3VON",
        "colab_type": "code",
        "colab": {
          "base_uri": "https://localhost:8080/",
          "height": 52
        },
        "outputId": "fea9ea60-0e65-4b03-e4a3-b11bd0648cc0"
      },
      "source": [
        "accuracy.rmse(predictions)"
      ],
      "execution_count": 53,
      "outputs": [
        {
          "output_type": "stream",
          "text": [
            "RMSE: 0.9171\n"
          ],
          "name": "stdout"
        },
        {
          "output_type": "execute_result",
          "data": {
            "text/plain": [
              "0.9171131575150564"
            ]
          },
          "metadata": {
            "tags": []
          },
          "execution_count": 53
        }
      ]
    },
    {
      "cell_type": "code",
      "metadata": {
        "id": "zqaOM_HhfzNs",
        "colab_type": "code",
        "colab": {
          "base_uri": "https://localhost:8080/",
          "height": 34
        },
        "outputId": "978d3575-8a30-4475-f5a5-35ccdf419f8a"
      },
      "source": [
        "df1=pd.DataFrame(predictions)\n",
        "df1.shape"
      ],
      "execution_count": 9,
      "outputs": [
        {
          "output_type": "execute_result",
          "data": {
            "text/plain": [
              "(250053, 5)"
            ]
          },
          "metadata": {
            "tags": []
          },
          "execution_count": 9
        }
      ]
    },
    {
      "cell_type": "code",
      "metadata": {
        "id": "GsGGCkUtgZiV",
        "colab_type": "code",
        "colab": {}
      },
      "source": [
        "def recommend(userid_, n):\n",
        "  f=e1.loc[e1[(e1.uid==userid_)].est.sort_values(ascending=False).index][:n].iid.tolist()\n",
        "  p=movies.loc[movies[movies.MovieID.isin(f)].index]\n",
        "  k = ratings.loc[ratings[(ratings.UserID==userid_)].index]['MovieID'].tolist()\n",
        "  return p.loc[p[~p.MovieID.isin(k)].index]\n",
        "  #return p"
      ],
      "execution_count": null,
      "outputs": []
    },
    {
      "cell_type": "code",
      "metadata": {
        "id": "yTXJvbYcXhFh",
        "colab_type": "code",
        "colab": {
          "base_uri": "https://localhost:8080/",
          "height": 34
        },
        "outputId": "0a52ac97-7e7e-4c08-afbf-e482f19c1cb4"
      },
      "source": [
        "y1=[]\n",
        "for i in range(1,len(userdata)):\n",
        "  for j in range(1,len(movies)):\n",
        "    y1.append(nmf.predict(uid=i, iid=j, r_ui=1))\n",
        "len(y1)"
      ],
      "execution_count": null,
      "outputs": [
        {
          "output_type": "execute_result",
          "data": {
            "text/plain": [
              "23443398"
            ]
          },
          "metadata": {
            "tags": []
          },
          "execution_count": 8
        }
      ]
    },
    {
      "cell_type": "code",
      "metadata": {
        "id": "L2Z2tf-XdAPc",
        "colab_type": "code",
        "colab": {}
      },
      "source": [
        "e1=pd.DataFrame(y1)\n",
        "e1.head()"
      ],
      "execution_count": null,
      "outputs": []
    },
    {
      "cell_type": "code",
      "metadata": {
        "id": "CCBysz_IVBln",
        "colab_type": "code",
        "colab": {
          "base_uri": "https://localhost:8080/",
          "height": 509
        },
        "outputId": "7c162a6e-d579-485f-b327-17d84cef37c4"
      },
      "source": [
        "recommend(1,15)"
      ],
      "execution_count": null,
      "outputs": [
        {
          "output_type": "execute_result",
          "data": {
            "text/html": [
              "<div>\n",
              "<style scoped>\n",
              "    .dataframe tbody tr th:only-of-type {\n",
              "        vertical-align: middle;\n",
              "    }\n",
              "\n",
              "    .dataframe tbody tr th {\n",
              "        vertical-align: top;\n",
              "    }\n",
              "\n",
              "    .dataframe thead th {\n",
              "        text-align: right;\n",
              "    }\n",
              "</style>\n",
              "<table border=\"1\" class=\"dataframe\">\n",
              "  <thead>\n",
              "    <tr style=\"text-align: right;\">\n",
              "      <th></th>\n",
              "      <th>MovieID</th>\n",
              "      <th>Title</th>\n",
              "      <th>Genres</th>\n",
              "    </tr>\n",
              "  </thead>\n",
              "  <tbody>\n",
              "    <tr>\n",
              "      <th>27</th>\n",
              "      <td>28</td>\n",
              "      <td>Persuasion (1995)</td>\n",
              "      <td>Romance</td>\n",
              "    </tr>\n",
              "    <tr>\n",
              "      <th>28</th>\n",
              "      <td>29</td>\n",
              "      <td>City of Lost Children, The (1995)</td>\n",
              "      <td>Adventure|Sci-Fi</td>\n",
              "    </tr>\n",
              "    <tr>\n",
              "      <th>29</th>\n",
              "      <td>30</td>\n",
              "      <td>Shanghai Triad (Yao a yao yao dao waipo qiao) ...</td>\n",
              "      <td>Drama</td>\n",
              "    </tr>\n",
              "    <tr>\n",
              "      <th>31</th>\n",
              "      <td>32</td>\n",
              "      <td>Twelve Monkeys (1995)</td>\n",
              "      <td>Drama|Sci-Fi</td>\n",
              "    </tr>\n",
              "    <tr>\n",
              "      <th>36</th>\n",
              "      <td>37</td>\n",
              "      <td>Across the Sea of Time (1995)</td>\n",
              "      <td>Documentary</td>\n",
              "    </tr>\n",
              "    <tr>\n",
              "      <th>40</th>\n",
              "      <td>41</td>\n",
              "      <td>Richard III (1995)</td>\n",
              "      <td>Drama|War</td>\n",
              "    </tr>\n",
              "    <tr>\n",
              "      <th>46</th>\n",
              "      <td>47</td>\n",
              "      <td>Seven (Se7en) (1995)</td>\n",
              "      <td>Crime|Thriller</td>\n",
              "    </tr>\n",
              "    <tr>\n",
              "      <th>48</th>\n",
              "      <td>49</td>\n",
              "      <td>When Night Is Falling (1995)</td>\n",
              "      <td>Drama|Romance</td>\n",
              "    </tr>\n",
              "    <tr>\n",
              "      <th>49</th>\n",
              "      <td>50</td>\n",
              "      <td>Usual Suspects, The (1995)</td>\n",
              "      <td>Crime|Thriller</td>\n",
              "    </tr>\n",
              "    <tr>\n",
              "      <th>52</th>\n",
              "      <td>53</td>\n",
              "      <td>Lamerica (1994)</td>\n",
              "      <td>Drama</td>\n",
              "    </tr>\n",
              "    <tr>\n",
              "      <th>57</th>\n",
              "      <td>58</td>\n",
              "      <td>Postino, Il (The Postman) (1994)</td>\n",
              "      <td>Drama|Romance</td>\n",
              "    </tr>\n",
              "    <tr>\n",
              "      <th>76</th>\n",
              "      <td>77</td>\n",
              "      <td>Nico Icon (1995)</td>\n",
              "      <td>Documentary</td>\n",
              "    </tr>\n",
              "    <tr>\n",
              "      <th>92</th>\n",
              "      <td>94</td>\n",
              "      <td>Beautiful Girls (1996)</td>\n",
              "      <td>Drama</td>\n",
              "    </tr>\n",
              "    <tr>\n",
              "      <th>94</th>\n",
              "      <td>96</td>\n",
              "      <td>In the Bleak Midwinter (1995)</td>\n",
              "      <td>Comedy</td>\n",
              "    </tr>\n",
              "    <tr>\n",
              "      <th>95</th>\n",
              "      <td>97</td>\n",
              "      <td>Hate (Haine, La) (1995)</td>\n",
              "      <td>Drama</td>\n",
              "    </tr>\n",
              "  </tbody>\n",
              "</table>\n",
              "</div>"
            ],
            "text/plain": [
              "    MovieID  ...            Genres\n",
              "27       28  ...           Romance\n",
              "28       29  ...  Adventure|Sci-Fi\n",
              "29       30  ...             Drama\n",
              "31       32  ...      Drama|Sci-Fi\n",
              "36       37  ...       Documentary\n",
              "40       41  ...         Drama|War\n",
              "46       47  ...    Crime|Thriller\n",
              "48       49  ...     Drama|Romance\n",
              "49       50  ...    Crime|Thriller\n",
              "52       53  ...             Drama\n",
              "57       58  ...     Drama|Romance\n",
              "76       77  ...       Documentary\n",
              "92       94  ...             Drama\n",
              "94       96  ...            Comedy\n",
              "95       97  ...             Drama\n",
              "\n",
              "[15 rows x 3 columns]"
            ]
          },
          "metadata": {
            "tags": []
          },
          "execution_count": 17
        }
      ]
    },
    {
      "cell_type": "code",
      "metadata": {
        "id": "fFtmssQbVL--",
        "colab_type": "code",
        "colab": {
          "base_uri": "https://localhost:8080/",
          "height": 34
        },
        "outputId": "6b9daac7-4ed4-4b54-d6b6-a7064f9632cf"
      },
      "source": [
        "nmf.predict(uid=1, iid=1, r_ui=1)"
      ],
      "execution_count": 52,
      "outputs": [
        {
          "output_type": "execute_result",
          "data": {
            "text/plain": [
              "Prediction(uid=1, iid=1, r_ui=1, est=4.157014663371732, details={'was_impossible': False})"
            ]
          },
          "metadata": {
            "tags": []
          },
          "execution_count": 52
        }
      ]
    },
    {
      "cell_type": "markdown",
      "metadata": {
        "id": "VOe6cCQ3AxUm",
        "colab_type": "text"
      },
      "source": [
        "****UBCF by TruncatedSVD scikit-learn***"
      ]
    },
    {
      "cell_type": "code",
      "metadata": {
        "id": "d3nMj3b9opXP",
        "colab_type": "code",
        "colab": {
          "base_uri": "https://localhost:8080/",
          "height": 438
        },
        "outputId": "939dcb4b-c6a8-41fa-c928-4145100eb9ab"
      },
      "source": [
        "pivot_table=df.pivot_table(index='Title',columns='UserID',values='Rating').fillna(0)\n",
        "pivot_table.head()"
      ],
      "execution_count": 10,
      "outputs": [
        {
          "output_type": "execute_result",
          "data": {
            "text/html": [
              "<div>\n",
              "<style scoped>\n",
              "    .dataframe tbody tr th:only-of-type {\n",
              "        vertical-align: middle;\n",
              "    }\n",
              "\n",
              "    .dataframe tbody tr th {\n",
              "        vertical-align: top;\n",
              "    }\n",
              "\n",
              "    .dataframe thead th {\n",
              "        text-align: right;\n",
              "    }\n",
              "</style>\n",
              "<table border=\"1\" class=\"dataframe\">\n",
              "  <thead>\n",
              "    <tr style=\"text-align: right;\">\n",
              "      <th>UserID</th>\n",
              "      <th>1</th>\n",
              "      <th>2</th>\n",
              "      <th>3</th>\n",
              "      <th>4</th>\n",
              "      <th>5</th>\n",
              "      <th>6</th>\n",
              "      <th>7</th>\n",
              "      <th>8</th>\n",
              "      <th>9</th>\n",
              "      <th>10</th>\n",
              "      <th>11</th>\n",
              "      <th>12</th>\n",
              "      <th>13</th>\n",
              "      <th>14</th>\n",
              "      <th>15</th>\n",
              "      <th>16</th>\n",
              "      <th>17</th>\n",
              "      <th>18</th>\n",
              "      <th>19</th>\n",
              "      <th>20</th>\n",
              "      <th>21</th>\n",
              "      <th>22</th>\n",
              "      <th>23</th>\n",
              "      <th>24</th>\n",
              "      <th>25</th>\n",
              "      <th>26</th>\n",
              "      <th>27</th>\n",
              "      <th>28</th>\n",
              "      <th>29</th>\n",
              "      <th>30</th>\n",
              "      <th>31</th>\n",
              "      <th>32</th>\n",
              "      <th>33</th>\n",
              "      <th>34</th>\n",
              "      <th>35</th>\n",
              "      <th>36</th>\n",
              "      <th>37</th>\n",
              "      <th>38</th>\n",
              "      <th>39</th>\n",
              "      <th>40</th>\n",
              "      <th>...</th>\n",
              "      <th>6001</th>\n",
              "      <th>6002</th>\n",
              "      <th>6003</th>\n",
              "      <th>6004</th>\n",
              "      <th>6005</th>\n",
              "      <th>6006</th>\n",
              "      <th>6007</th>\n",
              "      <th>6008</th>\n",
              "      <th>6009</th>\n",
              "      <th>6010</th>\n",
              "      <th>6011</th>\n",
              "      <th>6012</th>\n",
              "      <th>6013</th>\n",
              "      <th>6014</th>\n",
              "      <th>6015</th>\n",
              "      <th>6016</th>\n",
              "      <th>6017</th>\n",
              "      <th>6018</th>\n",
              "      <th>6019</th>\n",
              "      <th>6020</th>\n",
              "      <th>6021</th>\n",
              "      <th>6022</th>\n",
              "      <th>6023</th>\n",
              "      <th>6024</th>\n",
              "      <th>6025</th>\n",
              "      <th>6026</th>\n",
              "      <th>6027</th>\n",
              "      <th>6028</th>\n",
              "      <th>6029</th>\n",
              "      <th>6030</th>\n",
              "      <th>6031</th>\n",
              "      <th>6032</th>\n",
              "      <th>6033</th>\n",
              "      <th>6034</th>\n",
              "      <th>6035</th>\n",
              "      <th>6036</th>\n",
              "      <th>6037</th>\n",
              "      <th>6038</th>\n",
              "      <th>6039</th>\n",
              "      <th>6040</th>\n",
              "    </tr>\n",
              "    <tr>\n",
              "      <th>Title</th>\n",
              "      <th></th>\n",
              "      <th></th>\n",
              "      <th></th>\n",
              "      <th></th>\n",
              "      <th></th>\n",
              "      <th></th>\n",
              "      <th></th>\n",
              "      <th></th>\n",
              "      <th></th>\n",
              "      <th></th>\n",
              "      <th></th>\n",
              "      <th></th>\n",
              "      <th></th>\n",
              "      <th></th>\n",
              "      <th></th>\n",
              "      <th></th>\n",
              "      <th></th>\n",
              "      <th></th>\n",
              "      <th></th>\n",
              "      <th></th>\n",
              "      <th></th>\n",
              "      <th></th>\n",
              "      <th></th>\n",
              "      <th></th>\n",
              "      <th></th>\n",
              "      <th></th>\n",
              "      <th></th>\n",
              "      <th></th>\n",
              "      <th></th>\n",
              "      <th></th>\n",
              "      <th></th>\n",
              "      <th></th>\n",
              "      <th></th>\n",
              "      <th></th>\n",
              "      <th></th>\n",
              "      <th></th>\n",
              "      <th></th>\n",
              "      <th></th>\n",
              "      <th></th>\n",
              "      <th></th>\n",
              "      <th></th>\n",
              "      <th></th>\n",
              "      <th></th>\n",
              "      <th></th>\n",
              "      <th></th>\n",
              "      <th></th>\n",
              "      <th></th>\n",
              "      <th></th>\n",
              "      <th></th>\n",
              "      <th></th>\n",
              "      <th></th>\n",
              "      <th></th>\n",
              "      <th></th>\n",
              "      <th></th>\n",
              "      <th></th>\n",
              "      <th></th>\n",
              "      <th></th>\n",
              "      <th></th>\n",
              "      <th></th>\n",
              "      <th></th>\n",
              "      <th></th>\n",
              "      <th></th>\n",
              "      <th></th>\n",
              "      <th></th>\n",
              "      <th></th>\n",
              "      <th></th>\n",
              "      <th></th>\n",
              "      <th></th>\n",
              "      <th></th>\n",
              "      <th></th>\n",
              "      <th></th>\n",
              "      <th></th>\n",
              "      <th></th>\n",
              "      <th></th>\n",
              "      <th></th>\n",
              "      <th></th>\n",
              "      <th></th>\n",
              "      <th></th>\n",
              "      <th></th>\n",
              "      <th></th>\n",
              "      <th></th>\n",
              "    </tr>\n",
              "  </thead>\n",
              "  <tbody>\n",
              "    <tr>\n",
              "      <th>$1,000,000 Duck (1971)</th>\n",
              "      <td>0.0</td>\n",
              "      <td>0.0</td>\n",
              "      <td>0.0</td>\n",
              "      <td>0.0</td>\n",
              "      <td>0.0</td>\n",
              "      <td>0.0</td>\n",
              "      <td>0.0</td>\n",
              "      <td>0.0</td>\n",
              "      <td>0.0</td>\n",
              "      <td>0.0</td>\n",
              "      <td>0.0</td>\n",
              "      <td>0.0</td>\n",
              "      <td>0.0</td>\n",
              "      <td>0.0</td>\n",
              "      <td>0.0</td>\n",
              "      <td>0.0</td>\n",
              "      <td>0.0</td>\n",
              "      <td>0.0</td>\n",
              "      <td>0.0</td>\n",
              "      <td>0.0</td>\n",
              "      <td>0.0</td>\n",
              "      <td>0.0</td>\n",
              "      <td>0.0</td>\n",
              "      <td>0.0</td>\n",
              "      <td>0.0</td>\n",
              "      <td>0.0</td>\n",
              "      <td>0.0</td>\n",
              "      <td>0.0</td>\n",
              "      <td>0.0</td>\n",
              "      <td>0.0</td>\n",
              "      <td>0.0</td>\n",
              "      <td>0.0</td>\n",
              "      <td>0.0</td>\n",
              "      <td>0.0</td>\n",
              "      <td>0.0</td>\n",
              "      <td>0.0</td>\n",
              "      <td>0.0</td>\n",
              "      <td>0.0</td>\n",
              "      <td>0.0</td>\n",
              "      <td>0.0</td>\n",
              "      <td>...</td>\n",
              "      <td>0.0</td>\n",
              "      <td>0.0</td>\n",
              "      <td>0.0</td>\n",
              "      <td>0.0</td>\n",
              "      <td>0.0</td>\n",
              "      <td>0.0</td>\n",
              "      <td>0.0</td>\n",
              "      <td>0.0</td>\n",
              "      <td>0.0</td>\n",
              "      <td>0.0</td>\n",
              "      <td>0.0</td>\n",
              "      <td>0.0</td>\n",
              "      <td>0.0</td>\n",
              "      <td>0.0</td>\n",
              "      <td>0.0</td>\n",
              "      <td>0.0</td>\n",
              "      <td>0.0</td>\n",
              "      <td>0.0</td>\n",
              "      <td>0.0</td>\n",
              "      <td>0.0</td>\n",
              "      <td>0.0</td>\n",
              "      <td>0.0</td>\n",
              "      <td>0.0</td>\n",
              "      <td>0.0</td>\n",
              "      <td>0.0</td>\n",
              "      <td>0.0</td>\n",
              "      <td>0.0</td>\n",
              "      <td>0.0</td>\n",
              "      <td>0.0</td>\n",
              "      <td>0.0</td>\n",
              "      <td>0.0</td>\n",
              "      <td>0.0</td>\n",
              "      <td>0.0</td>\n",
              "      <td>0.0</td>\n",
              "      <td>0.0</td>\n",
              "      <td>0.0</td>\n",
              "      <td>0.0</td>\n",
              "      <td>0.0</td>\n",
              "      <td>0.0</td>\n",
              "      <td>0.0</td>\n",
              "    </tr>\n",
              "    <tr>\n",
              "      <th>'Night Mother (1986)</th>\n",
              "      <td>0.0</td>\n",
              "      <td>0.0</td>\n",
              "      <td>0.0</td>\n",
              "      <td>0.0</td>\n",
              "      <td>0.0</td>\n",
              "      <td>0.0</td>\n",
              "      <td>0.0</td>\n",
              "      <td>0.0</td>\n",
              "      <td>0.0</td>\n",
              "      <td>0.0</td>\n",
              "      <td>0.0</td>\n",
              "      <td>0.0</td>\n",
              "      <td>0.0</td>\n",
              "      <td>0.0</td>\n",
              "      <td>0.0</td>\n",
              "      <td>0.0</td>\n",
              "      <td>0.0</td>\n",
              "      <td>0.0</td>\n",
              "      <td>0.0</td>\n",
              "      <td>0.0</td>\n",
              "      <td>0.0</td>\n",
              "      <td>0.0</td>\n",
              "      <td>0.0</td>\n",
              "      <td>0.0</td>\n",
              "      <td>0.0</td>\n",
              "      <td>0.0</td>\n",
              "      <td>0.0</td>\n",
              "      <td>0.0</td>\n",
              "      <td>0.0</td>\n",
              "      <td>0.0</td>\n",
              "      <td>0.0</td>\n",
              "      <td>0.0</td>\n",
              "      <td>0.0</td>\n",
              "      <td>0.0</td>\n",
              "      <td>0.0</td>\n",
              "      <td>0.0</td>\n",
              "      <td>0.0</td>\n",
              "      <td>0.0</td>\n",
              "      <td>0.0</td>\n",
              "      <td>0.0</td>\n",
              "      <td>...</td>\n",
              "      <td>0.0</td>\n",
              "      <td>0.0</td>\n",
              "      <td>0.0</td>\n",
              "      <td>0.0</td>\n",
              "      <td>0.0</td>\n",
              "      <td>0.0</td>\n",
              "      <td>0.0</td>\n",
              "      <td>0.0</td>\n",
              "      <td>0.0</td>\n",
              "      <td>0.0</td>\n",
              "      <td>0.0</td>\n",
              "      <td>0.0</td>\n",
              "      <td>0.0</td>\n",
              "      <td>0.0</td>\n",
              "      <td>0.0</td>\n",
              "      <td>0.0</td>\n",
              "      <td>0.0</td>\n",
              "      <td>0.0</td>\n",
              "      <td>0.0</td>\n",
              "      <td>0.0</td>\n",
              "      <td>0.0</td>\n",
              "      <td>0.0</td>\n",
              "      <td>0.0</td>\n",
              "      <td>0.0</td>\n",
              "      <td>0.0</td>\n",
              "      <td>0.0</td>\n",
              "      <td>0.0</td>\n",
              "      <td>0.0</td>\n",
              "      <td>0.0</td>\n",
              "      <td>0.0</td>\n",
              "      <td>0.0</td>\n",
              "      <td>0.0</td>\n",
              "      <td>0.0</td>\n",
              "      <td>0.0</td>\n",
              "      <td>0.0</td>\n",
              "      <td>3.0</td>\n",
              "      <td>0.0</td>\n",
              "      <td>0.0</td>\n",
              "      <td>0.0</td>\n",
              "      <td>0.0</td>\n",
              "    </tr>\n",
              "    <tr>\n",
              "      <th>'Til There Was You (1997)</th>\n",
              "      <td>0.0</td>\n",
              "      <td>0.0</td>\n",
              "      <td>0.0</td>\n",
              "      <td>0.0</td>\n",
              "      <td>0.0</td>\n",
              "      <td>0.0</td>\n",
              "      <td>0.0</td>\n",
              "      <td>0.0</td>\n",
              "      <td>0.0</td>\n",
              "      <td>0.0</td>\n",
              "      <td>0.0</td>\n",
              "      <td>0.0</td>\n",
              "      <td>0.0</td>\n",
              "      <td>0.0</td>\n",
              "      <td>0.0</td>\n",
              "      <td>0.0</td>\n",
              "      <td>0.0</td>\n",
              "      <td>0.0</td>\n",
              "      <td>0.0</td>\n",
              "      <td>0.0</td>\n",
              "      <td>0.0</td>\n",
              "      <td>0.0</td>\n",
              "      <td>0.0</td>\n",
              "      <td>0.0</td>\n",
              "      <td>0.0</td>\n",
              "      <td>0.0</td>\n",
              "      <td>0.0</td>\n",
              "      <td>0.0</td>\n",
              "      <td>0.0</td>\n",
              "      <td>0.0</td>\n",
              "      <td>0.0</td>\n",
              "      <td>0.0</td>\n",
              "      <td>0.0</td>\n",
              "      <td>0.0</td>\n",
              "      <td>0.0</td>\n",
              "      <td>0.0</td>\n",
              "      <td>0.0</td>\n",
              "      <td>2.0</td>\n",
              "      <td>0.0</td>\n",
              "      <td>0.0</td>\n",
              "      <td>...</td>\n",
              "      <td>0.0</td>\n",
              "      <td>0.0</td>\n",
              "      <td>0.0</td>\n",
              "      <td>0.0</td>\n",
              "      <td>0.0</td>\n",
              "      <td>0.0</td>\n",
              "      <td>0.0</td>\n",
              "      <td>0.0</td>\n",
              "      <td>0.0</td>\n",
              "      <td>0.0</td>\n",
              "      <td>0.0</td>\n",
              "      <td>0.0</td>\n",
              "      <td>0.0</td>\n",
              "      <td>0.0</td>\n",
              "      <td>0.0</td>\n",
              "      <td>0.0</td>\n",
              "      <td>0.0</td>\n",
              "      <td>0.0</td>\n",
              "      <td>0.0</td>\n",
              "      <td>0.0</td>\n",
              "      <td>0.0</td>\n",
              "      <td>0.0</td>\n",
              "      <td>0.0</td>\n",
              "      <td>0.0</td>\n",
              "      <td>0.0</td>\n",
              "      <td>0.0</td>\n",
              "      <td>0.0</td>\n",
              "      <td>0.0</td>\n",
              "      <td>0.0</td>\n",
              "      <td>0.0</td>\n",
              "      <td>0.0</td>\n",
              "      <td>0.0</td>\n",
              "      <td>0.0</td>\n",
              "      <td>0.0</td>\n",
              "      <td>0.0</td>\n",
              "      <td>0.0</td>\n",
              "      <td>0.0</td>\n",
              "      <td>0.0</td>\n",
              "      <td>0.0</td>\n",
              "      <td>0.0</td>\n",
              "    </tr>\n",
              "    <tr>\n",
              "      <th>'burbs, The (1989)</th>\n",
              "      <td>0.0</td>\n",
              "      <td>0.0</td>\n",
              "      <td>0.0</td>\n",
              "      <td>0.0</td>\n",
              "      <td>0.0</td>\n",
              "      <td>0.0</td>\n",
              "      <td>0.0</td>\n",
              "      <td>0.0</td>\n",
              "      <td>0.0</td>\n",
              "      <td>4.0</td>\n",
              "      <td>0.0</td>\n",
              "      <td>0.0</td>\n",
              "      <td>0.0</td>\n",
              "      <td>0.0</td>\n",
              "      <td>0.0</td>\n",
              "      <td>0.0</td>\n",
              "      <td>0.0</td>\n",
              "      <td>0.0</td>\n",
              "      <td>0.0</td>\n",
              "      <td>0.0</td>\n",
              "      <td>0.0</td>\n",
              "      <td>4.0</td>\n",
              "      <td>0.0</td>\n",
              "      <td>0.0</td>\n",
              "      <td>0.0</td>\n",
              "      <td>0.0</td>\n",
              "      <td>0.0</td>\n",
              "      <td>0.0</td>\n",
              "      <td>0.0</td>\n",
              "      <td>0.0</td>\n",
              "      <td>0.0</td>\n",
              "      <td>0.0</td>\n",
              "      <td>0.0</td>\n",
              "      <td>2.0</td>\n",
              "      <td>0.0</td>\n",
              "      <td>0.0</td>\n",
              "      <td>0.0</td>\n",
              "      <td>0.0</td>\n",
              "      <td>0.0</td>\n",
              "      <td>0.0</td>\n",
              "      <td>...</td>\n",
              "      <td>0.0</td>\n",
              "      <td>0.0</td>\n",
              "      <td>0.0</td>\n",
              "      <td>0.0</td>\n",
              "      <td>0.0</td>\n",
              "      <td>0.0</td>\n",
              "      <td>0.0</td>\n",
              "      <td>0.0</td>\n",
              "      <td>0.0</td>\n",
              "      <td>0.0</td>\n",
              "      <td>0.0</td>\n",
              "      <td>0.0</td>\n",
              "      <td>0.0</td>\n",
              "      <td>0.0</td>\n",
              "      <td>0.0</td>\n",
              "      <td>2.0</td>\n",
              "      <td>0.0</td>\n",
              "      <td>0.0</td>\n",
              "      <td>0.0</td>\n",
              "      <td>0.0</td>\n",
              "      <td>0.0</td>\n",
              "      <td>0.0</td>\n",
              "      <td>0.0</td>\n",
              "      <td>0.0</td>\n",
              "      <td>0.0</td>\n",
              "      <td>0.0</td>\n",
              "      <td>0.0</td>\n",
              "      <td>0.0</td>\n",
              "      <td>0.0</td>\n",
              "      <td>0.0</td>\n",
              "      <td>0.0</td>\n",
              "      <td>0.0</td>\n",
              "      <td>0.0</td>\n",
              "      <td>0.0</td>\n",
              "      <td>0.0</td>\n",
              "      <td>0.0</td>\n",
              "      <td>0.0</td>\n",
              "      <td>0.0</td>\n",
              "      <td>0.0</td>\n",
              "      <td>0.0</td>\n",
              "    </tr>\n",
              "    <tr>\n",
              "      <th>...And Justice for All (1979)</th>\n",
              "      <td>0.0</td>\n",
              "      <td>0.0</td>\n",
              "      <td>0.0</td>\n",
              "      <td>0.0</td>\n",
              "      <td>0.0</td>\n",
              "      <td>0.0</td>\n",
              "      <td>0.0</td>\n",
              "      <td>0.0</td>\n",
              "      <td>0.0</td>\n",
              "      <td>0.0</td>\n",
              "      <td>0.0</td>\n",
              "      <td>0.0</td>\n",
              "      <td>0.0</td>\n",
              "      <td>0.0</td>\n",
              "      <td>0.0</td>\n",
              "      <td>0.0</td>\n",
              "      <td>0.0</td>\n",
              "      <td>0.0</td>\n",
              "      <td>0.0</td>\n",
              "      <td>0.0</td>\n",
              "      <td>0.0</td>\n",
              "      <td>0.0</td>\n",
              "      <td>2.0</td>\n",
              "      <td>0.0</td>\n",
              "      <td>0.0</td>\n",
              "      <td>0.0</td>\n",
              "      <td>0.0</td>\n",
              "      <td>0.0</td>\n",
              "      <td>0.0</td>\n",
              "      <td>0.0</td>\n",
              "      <td>0.0</td>\n",
              "      <td>0.0</td>\n",
              "      <td>0.0</td>\n",
              "      <td>0.0</td>\n",
              "      <td>0.0</td>\n",
              "      <td>0.0</td>\n",
              "      <td>0.0</td>\n",
              "      <td>0.0</td>\n",
              "      <td>0.0</td>\n",
              "      <td>0.0</td>\n",
              "      <td>...</td>\n",
              "      <td>0.0</td>\n",
              "      <td>0.0</td>\n",
              "      <td>0.0</td>\n",
              "      <td>0.0</td>\n",
              "      <td>0.0</td>\n",
              "      <td>0.0</td>\n",
              "      <td>0.0</td>\n",
              "      <td>0.0</td>\n",
              "      <td>0.0</td>\n",
              "      <td>0.0</td>\n",
              "      <td>0.0</td>\n",
              "      <td>0.0</td>\n",
              "      <td>0.0</td>\n",
              "      <td>0.0</td>\n",
              "      <td>0.0</td>\n",
              "      <td>0.0</td>\n",
              "      <td>0.0</td>\n",
              "      <td>0.0</td>\n",
              "      <td>0.0</td>\n",
              "      <td>0.0</td>\n",
              "      <td>0.0</td>\n",
              "      <td>0.0</td>\n",
              "      <td>0.0</td>\n",
              "      <td>0.0</td>\n",
              "      <td>0.0</td>\n",
              "      <td>0.0</td>\n",
              "      <td>0.0</td>\n",
              "      <td>0.0</td>\n",
              "      <td>0.0</td>\n",
              "      <td>0.0</td>\n",
              "      <td>0.0</td>\n",
              "      <td>0.0</td>\n",
              "      <td>0.0</td>\n",
              "      <td>0.0</td>\n",
              "      <td>0.0</td>\n",
              "      <td>0.0</td>\n",
              "      <td>0.0</td>\n",
              "      <td>0.0</td>\n",
              "      <td>0.0</td>\n",
              "      <td>0.0</td>\n",
              "    </tr>\n",
              "  </tbody>\n",
              "</table>\n",
              "<p>5 rows × 6040 columns</p>\n",
              "</div>"
            ],
            "text/plain": [
              "UserID                         1     2     3     4     ...  6037  6038  6039  6040\n",
              "Title                                                  ...                        \n",
              "$1,000,000 Duck (1971)          0.0   0.0   0.0   0.0  ...   0.0   0.0   0.0   0.0\n",
              "'Night Mother (1986)            0.0   0.0   0.0   0.0  ...   0.0   0.0   0.0   0.0\n",
              "'Til There Was You (1997)       0.0   0.0   0.0   0.0  ...   0.0   0.0   0.0   0.0\n",
              "'burbs, The (1989)              0.0   0.0   0.0   0.0  ...   0.0   0.0   0.0   0.0\n",
              "...And Justice for All (1979)   0.0   0.0   0.0   0.0  ...   0.0   0.0   0.0   0.0\n",
              "\n",
              "[5 rows x 6040 columns]"
            ]
          },
          "metadata": {
            "tags": []
          },
          "execution_count": 10
        }
      ]
    },
    {
      "cell_type": "code",
      "metadata": {
        "id": "GrHYw-DDp4KN",
        "colab_type": "code",
        "colab": {
          "base_uri": "https://localhost:8080/",
          "height": 34
        },
        "outputId": "7618b42b-5a9d-4f61-ede9-160d96a93081"
      },
      "source": [
        "pivot_table.shape"
      ],
      "execution_count": 11,
      "outputs": [
        {
          "output_type": "execute_result",
          "data": {
            "text/plain": [
              "(3706, 6040)"
            ]
          },
          "metadata": {
            "tags": []
          },
          "execution_count": 11
        }
      ]
    },
    {
      "cell_type": "code",
      "metadata": {
        "id": "3tJKEQ19p94P",
        "colab_type": "code",
        "colab": {
          "base_uri": "https://localhost:8080/",
          "height": 34
        },
        "outputId": "d6749a66-d63c-464c-c327-1def8db2bdfb"
      },
      "source": [
        "pivot_t = pivot_table.values.T\n",
        "pivot_t.shape"
      ],
      "execution_count": 13,
      "outputs": [
        {
          "output_type": "execute_result",
          "data": {
            "text/plain": [
              "(6040, 3706)"
            ]
          },
          "metadata": {
            "tags": []
          },
          "execution_count": 13
        }
      ]
    },
    {
      "cell_type": "code",
      "metadata": {
        "id": "UCcT2X9mKWdz",
        "colab_type": "code",
        "colab": {
          "base_uri": "https://localhost:8080/",
          "height": 34
        },
        "outputId": "9635f01d-f2cf-4486-9b92-0a2730bf9714"
      },
      "source": [
        "import sklearn\n",
        "from sklearn.decomposition import TruncatedSVD\n",
        "model_svd = TruncatedSVD(n_components=5, n_iter=5, random_state=50)\n",
        "matrix = model_svd.fit_transform(pivot_t)\n",
        "matrix.shape"
      ],
      "execution_count": 15,
      "outputs": [
        {
          "output_type": "execute_result",
          "data": {
            "text/plain": [
              "(6040, 5)"
            ]
          },
          "metadata": {
            "tags": []
          },
          "execution_count": 15
        }
      ]
    },
    {
      "cell_type": "code",
      "metadata": {
        "id": "QIO8EUSdrC5f",
        "colab_type": "code",
        "colab": {
          "base_uri": "https://localhost:8080/",
          "height": 34
        },
        "outputId": "8d5a4299-e25b-423b-9870-ccf8c8218c56"
      },
      "source": [
        "corr = np.corrcoef(matrix)\n",
        "corr.shape"
      ],
      "execution_count": 42,
      "outputs": [
        {
          "output_type": "execute_result",
          "data": {
            "text/plain": [
              "(6040, 6040)"
            ]
          },
          "metadata": {
            "tags": []
          },
          "execution_count": 42
        }
      ]
    },
    {
      "cell_type": "code",
      "metadata": {
        "id": "w8YnmarNrQD6",
        "colab_type": "code",
        "colab": {
          "base_uri": "https://localhost:8080/",
          "height": 34
        },
        "outputId": "a24fe5b1-7901-44ea-e861-1acdfdba2f75"
      },
      "source": [
        "_title = pivot_table.columns\n",
        "_title_list = list(_title)\n",
        "t_name = _title_list.index(15)\n",
        "print(t_name)"
      ],
      "execution_count": 43,
      "outputs": [
        {
          "output_type": "stream",
          "text": [
            "14\n"
          ],
          "name": "stdout"
        }
      ]
    },
    {
      "cell_type": "code",
      "metadata": {
        "id": "oo4Nh9wFvIce",
        "colab_type": "code",
        "colab": {
          "base_uri": "https://localhost:8080/",
          "height": 52
        },
        "outputId": "f49b9016-31a5-4731-ab9f-2b07981f78a5"
      },
      "source": [
        "corr_t"
      ],
      "execution_count": 44,
      "outputs": [
        {
          "output_type": "execute_result",
          "data": {
            "text/plain": [
              "array([0.4809083 , 0.95176784, 0.65020386, ..., 0.35572462, 0.06907104,\n",
              "       0.52918954])"
            ]
          },
          "metadata": {
            "tags": []
          },
          "execution_count": 44
        }
      ]
    },
    {
      "cell_type": "code",
      "metadata": {
        "id": "RsI2cVEhvZk4",
        "colab_type": "code",
        "colab": {}
      },
      "source": [
        "_title_list"
      ],
      "execution_count": null,
      "outputs": []
    },
    {
      "cell_type": "code",
      "metadata": {
        "id": "eZ_1wrBWtOud",
        "colab_type": "code",
        "colab": {}
      },
      "source": [
        "corr_t = corr[t_name]\n",
        "_title[(corr_t)]"
      ],
      "execution_count": null,
      "outputs": []
    },
    {
      "cell_type": "code",
      "metadata": {
        "id": "VvJ6oL3ou65V",
        "colab_type": "code",
        "colab": {}
      },
      "source": [
        "list(corr)"
      ],
      "execution_count": null,
      "outputs": []
    },
    {
      "cell_type": "code",
      "metadata": {
        "id": "Rl1BLqkSu6qQ",
        "colab_type": "code",
        "colab": {
          "base_uri": "https://localhost:8080/",
          "height": 52
        },
        "outputId": "211c30b4-0978-4c02-df80-43929a5468e1"
      },
      "source": [
        "corr_t  "
      ],
      "execution_count": 48,
      "outputs": [
        {
          "output_type": "execute_result",
          "data": {
            "text/plain": [
              "array([0.4809083 , 0.95176784, 0.65020386, ..., 0.35572462, 0.06907104,\n",
              "       0.52918954])"
            ]
          },
          "metadata": {
            "tags": []
          },
          "execution_count": 48
        }
      ]
    },
    {
      "cell_type": "markdown",
      "metadata": {
        "id": "YO3uuovkHpxU",
        "colab_type": "text"
      },
      "source": [
        "***Q. Math behind Matix Factrorization***"
      ]
    },
    {
      "cell_type": "markdown",
      "metadata": {
        "id": "75JIf63JuoIM",
        "colab_type": "text"
      },
      "source": [
        "* **Model-based Collaborative Filtering** is based on matrix factorization (MF) mainly as an unsupervised learning method for latent variable decomposition and dimensionality reduction. Matrix factorization is widely used for recommender systems.\n",
        "* **Matrix Factorization**\n",
        "                             Rating Matrix[R] = User Matrix[P] * Item Matrix[Q](trans.)\n",
        "                      R(m user * n Items) = P(m user * k features) * Q(k feature * n items)(trans.)\n",
        "                                              \n",
        "    * The goal of MF is to learn the latent preferences of users and the latent attributes of items from known ratings to then predict the unknown ratings through the dot product of the latent features of users and items.\n",
        "\n",
        "    * When we have a sparse matrix, with a lot of dimensions, by doing matrix factorization, you can restructure the user-item matrix and you can represent the matrix by the multiplication of two matrices, where the rows contain the latent vector.\n",
        "\n",
        "    * You fit this matrix to approximate your original matrix, as closely as possible, by multiplying the two matrices together, which fills in the entries missing in the original matrix.\n",
        "\n",
        "* **Singular value decomposition (SVD)***\n",
        "                                         R = U*S*V(transpose)\n",
        "                              R(m*n) = U(m*m) * S(diagonal Matix)* V(n*n)(trans.)\n",
        "    * SVD is the decomposition of a matrix A into 3 matrices – U, S, and V\n",
        "      * Diagonal Value are called as **Singular Values**\n",
        "      * U is an m x m matrix of Left Singular Vectors\n",
        "      * S is an m x n rectangular diagonal matrix of Singular Values arranged in decreasing order\n",
        "      * V is an n x n matrix of Right Singular Vectors \n",
        "      * If the dimensions of A are m x n:\n",
        "\n",
        "\n"
      ]
    }
  ]
}