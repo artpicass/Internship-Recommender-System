{
  "nbformat": 4,
  "nbformat_minor": 0,
  "metadata": {
    "colab": {
      "name": "Itembased_GridSearchCV.ipynb",
      "provenance": [],
      "collapsed_sections": []
    },
    "kernelspec": {
      "name": "python3",
      "display_name": "Python 3"
    }
  },
  "cells": [
    {
      "cell_type": "markdown",
      "metadata": {
        "id": "aItxl06xd9Ku",
        "colab_type": "text"
      },
      "source": [
        "#**Using GridSearchCV in KNNWithMeans, KNNBasic, KNNBaseline**"
      ]
    },
    {
      "cell_type": "code",
      "metadata": {
        "id": "Gx8fVBrQIN5p",
        "colab_type": "code",
        "colab": {}
      },
      "source": [
        "import numpy as np\n",
        "import pandas as pd"
      ],
      "execution_count": null,
      "outputs": []
    },
    {
      "cell_type": "code",
      "metadata": {
        "id": "ewRuYOfGJGgI",
        "colab_type": "code",
        "colab": {}
      },
      "source": [
        "ratings=pd.read_csv('/content/drive/My Drive/Dataset/Ratings .csv')\n",
        "movies=pd.read_csv('/content/drive/My Drive/Dataset/movies.csv')\n",
        "userdata=pd.read_csv('/content/drive/My Drive/Dataset/user_data.csv')"
      ],
      "execution_count": null,
      "outputs": []
    },
    {
      "cell_type": "code",
      "metadata": {
        "id": "svKAqtuuJKua",
        "colab_type": "code",
        "colab": {
          "base_uri": "https://localhost:8080/",
          "height": 402
        },
        "outputId": "63aae853-234a-4f3a-e958-8591ee88d4a7"
      },
      "source": [
        "movies=pd.read_csv('/content/drive/My Drive/Dataset/movies.csv')\n",
        "movies"
      ],
      "execution_count": null,
      "outputs": [
        {
          "output_type": "execute_result",
          "data": {
            "text/html": [
              "<div>\n",
              "<style scoped>\n",
              "    .dataframe tbody tr th:only-of-type {\n",
              "        vertical-align: middle;\n",
              "    }\n",
              "\n",
              "    .dataframe tbody tr th {\n",
              "        vertical-align: top;\n",
              "    }\n",
              "\n",
              "    .dataframe thead th {\n",
              "        text-align: right;\n",
              "    }\n",
              "</style>\n",
              "<table border=\"1\" class=\"dataframe\">\n",
              "  <thead>\n",
              "    <tr style=\"text-align: right;\">\n",
              "      <th></th>\n",
              "      <th>MovieID</th>\n",
              "      <th>Title</th>\n",
              "      <th>Genres</th>\n",
              "    </tr>\n",
              "  </thead>\n",
              "  <tbody>\n",
              "    <tr>\n",
              "      <th>0</th>\n",
              "      <td>1</td>\n",
              "      <td>Toy Story (1995)</td>\n",
              "      <td>Animation|Children's|Comedy</td>\n",
              "    </tr>\n",
              "    <tr>\n",
              "      <th>1</th>\n",
              "      <td>2</td>\n",
              "      <td>Jumanji (1995)</td>\n",
              "      <td>Adventure|Children's|Fantasy</td>\n",
              "    </tr>\n",
              "    <tr>\n",
              "      <th>2</th>\n",
              "      <td>3</td>\n",
              "      <td>Grumpier Old Men (1995)</td>\n",
              "      <td>Comedy|Romance</td>\n",
              "    </tr>\n",
              "    <tr>\n",
              "      <th>3</th>\n",
              "      <td>4</td>\n",
              "      <td>Waiting to Exhale (1995)</td>\n",
              "      <td>Comedy|Drama</td>\n",
              "    </tr>\n",
              "    <tr>\n",
              "      <th>4</th>\n",
              "      <td>5</td>\n",
              "      <td>Father of the Bride Part II (1995)</td>\n",
              "      <td>Comedy</td>\n",
              "    </tr>\n",
              "    <tr>\n",
              "      <th>...</th>\n",
              "      <td>...</td>\n",
              "      <td>...</td>\n",
              "      <td>...</td>\n",
              "    </tr>\n",
              "    <tr>\n",
              "      <th>3878</th>\n",
              "      <td>3948</td>\n",
              "      <td>Meet the Parents (2000)</td>\n",
              "      <td>Comedy</td>\n",
              "    </tr>\n",
              "    <tr>\n",
              "      <th>3879</th>\n",
              "      <td>3949</td>\n",
              "      <td>Requiem for a Dream (2000)</td>\n",
              "      <td>Drama</td>\n",
              "    </tr>\n",
              "    <tr>\n",
              "      <th>3880</th>\n",
              "      <td>3950</td>\n",
              "      <td>Tigerland (2000)</td>\n",
              "      <td>Drama</td>\n",
              "    </tr>\n",
              "    <tr>\n",
              "      <th>3881</th>\n",
              "      <td>3951</td>\n",
              "      <td>Two Family House (2000)</td>\n",
              "      <td>Drama</td>\n",
              "    </tr>\n",
              "    <tr>\n",
              "      <th>3882</th>\n",
              "      <td>3952</td>\n",
              "      <td>Contender, The (2000)</td>\n",
              "      <td>Drama|Thriller</td>\n",
              "    </tr>\n",
              "  </tbody>\n",
              "</table>\n",
              "<p>3883 rows × 3 columns</p>\n",
              "</div>"
            ],
            "text/plain": [
              "      MovieID                               Title                        Genres\n",
              "0           1                    Toy Story (1995)   Animation|Children's|Comedy\n",
              "1           2                      Jumanji (1995)  Adventure|Children's|Fantasy\n",
              "2           3             Grumpier Old Men (1995)                Comedy|Romance\n",
              "3           4            Waiting to Exhale (1995)                  Comedy|Drama\n",
              "4           5  Father of the Bride Part II (1995)                        Comedy\n",
              "...       ...                                 ...                           ...\n",
              "3878     3948             Meet the Parents (2000)                        Comedy\n",
              "3879     3949          Requiem for a Dream (2000)                         Drama\n",
              "3880     3950                    Tigerland (2000)                         Drama\n",
              "3881     3951             Two Family House (2000)                         Drama\n",
              "3882     3952               Contender, The (2000)                Drama|Thriller\n",
              "\n",
              "[3883 rows x 3 columns]"
            ]
          },
          "metadata": {
            "tags": []
          },
          "execution_count": 3
        }
      ]
    },
    {
      "cell_type": "code",
      "metadata": {
        "id": "wmkXsjYxJPnu",
        "colab_type": "code",
        "colab": {
          "base_uri": "https://localhost:8080/",
          "height": 402
        },
        "outputId": "a3714eff-99a1-47c8-e442-b060ced16b40"
      },
      "source": [
        "ratings=pd.read_csv('/content/drive/My Drive/Dataset/Ratings .csv')\n",
        "ratings"
      ],
      "execution_count": null,
      "outputs": [
        {
          "output_type": "execute_result",
          "data": {
            "text/html": [
              "<div>\n",
              "<style scoped>\n",
              "    .dataframe tbody tr th:only-of-type {\n",
              "        vertical-align: middle;\n",
              "    }\n",
              "\n",
              "    .dataframe tbody tr th {\n",
              "        vertical-align: top;\n",
              "    }\n",
              "\n",
              "    .dataframe thead th {\n",
              "        text-align: right;\n",
              "    }\n",
              "</style>\n",
              "<table border=\"1\" class=\"dataframe\">\n",
              "  <thead>\n",
              "    <tr style=\"text-align: right;\">\n",
              "      <th></th>\n",
              "      <th>UserID</th>\n",
              "      <th>MovieID</th>\n",
              "      <th>Rating</th>\n",
              "      <th>Timestamp</th>\n",
              "    </tr>\n",
              "  </thead>\n",
              "  <tbody>\n",
              "    <tr>\n",
              "      <th>0</th>\n",
              "      <td>1</td>\n",
              "      <td>1193</td>\n",
              "      <td>5</td>\n",
              "      <td>978300760</td>\n",
              "    </tr>\n",
              "    <tr>\n",
              "      <th>1</th>\n",
              "      <td>1</td>\n",
              "      <td>661</td>\n",
              "      <td>3</td>\n",
              "      <td>978302109</td>\n",
              "    </tr>\n",
              "    <tr>\n",
              "      <th>2</th>\n",
              "      <td>1</td>\n",
              "      <td>914</td>\n",
              "      <td>3</td>\n",
              "      <td>978301968</td>\n",
              "    </tr>\n",
              "    <tr>\n",
              "      <th>3</th>\n",
              "      <td>1</td>\n",
              "      <td>3408</td>\n",
              "      <td>4</td>\n",
              "      <td>978300275</td>\n",
              "    </tr>\n",
              "    <tr>\n",
              "      <th>4</th>\n",
              "      <td>1</td>\n",
              "      <td>2355</td>\n",
              "      <td>5</td>\n",
              "      <td>978824291</td>\n",
              "    </tr>\n",
              "    <tr>\n",
              "      <th>...</th>\n",
              "      <td>...</td>\n",
              "      <td>...</td>\n",
              "      <td>...</td>\n",
              "      <td>...</td>\n",
              "    </tr>\n",
              "    <tr>\n",
              "      <th>1000204</th>\n",
              "      <td>6040</td>\n",
              "      <td>1091</td>\n",
              "      <td>1</td>\n",
              "      <td>956716541</td>\n",
              "    </tr>\n",
              "    <tr>\n",
              "      <th>1000205</th>\n",
              "      <td>6040</td>\n",
              "      <td>1094</td>\n",
              "      <td>5</td>\n",
              "      <td>956704887</td>\n",
              "    </tr>\n",
              "    <tr>\n",
              "      <th>1000206</th>\n",
              "      <td>6040</td>\n",
              "      <td>562</td>\n",
              "      <td>5</td>\n",
              "      <td>956704746</td>\n",
              "    </tr>\n",
              "    <tr>\n",
              "      <th>1000207</th>\n",
              "      <td>6040</td>\n",
              "      <td>1096</td>\n",
              "      <td>4</td>\n",
              "      <td>956715648</td>\n",
              "    </tr>\n",
              "    <tr>\n",
              "      <th>1000208</th>\n",
              "      <td>6040</td>\n",
              "      <td>1097</td>\n",
              "      <td>4</td>\n",
              "      <td>956715569</td>\n",
              "    </tr>\n",
              "  </tbody>\n",
              "</table>\n",
              "<p>1000209 rows × 4 columns</p>\n",
              "</div>"
            ],
            "text/plain": [
              "         UserID  MovieID  Rating  Timestamp\n",
              "0             1     1193       5  978300760\n",
              "1             1      661       3  978302109\n",
              "2             1      914       3  978301968\n",
              "3             1     3408       4  978300275\n",
              "4             1     2355       5  978824291\n",
              "...         ...      ...     ...        ...\n",
              "1000204    6040     1091       1  956716541\n",
              "1000205    6040     1094       5  956704887\n",
              "1000206    6040      562       5  956704746\n",
              "1000207    6040     1096       4  956715648\n",
              "1000208    6040     1097       4  956715569\n",
              "\n",
              "[1000209 rows x 4 columns]"
            ]
          },
          "metadata": {
            "tags": []
          },
          "execution_count": 4
        }
      ]
    },
    {
      "cell_type": "code",
      "metadata": {
        "id": "4oSWIBCjJSce",
        "colab_type": "code",
        "colab": {
          "base_uri": "https://localhost:8080/",
          "height": 402
        },
        "outputId": "f26667b6-9063-42c8-d1be-edca8ef082ea"
      },
      "source": [
        "userdata=pd.read_csv('/content/drive/My Drive/Dataset/user_data.csv')\n",
        "userdata"
      ],
      "execution_count": null,
      "outputs": [
        {
          "output_type": "execute_result",
          "data": {
            "text/html": [
              "<div>\n",
              "<style scoped>\n",
              "    .dataframe tbody tr th:only-of-type {\n",
              "        vertical-align: middle;\n",
              "    }\n",
              "\n",
              "    .dataframe tbody tr th {\n",
              "        vertical-align: top;\n",
              "    }\n",
              "\n",
              "    .dataframe thead th {\n",
              "        text-align: right;\n",
              "    }\n",
              "</style>\n",
              "<table border=\"1\" class=\"dataframe\">\n",
              "  <thead>\n",
              "    <tr style=\"text-align: right;\">\n",
              "      <th></th>\n",
              "      <th>UserID</th>\n",
              "      <th>Gender</th>\n",
              "      <th>Age</th>\n",
              "      <th>Occupation</th>\n",
              "      <th>Zip-code</th>\n",
              "    </tr>\n",
              "  </thead>\n",
              "  <tbody>\n",
              "    <tr>\n",
              "      <th>0</th>\n",
              "      <td>1</td>\n",
              "      <td>F</td>\n",
              "      <td>1</td>\n",
              "      <td>10</td>\n",
              "      <td>48067</td>\n",
              "    </tr>\n",
              "    <tr>\n",
              "      <th>1</th>\n",
              "      <td>2</td>\n",
              "      <td>M</td>\n",
              "      <td>56</td>\n",
              "      <td>16</td>\n",
              "      <td>70072</td>\n",
              "    </tr>\n",
              "    <tr>\n",
              "      <th>2</th>\n",
              "      <td>3</td>\n",
              "      <td>M</td>\n",
              "      <td>25</td>\n",
              "      <td>15</td>\n",
              "      <td>55117</td>\n",
              "    </tr>\n",
              "    <tr>\n",
              "      <th>3</th>\n",
              "      <td>4</td>\n",
              "      <td>M</td>\n",
              "      <td>45</td>\n",
              "      <td>7</td>\n",
              "      <td>2460</td>\n",
              "    </tr>\n",
              "    <tr>\n",
              "      <th>4</th>\n",
              "      <td>5</td>\n",
              "      <td>M</td>\n",
              "      <td>25</td>\n",
              "      <td>20</td>\n",
              "      <td>55455</td>\n",
              "    </tr>\n",
              "    <tr>\n",
              "      <th>...</th>\n",
              "      <td>...</td>\n",
              "      <td>...</td>\n",
              "      <td>...</td>\n",
              "      <td>...</td>\n",
              "      <td>...</td>\n",
              "    </tr>\n",
              "    <tr>\n",
              "      <th>6035</th>\n",
              "      <td>6036</td>\n",
              "      <td>F</td>\n",
              "      <td>25</td>\n",
              "      <td>15</td>\n",
              "      <td>32603</td>\n",
              "    </tr>\n",
              "    <tr>\n",
              "      <th>6036</th>\n",
              "      <td>6037</td>\n",
              "      <td>F</td>\n",
              "      <td>45</td>\n",
              "      <td>1</td>\n",
              "      <td>76006</td>\n",
              "    </tr>\n",
              "    <tr>\n",
              "      <th>6037</th>\n",
              "      <td>6038</td>\n",
              "      <td>F</td>\n",
              "      <td>56</td>\n",
              "      <td>1</td>\n",
              "      <td>14706</td>\n",
              "    </tr>\n",
              "    <tr>\n",
              "      <th>6038</th>\n",
              "      <td>6039</td>\n",
              "      <td>F</td>\n",
              "      <td>45</td>\n",
              "      <td>0</td>\n",
              "      <td>1060</td>\n",
              "    </tr>\n",
              "    <tr>\n",
              "      <th>6039</th>\n",
              "      <td>6040</td>\n",
              "      <td>M</td>\n",
              "      <td>25</td>\n",
              "      <td>6</td>\n",
              "      <td>11106</td>\n",
              "    </tr>\n",
              "  </tbody>\n",
              "</table>\n",
              "<p>6040 rows × 5 columns</p>\n",
              "</div>"
            ],
            "text/plain": [
              "      UserID Gender  Age  Occupation Zip-code\n",
              "0          1      F    1          10    48067\n",
              "1          2      M   56          16    70072\n",
              "2          3      M   25          15    55117\n",
              "3          4      M   45           7     2460\n",
              "4          5      M   25          20    55455\n",
              "...      ...    ...  ...         ...      ...\n",
              "6035    6036      F   25          15    32603\n",
              "6036    6037      F   45           1    76006\n",
              "6037    6038      F   56           1    14706\n",
              "6038    6039      F   45           0     1060\n",
              "6039    6040      M   25           6    11106\n",
              "\n",
              "[6040 rows x 5 columns]"
            ]
          },
          "metadata": {
            "tags": []
          },
          "execution_count": 5
        }
      ]
    },
    {
      "cell_type": "code",
      "metadata": {
        "id": "sPNChJhkJWVW",
        "colab_type": "code",
        "colab": {
          "base_uri": "https://localhost:8080/",
          "height": 402
        },
        "outputId": "6b442f9f-23e3-462c-c359-d173909d5978"
      },
      "source": [
        "df=ratings.merge(userdata, on='UserID',how='left').merge(movies, on='MovieID',how='left')\n",
        "df"
      ],
      "execution_count": null,
      "outputs": [
        {
          "output_type": "execute_result",
          "data": {
            "text/html": [
              "<div>\n",
              "<style scoped>\n",
              "    .dataframe tbody tr th:only-of-type {\n",
              "        vertical-align: middle;\n",
              "    }\n",
              "\n",
              "    .dataframe tbody tr th {\n",
              "        vertical-align: top;\n",
              "    }\n",
              "\n",
              "    .dataframe thead th {\n",
              "        text-align: right;\n",
              "    }\n",
              "</style>\n",
              "<table border=\"1\" class=\"dataframe\">\n",
              "  <thead>\n",
              "    <tr style=\"text-align: right;\">\n",
              "      <th></th>\n",
              "      <th>UserID</th>\n",
              "      <th>MovieID</th>\n",
              "      <th>Rating</th>\n",
              "      <th>Timestamp</th>\n",
              "      <th>Gender</th>\n",
              "      <th>Age</th>\n",
              "      <th>Occupation</th>\n",
              "      <th>Zip-code</th>\n",
              "      <th>Title</th>\n",
              "      <th>Genres</th>\n",
              "    </tr>\n",
              "  </thead>\n",
              "  <tbody>\n",
              "    <tr>\n",
              "      <th>0</th>\n",
              "      <td>1</td>\n",
              "      <td>1193</td>\n",
              "      <td>5</td>\n",
              "      <td>978300760</td>\n",
              "      <td>F</td>\n",
              "      <td>1</td>\n",
              "      <td>10</td>\n",
              "      <td>48067</td>\n",
              "      <td>One Flew Over the Cuckoo's Nest (1975)</td>\n",
              "      <td>Drama</td>\n",
              "    </tr>\n",
              "    <tr>\n",
              "      <th>1</th>\n",
              "      <td>1</td>\n",
              "      <td>661</td>\n",
              "      <td>3</td>\n",
              "      <td>978302109</td>\n",
              "      <td>F</td>\n",
              "      <td>1</td>\n",
              "      <td>10</td>\n",
              "      <td>48067</td>\n",
              "      <td>James and the Giant Peach (1996)</td>\n",
              "      <td>Animation|Children's|Musical</td>\n",
              "    </tr>\n",
              "    <tr>\n",
              "      <th>2</th>\n",
              "      <td>1</td>\n",
              "      <td>914</td>\n",
              "      <td>3</td>\n",
              "      <td>978301968</td>\n",
              "      <td>F</td>\n",
              "      <td>1</td>\n",
              "      <td>10</td>\n",
              "      <td>48067</td>\n",
              "      <td>My Fair Lady (1964)</td>\n",
              "      <td>Musical|Romance</td>\n",
              "    </tr>\n",
              "    <tr>\n",
              "      <th>3</th>\n",
              "      <td>1</td>\n",
              "      <td>3408</td>\n",
              "      <td>4</td>\n",
              "      <td>978300275</td>\n",
              "      <td>F</td>\n",
              "      <td>1</td>\n",
              "      <td>10</td>\n",
              "      <td>48067</td>\n",
              "      <td>Erin Brockovich (2000)</td>\n",
              "      <td>Drama</td>\n",
              "    </tr>\n",
              "    <tr>\n",
              "      <th>4</th>\n",
              "      <td>1</td>\n",
              "      <td>2355</td>\n",
              "      <td>5</td>\n",
              "      <td>978824291</td>\n",
              "      <td>F</td>\n",
              "      <td>1</td>\n",
              "      <td>10</td>\n",
              "      <td>48067</td>\n",
              "      <td>Bug's Life, A (1998)</td>\n",
              "      <td>Animation|Children's|Comedy</td>\n",
              "    </tr>\n",
              "    <tr>\n",
              "      <th>...</th>\n",
              "      <td>...</td>\n",
              "      <td>...</td>\n",
              "      <td>...</td>\n",
              "      <td>...</td>\n",
              "      <td>...</td>\n",
              "      <td>...</td>\n",
              "      <td>...</td>\n",
              "      <td>...</td>\n",
              "      <td>...</td>\n",
              "      <td>...</td>\n",
              "    </tr>\n",
              "    <tr>\n",
              "      <th>1000204</th>\n",
              "      <td>6040</td>\n",
              "      <td>1091</td>\n",
              "      <td>1</td>\n",
              "      <td>956716541</td>\n",
              "      <td>M</td>\n",
              "      <td>25</td>\n",
              "      <td>6</td>\n",
              "      <td>11106</td>\n",
              "      <td>Weekend at Bernie's (1989)</td>\n",
              "      <td>Comedy</td>\n",
              "    </tr>\n",
              "    <tr>\n",
              "      <th>1000205</th>\n",
              "      <td>6040</td>\n",
              "      <td>1094</td>\n",
              "      <td>5</td>\n",
              "      <td>956704887</td>\n",
              "      <td>M</td>\n",
              "      <td>25</td>\n",
              "      <td>6</td>\n",
              "      <td>11106</td>\n",
              "      <td>Crying Game, The (1992)</td>\n",
              "      <td>Drama|Romance|War</td>\n",
              "    </tr>\n",
              "    <tr>\n",
              "      <th>1000206</th>\n",
              "      <td>6040</td>\n",
              "      <td>562</td>\n",
              "      <td>5</td>\n",
              "      <td>956704746</td>\n",
              "      <td>M</td>\n",
              "      <td>25</td>\n",
              "      <td>6</td>\n",
              "      <td>11106</td>\n",
              "      <td>Welcome to the Dollhouse (1995)</td>\n",
              "      <td>Comedy|Drama</td>\n",
              "    </tr>\n",
              "    <tr>\n",
              "      <th>1000207</th>\n",
              "      <td>6040</td>\n",
              "      <td>1096</td>\n",
              "      <td>4</td>\n",
              "      <td>956715648</td>\n",
              "      <td>M</td>\n",
              "      <td>25</td>\n",
              "      <td>6</td>\n",
              "      <td>11106</td>\n",
              "      <td>Sophie's Choice (1982)</td>\n",
              "      <td>Drama</td>\n",
              "    </tr>\n",
              "    <tr>\n",
              "      <th>1000208</th>\n",
              "      <td>6040</td>\n",
              "      <td>1097</td>\n",
              "      <td>4</td>\n",
              "      <td>956715569</td>\n",
              "      <td>M</td>\n",
              "      <td>25</td>\n",
              "      <td>6</td>\n",
              "      <td>11106</td>\n",
              "      <td>E.T. the Extra-Terrestrial (1982)</td>\n",
              "      <td>Children's|Drama|Fantasy|Sci-Fi</td>\n",
              "    </tr>\n",
              "  </tbody>\n",
              "</table>\n",
              "<p>1000209 rows × 10 columns</p>\n",
              "</div>"
            ],
            "text/plain": [
              "         UserID  ...                           Genres\n",
              "0             1  ...                            Drama\n",
              "1             1  ...     Animation|Children's|Musical\n",
              "2             1  ...                  Musical|Romance\n",
              "3             1  ...                            Drama\n",
              "4             1  ...      Animation|Children's|Comedy\n",
              "...         ...  ...                              ...\n",
              "1000204    6040  ...                           Comedy\n",
              "1000205    6040  ...                Drama|Romance|War\n",
              "1000206    6040  ...                     Comedy|Drama\n",
              "1000207    6040  ...                            Drama\n",
              "1000208    6040  ...  Children's|Drama|Fantasy|Sci-Fi\n",
              "\n",
              "[1000209 rows x 10 columns]"
            ]
          },
          "metadata": {
            "tags": []
          },
          "execution_count": 3
        }
      ]
    },
    {
      "cell_type": "code",
      "metadata": {
        "id": "REwFdYI4JZjb",
        "colab_type": "code",
        "colab": {
          "base_uri": "https://localhost:8080/",
          "height": 402
        },
        "outputId": "c81a2394-e8ca-4443-d547-ac12df5828cd"
      },
      "source": [
        "df=df.drop(columns='Timestamp')\n",
        "df"
      ],
      "execution_count": null,
      "outputs": [
        {
          "output_type": "execute_result",
          "data": {
            "text/html": [
              "<div>\n",
              "<style scoped>\n",
              "    .dataframe tbody tr th:only-of-type {\n",
              "        vertical-align: middle;\n",
              "    }\n",
              "\n",
              "    .dataframe tbody tr th {\n",
              "        vertical-align: top;\n",
              "    }\n",
              "\n",
              "    .dataframe thead th {\n",
              "        text-align: right;\n",
              "    }\n",
              "</style>\n",
              "<table border=\"1\" class=\"dataframe\">\n",
              "  <thead>\n",
              "    <tr style=\"text-align: right;\">\n",
              "      <th></th>\n",
              "      <th>UserID</th>\n",
              "      <th>MovieID</th>\n",
              "      <th>Rating</th>\n",
              "      <th>Gender</th>\n",
              "      <th>Age</th>\n",
              "      <th>Occupation</th>\n",
              "      <th>Zip-code</th>\n",
              "      <th>Title</th>\n",
              "      <th>Genres</th>\n",
              "    </tr>\n",
              "  </thead>\n",
              "  <tbody>\n",
              "    <tr>\n",
              "      <th>0</th>\n",
              "      <td>1</td>\n",
              "      <td>1193</td>\n",
              "      <td>5</td>\n",
              "      <td>F</td>\n",
              "      <td>1</td>\n",
              "      <td>10</td>\n",
              "      <td>48067</td>\n",
              "      <td>One Flew Over the Cuckoo's Nest (1975)</td>\n",
              "      <td>Drama</td>\n",
              "    </tr>\n",
              "    <tr>\n",
              "      <th>1</th>\n",
              "      <td>1</td>\n",
              "      <td>661</td>\n",
              "      <td>3</td>\n",
              "      <td>F</td>\n",
              "      <td>1</td>\n",
              "      <td>10</td>\n",
              "      <td>48067</td>\n",
              "      <td>James and the Giant Peach (1996)</td>\n",
              "      <td>Animation|Children's|Musical</td>\n",
              "    </tr>\n",
              "    <tr>\n",
              "      <th>2</th>\n",
              "      <td>1</td>\n",
              "      <td>914</td>\n",
              "      <td>3</td>\n",
              "      <td>F</td>\n",
              "      <td>1</td>\n",
              "      <td>10</td>\n",
              "      <td>48067</td>\n",
              "      <td>My Fair Lady (1964)</td>\n",
              "      <td>Musical|Romance</td>\n",
              "    </tr>\n",
              "    <tr>\n",
              "      <th>3</th>\n",
              "      <td>1</td>\n",
              "      <td>3408</td>\n",
              "      <td>4</td>\n",
              "      <td>F</td>\n",
              "      <td>1</td>\n",
              "      <td>10</td>\n",
              "      <td>48067</td>\n",
              "      <td>Erin Brockovich (2000)</td>\n",
              "      <td>Drama</td>\n",
              "    </tr>\n",
              "    <tr>\n",
              "      <th>4</th>\n",
              "      <td>1</td>\n",
              "      <td>2355</td>\n",
              "      <td>5</td>\n",
              "      <td>F</td>\n",
              "      <td>1</td>\n",
              "      <td>10</td>\n",
              "      <td>48067</td>\n",
              "      <td>Bug's Life, A (1998)</td>\n",
              "      <td>Animation|Children's|Comedy</td>\n",
              "    </tr>\n",
              "    <tr>\n",
              "      <th>...</th>\n",
              "      <td>...</td>\n",
              "      <td>...</td>\n",
              "      <td>...</td>\n",
              "      <td>...</td>\n",
              "      <td>...</td>\n",
              "      <td>...</td>\n",
              "      <td>...</td>\n",
              "      <td>...</td>\n",
              "      <td>...</td>\n",
              "    </tr>\n",
              "    <tr>\n",
              "      <th>1000204</th>\n",
              "      <td>6040</td>\n",
              "      <td>1091</td>\n",
              "      <td>1</td>\n",
              "      <td>M</td>\n",
              "      <td>25</td>\n",
              "      <td>6</td>\n",
              "      <td>11106</td>\n",
              "      <td>Weekend at Bernie's (1989)</td>\n",
              "      <td>Comedy</td>\n",
              "    </tr>\n",
              "    <tr>\n",
              "      <th>1000205</th>\n",
              "      <td>6040</td>\n",
              "      <td>1094</td>\n",
              "      <td>5</td>\n",
              "      <td>M</td>\n",
              "      <td>25</td>\n",
              "      <td>6</td>\n",
              "      <td>11106</td>\n",
              "      <td>Crying Game, The (1992)</td>\n",
              "      <td>Drama|Romance|War</td>\n",
              "    </tr>\n",
              "    <tr>\n",
              "      <th>1000206</th>\n",
              "      <td>6040</td>\n",
              "      <td>562</td>\n",
              "      <td>5</td>\n",
              "      <td>M</td>\n",
              "      <td>25</td>\n",
              "      <td>6</td>\n",
              "      <td>11106</td>\n",
              "      <td>Welcome to the Dollhouse (1995)</td>\n",
              "      <td>Comedy|Drama</td>\n",
              "    </tr>\n",
              "    <tr>\n",
              "      <th>1000207</th>\n",
              "      <td>6040</td>\n",
              "      <td>1096</td>\n",
              "      <td>4</td>\n",
              "      <td>M</td>\n",
              "      <td>25</td>\n",
              "      <td>6</td>\n",
              "      <td>11106</td>\n",
              "      <td>Sophie's Choice (1982)</td>\n",
              "      <td>Drama</td>\n",
              "    </tr>\n",
              "    <tr>\n",
              "      <th>1000208</th>\n",
              "      <td>6040</td>\n",
              "      <td>1097</td>\n",
              "      <td>4</td>\n",
              "      <td>M</td>\n",
              "      <td>25</td>\n",
              "      <td>6</td>\n",
              "      <td>11106</td>\n",
              "      <td>E.T. the Extra-Terrestrial (1982)</td>\n",
              "      <td>Children's|Drama|Fantasy|Sci-Fi</td>\n",
              "    </tr>\n",
              "  </tbody>\n",
              "</table>\n",
              "<p>1000209 rows × 9 columns</p>\n",
              "</div>"
            ],
            "text/plain": [
              "         UserID  ...                           Genres\n",
              "0             1  ...                            Drama\n",
              "1             1  ...     Animation|Children's|Musical\n",
              "2             1  ...                  Musical|Romance\n",
              "3             1  ...                            Drama\n",
              "4             1  ...      Animation|Children's|Comedy\n",
              "...         ...  ...                              ...\n",
              "1000204    6040  ...                           Comedy\n",
              "1000205    6040  ...                Drama|Romance|War\n",
              "1000206    6040  ...                     Comedy|Drama\n",
              "1000207    6040  ...                            Drama\n",
              "1000208    6040  ...  Children's|Drama|Fantasy|Sci-Fi\n",
              "\n",
              "[1000209 rows x 9 columns]"
            ]
          },
          "metadata": {
            "tags": []
          },
          "execution_count": 4
        }
      ]
    },
    {
      "cell_type": "code",
      "metadata": {
        "id": "bDJTngS2JhuA",
        "colab_type": "code",
        "colab": {
          "base_uri": "https://localhost:8080/",
          "height": 34
        },
        "outputId": "17d874c2-978f-4659-cae6-42c4c28c6c52"
      },
      "source": [
        "df.shape"
      ],
      "execution_count": null,
      "outputs": [
        {
          "output_type": "execute_result",
          "data": {
            "text/plain": [
              "(1000209, 9)"
            ]
          },
          "metadata": {
            "tags": []
          },
          "execution_count": 8
        }
      ]
    },
    {
      "cell_type": "code",
      "metadata": {
        "id": "QUA8u_CvJlzQ",
        "colab_type": "code",
        "colab": {
          "base_uri": "https://localhost:8080/",
          "height": 118
        },
        "outputId": "eb249f3f-e178-4db8-e0d5-7f8160bb2924"
      },
      "source": [
        "!pip install surprise"
      ],
      "execution_count": null,
      "outputs": [
        {
          "output_type": "stream",
          "text": [
            "Requirement already satisfied: surprise in /usr/local/lib/python3.6/dist-packages (0.1)\n",
            "Requirement already satisfied: scikit-surprise in /usr/local/lib/python3.6/dist-packages (from surprise) (1.1.0)\n",
            "Requirement already satisfied: scipy>=1.0.0 in /usr/local/lib/python3.6/dist-packages (from scikit-surprise->surprise) (1.4.1)\n",
            "Requirement already satisfied: numpy>=1.11.2 in /usr/local/lib/python3.6/dist-packages (from scikit-surprise->surprise) (1.18.5)\n",
            "Requirement already satisfied: six>=1.10.0 in /usr/local/lib/python3.6/dist-packages (from scikit-surprise->surprise) (1.12.0)\n",
            "Requirement already satisfied: joblib>=0.11 in /usr/local/lib/python3.6/dist-packages (from scikit-surprise->surprise) (0.15.1)\n"
          ],
          "name": "stdout"
        }
      ]
    },
    {
      "cell_type": "code",
      "metadata": {
        "id": "UNVylknwJol5",
        "colab_type": "code",
        "colab": {}
      },
      "source": [
        "from surprise import Reader, Dataset , KNNWithMeans"
      ],
      "execution_count": null,
      "outputs": []
    },
    {
      "cell_type": "code",
      "metadata": {
        "id": "ZxB-4tRtJ3p-",
        "colab_type": "code",
        "colab": {}
      },
      "source": [
        "reader = Reader(rating_scale=(1,5))\n",
        "#Loads from Dataframe into data\n",
        "data = Dataset.load_from_df(df[['UserID','MovieID','Rating']],reader)"
      ],
      "execution_count": null,
      "outputs": []
    },
    {
      "cell_type": "code",
      "metadata": {
        "id": "L7Dc6nfVKFmH",
        "colab_type": "code",
        "colab": {}
      },
      "source": [
        "#Compute similarity between items\n",
        "methods = {\n",
        "    'name':'cosine',\n",
        "    'user_based': False\n",
        "}\n",
        "algo = KNNWithMeans(k=10,sim_options=methods)"
      ],
      "execution_count": null,
      "outputs": []
    },
    {
      "cell_type": "code",
      "metadata": {
        "id": "lY96jK0fKGQD",
        "colab_type": "code",
        "colab": {
          "base_uri": "https://localhost:8080/",
          "height": 67
        },
        "outputId": "0262d176-4e73-42a2-b2f3-8990852c92e1"
      },
      "source": [
        "trainset = data.build_full_trainset()\n",
        "#Fit KNNwithmean\n",
        "algo.fit(trainset)"
      ],
      "execution_count": null,
      "outputs": [
        {
          "output_type": "stream",
          "text": [
            "Computing the cosine similarity matrix...\n",
            "Done computing similarity matrix.\n"
          ],
          "name": "stdout"
        },
        {
          "output_type": "execute_result",
          "data": {
            "text/plain": [
              "<surprise.prediction_algorithms.knns.KNNWithMeans at 0x7f0129086198>"
            ]
          },
          "metadata": {
            "tags": []
          },
          "execution_count": 13
        }
      ]
    },
    {
      "cell_type": "code",
      "metadata": {
        "id": "deu3JPmruZUX",
        "colab_type": "code",
        "colab": {}
      },
      "source": [
        "def prediction(userid,movieid):\n",
        "  pred = algo.predict(userid,movieid)\n",
        "  rating =  pred.est\n",
        "  print('User {} rate {:.1f}/5 of movieid {}'.format(userid,rating,movieid))"
      ],
      "execution_count": null,
      "outputs": []
    },
    {
      "cell_type": "code",
      "metadata": {
        "id": "ignDdBX-vjNr",
        "colab_type": "code",
        "colab": {
          "base_uri": "https://localhost:8080/",
          "height": 34
        },
        "outputId": "ab473334-72e2-42ab-c18c-b73b8963b14b"
      },
      "source": [
        "prediction(35,45)"
      ],
      "execution_count": null,
      "outputs": [
        {
          "output_type": "stream",
          "text": [
            "User 35 rate 2.9/5 of movieid 45\n"
          ],
          "name": "stdout"
        }
      ]
    },
    {
      "cell_type": "code",
      "metadata": {
        "id": "jU9gHMbovmEt",
        "colab_type": "code",
        "colab": {
          "base_uri": "https://localhost:8080/",
          "height": 1000
        },
        "outputId": "2fc0ab7b-9119-4dc4-efc6-4cddad80250c"
      },
      "source": [
        "from surprise.model_selection import GridSearchCV\n",
        "\n",
        "data = Dataset.load_from_df(df[['UserID','MovieID','Rating']],reader)\n",
        "sim_options = {\n",
        "    \"name\": [\"msd\", \"cosine\"],\n",
        "    \"min_support\": [3, 4, 5],\n",
        "    \"user_based\": [False, True],\n",
        "}\n",
        "\n",
        "param_grid = {\"sim_options\": sim_options}\n",
        "\n",
        "gs = GridSearchCV(KNNWithMeans, param_grid, measures=[\"rmse\", \"mae\"], cv=3)\n",
        "gs.fit(data)\n",
        "\n",
        "print(gs.best_score[\"rmse\"])\n",
        "print(gs.best_params[\"rmse\"])"
      ],
      "execution_count": null,
      "outputs": [
        {
          "output_type": "stream",
          "text": [
            "Computing the msd similarity matrix...\n",
            "Done computing similarity matrix.\n",
            "Computing the msd similarity matrix...\n",
            "Done computing similarity matrix.\n",
            "Computing the msd similarity matrix...\n",
            "Done computing similarity matrix.\n",
            "Computing the msd similarity matrix...\n",
            "Done computing similarity matrix.\n",
            "Computing the msd similarity matrix...\n",
            "Done computing similarity matrix.\n",
            "Computing the msd similarity matrix...\n",
            "Done computing similarity matrix.\n",
            "Computing the msd similarity matrix...\n",
            "Done computing similarity matrix.\n",
            "Computing the msd similarity matrix...\n",
            "Done computing similarity matrix.\n",
            "Computing the msd similarity matrix...\n",
            "Done computing similarity matrix.\n",
            "Computing the msd similarity matrix...\n",
            "Done computing similarity matrix.\n",
            "Computing the msd similarity matrix...\n",
            "Done computing similarity matrix.\n",
            "Computing the msd similarity matrix...\n",
            "Done computing similarity matrix.\n",
            "Computing the msd similarity matrix...\n",
            "Done computing similarity matrix.\n",
            "Computing the msd similarity matrix...\n",
            "Done computing similarity matrix.\n",
            "Computing the msd similarity matrix...\n",
            "Done computing similarity matrix.\n",
            "Computing the msd similarity matrix...\n",
            "Done computing similarity matrix.\n",
            "Computing the msd similarity matrix...\n",
            "Done computing similarity matrix.\n",
            "Computing the msd similarity matrix...\n",
            "Done computing similarity matrix.\n",
            "Computing the cosine similarity matrix...\n",
            "Done computing similarity matrix.\n",
            "Computing the cosine similarity matrix...\n",
            "Done computing similarity matrix.\n",
            "Computing the cosine similarity matrix...\n",
            "Done computing similarity matrix.\n",
            "Computing the cosine similarity matrix...\n",
            "Done computing similarity matrix.\n",
            "Computing the cosine similarity matrix...\n",
            "Done computing similarity matrix.\n",
            "Computing the cosine similarity matrix...\n",
            "Done computing similarity matrix.\n",
            "Computing the cosine similarity matrix...\n",
            "Done computing similarity matrix.\n",
            "Computing the cosine similarity matrix...\n",
            "Done computing similarity matrix.\n",
            "Computing the cosine similarity matrix...\n",
            "Done computing similarity matrix.\n",
            "Computing the cosine similarity matrix...\n",
            "Done computing similarity matrix.\n",
            "Computing the cosine similarity matrix...\n",
            "Done computing similarity matrix.\n",
            "Computing the cosine similarity matrix...\n",
            "Done computing similarity matrix.\n",
            "Computing the cosine similarity matrix...\n",
            "Done computing similarity matrix.\n",
            "Computing the cosine similarity matrix...\n",
            "Done computing similarity matrix.\n",
            "Computing the cosine similarity matrix...\n",
            "Done computing similarity matrix.\n",
            "Computing the cosine similarity matrix...\n",
            "Done computing similarity matrix.\n",
            "Computing the cosine similarity matrix...\n",
            "Done computing similarity matrix.\n",
            "Computing the cosine similarity matrix...\n",
            "Done computing similarity matrix.\n",
            "0.8879431354698221\n",
            "{'sim_options': {'name': 'msd', 'min_support': 5, 'user_based': False}}\n"
          ],
          "name": "stdout"
        }
      ]
    },
    {
      "cell_type": "markdown",
      "metadata": {
        "id": "VrOBr7kCRgex",
        "colab_type": "text"
      },
      "source": [
        " ## **GridSearchCV**"
      ]
    },
    {
      "cell_type": "markdown",
      "metadata": {
        "id": "jUqYkDs9KLGI",
        "colab_type": "text"
      },
      "source": [
        "## ***1.***   ***KNNWithMeans***"
      ]
    },
    {
      "cell_type": "code",
      "metadata": {
        "id": "gK8RcZLqpOM0",
        "colab_type": "code",
        "colab": {
          "base_uri": "https://localhost:8080/",
          "height": 1000
        },
        "outputId": "e83906d7-3557-429a-e5aa-258677112f28"
      },
      "source": [
        "#KNNWithMeans\n",
        "from surprise.model_selection import GridSearchCV\n",
        "\n",
        "data = Dataset.load_from_df(df[['UserID','MovieID','Rating']],reader)\n",
        "sim_options = {\n",
        "    \"name\": [\"msd\", \"cosine\"],\n",
        "    \"min_support\": [3, 4, 5],\n",
        "    \"user_based\": [False, True],\n",
        "}\n",
        "\n",
        "param_grid = {\"sim_options\": sim_options}\n",
        "\n",
        "gs = GridSearchCV(KNNWithMeans, param_grid, measures=[\"rmse\", \"mae\"], cv=3)\n",
        "gs.fit(data)\n",
        "\n",
        "algo = gs.best_estimator['rmse']\n",
        "algo.fit(data.build_full_trainset())\n",
        "\n",
        "print(\"RMSE:\",gs.best_score[\"rmse\"])\n",
        "print(\"MAE:\",gs.best_score[\"mae\"])\n",
        "\n",
        "print(\"RMSE Best Params:\",gs.best_params[\"rmse\"])\n",
        "print(\"MAE Best Params:\",gs.best_params[\"mae\"])\n"
      ],
      "execution_count": null,
      "outputs": [
        {
          "output_type": "stream",
          "text": [
            "Computing the msd similarity matrix...\n",
            "Done computing similarity matrix.\n",
            "Computing the msd similarity matrix...\n",
            "Done computing similarity matrix.\n",
            "Computing the msd similarity matrix...\n",
            "Done computing similarity matrix.\n",
            "Computing the msd similarity matrix...\n",
            "Done computing similarity matrix.\n",
            "Computing the msd similarity matrix...\n",
            "Done computing similarity matrix.\n",
            "Computing the msd similarity matrix...\n",
            "Done computing similarity matrix.\n",
            "Computing the msd similarity matrix...\n",
            "Done computing similarity matrix.\n",
            "Computing the msd similarity matrix...\n",
            "Done computing similarity matrix.\n",
            "Computing the msd similarity matrix...\n",
            "Done computing similarity matrix.\n",
            "Computing the msd similarity matrix...\n",
            "Done computing similarity matrix.\n",
            "Computing the msd similarity matrix...\n",
            "Done computing similarity matrix.\n",
            "Computing the msd similarity matrix...\n",
            "Done computing similarity matrix.\n",
            "Computing the msd similarity matrix...\n",
            "Done computing similarity matrix.\n",
            "Computing the msd similarity matrix...\n",
            "Done computing similarity matrix.\n",
            "Computing the msd similarity matrix...\n",
            "Done computing similarity matrix.\n",
            "Computing the msd similarity matrix...\n",
            "Done computing similarity matrix.\n",
            "Computing the msd similarity matrix...\n",
            "Done computing similarity matrix.\n",
            "Computing the msd similarity matrix...\n",
            "Done computing similarity matrix.\n",
            "Computing the cosine similarity matrix...\n",
            "Done computing similarity matrix.\n",
            "Computing the cosine similarity matrix...\n",
            "Done computing similarity matrix.\n",
            "Computing the cosine similarity matrix...\n",
            "Done computing similarity matrix.\n",
            "Computing the cosine similarity matrix...\n",
            "Done computing similarity matrix.\n",
            "Computing the cosine similarity matrix...\n",
            "Done computing similarity matrix.\n",
            "Computing the cosine similarity matrix...\n",
            "Done computing similarity matrix.\n",
            "Computing the cosine similarity matrix...\n",
            "Done computing similarity matrix.\n",
            "Computing the cosine similarity matrix...\n",
            "Done computing similarity matrix.\n",
            "Computing the cosine similarity matrix...\n",
            "Done computing similarity matrix.\n",
            "Computing the cosine similarity matrix...\n",
            "Done computing similarity matrix.\n",
            "Computing the cosine similarity matrix...\n",
            "Done computing similarity matrix.\n",
            "Computing the cosine similarity matrix...\n",
            "Done computing similarity matrix.\n",
            "Computing the cosine similarity matrix...\n",
            "Done computing similarity matrix.\n",
            "Computing the cosine similarity matrix...\n",
            "Done computing similarity matrix.\n",
            "Computing the cosine similarity matrix...\n",
            "Done computing similarity matrix.\n",
            "Computing the cosine similarity matrix...\n",
            "Done computing similarity matrix.\n",
            "Computing the cosine similarity matrix...\n",
            "Done computing similarity matrix.\n",
            "Computing the cosine similarity matrix...\n",
            "Done computing similarity matrix.\n",
            "Computing the msd similarity matrix...\n",
            "Done computing similarity matrix.\n",
            "RMSE: 0.88773908475051\n",
            "MAE: 0.6964841763563742\n",
            "RMSE Best Params: {'sim_options': {'name': 'msd', 'min_support': 5, 'user_based': False}}\n",
            "MAE Best Params: {'sim_options': {'name': 'msd', 'min_support': 5, 'user_based': False}}\n"
          ],
          "name": "stdout"
        }
      ]
    },
    {
      "cell_type": "code",
      "metadata": {
        "id": "TRcYx7WvSw99",
        "colab_type": "code",
        "colab": {
          "base_uri": "https://localhost:8080/",
          "height": 67
        },
        "outputId": "af49a91b-7f63-422a-c8bd-e91bf28dbb2b"
      },
      "source": [
        "alg = gs.best_estimator['rmse']\n",
        "alg.fit(data.build_full_trainset())\n",
        "print(alg)"
      ],
      "execution_count": null,
      "outputs": [
        {
          "output_type": "stream",
          "text": [
            "Computing the msd similarity matrix...\n",
            "Done computing similarity matrix.\n",
            "<surprise.prediction_algorithms.knns.KNNWithMeans object at 0x7fc13634e898>\n"
          ],
          "name": "stdout"
        }
      ]
    },
    {
      "cell_type": "code",
      "metadata": {
        "id": "0nblcghxuG9G",
        "colab_type": "code",
        "colab": {
          "base_uri": "https://localhost:8080/",
          "height": 101
        },
        "outputId": "8471eeff-5c20-4f99-98e1-df9838f5b1b5"
      },
      "source": [
        "# perform train test split on the best parametres\n",
        "from surprise import KNNWithMeans\n",
        "from surprise.model_selection import train_test_split\n",
        "from surprise import accuracy\n",
        "trainset, testset = train_test_split(data, test_size=.25)\n",
        "\n",
        "algo=KNNWithMeans(name='msd', min_support=5, user_based=False)\n",
        "predictions=algo.fit(trainset).test(testset)\n",
        "accuracy.rmse(predictions)\n",
        "accuracy.mae(predictions)"
      ],
      "execution_count": null,
      "outputs": [
        {
          "output_type": "stream",
          "text": [
            "Computing the msd similarity matrix...\n",
            "Done computing similarity matrix.\n",
            "RMSE: 0.9306\n",
            "MAE:  0.7391\n"
          ],
          "name": "stdout"
        },
        {
          "output_type": "execute_result",
          "data": {
            "text/plain": [
              "0.739127786331252"
            ]
          },
          "metadata": {
            "tags": []
          },
          "execution_count": 18
        }
      ]
    },
    {
      "cell_type": "code",
      "metadata": {
        "id": "0-OeYZnLPVlC",
        "colab_type": "code",
        "colab": {
          "base_uri": "https://localhost:8080/",
          "height": 84
        },
        "outputId": "fa0cec45-c843-4974-a93a-0b6d9d12f935"
      },
      "source": [
        "# using cosine similarity\n",
        "from surprise import KNNWithMeans\n",
        "from surprise.model_selection import train_test_split\n",
        "from surprise import accuracy\n",
        "trainset, testset = train_test_split(data, test_size=.25)\n",
        "\n",
        "algo=KNNWithMeans(name='cosine', min_support=5, user_based=False)\n",
        "predictions=algo.fit(trainset).test(testset)\n",
        "accuracy.rmse(predictions)"
      ],
      "execution_count": null,
      "outputs": [
        {
          "output_type": "stream",
          "text": [
            "Computing the msd similarity matrix...\n",
            "Done computing similarity matrix.\n",
            "RMSE: 0.9295\n"
          ],
          "name": "stdout"
        },
        {
          "output_type": "execute_result",
          "data": {
            "text/plain": [
              "0.9295199820631201"
            ]
          },
          "metadata": {
            "tags": []
          },
          "execution_count": 22
        }
      ]
    },
    {
      "cell_type": "code",
      "metadata": {
        "id": "qJuNFlXWXaAi",
        "colab_type": "code",
        "colab": {
          "base_uri": "https://localhost:8080/",
          "height": 185
        },
        "outputId": "81b1bde7-9b1a-4238-9c86-20953c1f88a2"
      },
      "source": [
        "# KNNWithMeans using cosine similarity only\n",
        "from surprise import KNNWithMeans\n",
        "from surprise import Dataset , Reader\n",
        "from surprise.model_selection import GridSearchCV\n",
        "\n",
        "\n",
        "reader = Reader(rating_scale=(1,5))\n",
        "data = Dataset.load_from_df(df[['UserID','MovieID','Rating']],reader)\n",
        "sim_options = {\n",
        "    \"name\": [\"cosine\"],\n",
        "    \"min_support\": [5],\n",
        "    \"user_based\": [False],\n",
        "}\n",
        "\n",
        "param_grid = {\"sim_options\": sim_options}\n",
        "\n",
        "gs = GridSearchCV(KNNWithMeans, param_grid, measures=[\"rmse\", \"mae\"], cv=3)\n",
        "gs.fit(data)\n",
        "\n",
        "print(\"RMSE:\",gs.best_score[\"rmse\"])\n",
        "print(\"MAE:\",gs.best_score[\"mae\"])\n",
        "\n",
        "print(\"RMSE Best Params:\",gs.best_params[\"rmse\"])\n",
        "print(\"MAE Best Params:\",gs.best_params[\"mae\"])\n"
      ],
      "execution_count": null,
      "outputs": [
        {
          "output_type": "stream",
          "text": [
            "Computing the cosine similarity matrix...\n",
            "Done computing similarity matrix.\n",
            "Computing the cosine similarity matrix...\n",
            "Done computing similarity matrix.\n",
            "Computing the cosine similarity matrix...\n",
            "Done computing similarity matrix.\n",
            "RMSE: 0.89408056190716\n",
            "MAE: 0.702771576599453\n",
            "RMSE Best Params: {'sim_options': {'name': 'cosine', 'min_support': 5, 'user_based': False}}\n",
            "MAE Best Params: {'sim_options': {'name': 'cosine', 'min_support': 5, 'user_based': False}}\n"
          ],
          "name": "stdout"
        }
      ]
    },
    {
      "cell_type": "markdown",
      "metadata": {
        "id": "T-wbaaoTViTs",
        "colab_type": "text"
      },
      "source": [
        "\n",
        "##***2.   KNNBasic***\n",
        "\n"
      ]
    },
    {
      "cell_type": "code",
      "metadata": {
        "id": "rvl6eLpYSAg0",
        "colab_type": "code",
        "colab": {
          "base_uri": "https://localhost:8080/",
          "height": 1000
        },
        "outputId": "0b53c61b-ed6c-4071-8163-88bf1b7c1159"
      },
      "source": [
        "# KNNBasic\n",
        "from surprise import KNNBasic\n",
        "from surprise import Dataset , Reader\n",
        "from surprise.model_selection import GridSearchCV\n",
        "\n",
        "data = Dataset.load_from_df(df[['UserID','MovieID','Rating']],reader)\n",
        "sim_options = {\n",
        "    \"name\": [\"msd\", \"cosine\"],\n",
        "    \"min_support\": [3, 4, 5],\n",
        "    \"user_based\": [False, True],\n",
        "}\n",
        "\n",
        "param_grid = {\"sim_options\": sim_options}\n",
        "\n",
        "gs = GridSearchCV(KNNBasic, param_grid, measures=[\"rmse\", \"mae\"], cv=3)\n",
        "gs.fit(data)\n",
        "\n",
        "algo = gs.best_estimator['rmse']\n",
        "algo.fit(data.build_full_trainset())\n",
        "\n",
        "print(\"RMSE:\",gs.best_score[\"rmse\"])\n",
        "print(\"MAE:\",gs.best_score[\"mae\"])\n",
        "\n",
        "print(\"RMSE Best Params:\",gs.best_params[\"rmse\"])\n",
        "print(\"MAE Best Params:\",gs.best_params[\"mae\"])\n"
      ],
      "execution_count": null,
      "outputs": [
        {
          "output_type": "stream",
          "text": [
            "Computing the msd similarity matrix...\n",
            "Done computing similarity matrix.\n",
            "Computing the msd similarity matrix...\n",
            "Done computing similarity matrix.\n",
            "Computing the msd similarity matrix...\n",
            "Done computing similarity matrix.\n",
            "Computing the msd similarity matrix...\n",
            "Done computing similarity matrix.\n",
            "Computing the msd similarity matrix...\n",
            "Done computing similarity matrix.\n",
            "Computing the msd similarity matrix...\n",
            "Done computing similarity matrix.\n",
            "Computing the msd similarity matrix...\n",
            "Done computing similarity matrix.\n",
            "Computing the msd similarity matrix...\n",
            "Done computing similarity matrix.\n",
            "Computing the msd similarity matrix...\n",
            "Done computing similarity matrix.\n",
            "Computing the msd similarity matrix...\n",
            "Done computing similarity matrix.\n",
            "Computing the msd similarity matrix...\n",
            "Done computing similarity matrix.\n",
            "Computing the msd similarity matrix...\n",
            "Done computing similarity matrix.\n",
            "Computing the msd similarity matrix...\n",
            "Done computing similarity matrix.\n",
            "Computing the msd similarity matrix...\n",
            "Done computing similarity matrix.\n",
            "Computing the msd similarity matrix...\n",
            "Done computing similarity matrix.\n",
            "Computing the msd similarity matrix...\n",
            "Done computing similarity matrix.\n",
            "Computing the msd similarity matrix...\n",
            "Done computing similarity matrix.\n",
            "Computing the msd similarity matrix...\n",
            "Done computing similarity matrix.\n",
            "Computing the cosine similarity matrix...\n",
            "Done computing similarity matrix.\n",
            "Computing the cosine similarity matrix...\n",
            "Done computing similarity matrix.\n",
            "Computing the cosine similarity matrix...\n",
            "Done computing similarity matrix.\n",
            "Computing the cosine similarity matrix...\n",
            "Done computing similarity matrix.\n",
            "Computing the cosine similarity matrix...\n",
            "Done computing similarity matrix.\n",
            "Computing the cosine similarity matrix...\n",
            "Done computing similarity matrix.\n",
            "Computing the cosine similarity matrix...\n",
            "Done computing similarity matrix.\n",
            "Computing the cosine similarity matrix...\n",
            "Done computing similarity matrix.\n",
            "Computing the cosine similarity matrix...\n",
            "Done computing similarity matrix.\n",
            "Computing the cosine similarity matrix...\n",
            "Done computing similarity matrix.\n",
            "Computing the cosine similarity matrix...\n",
            "Done computing similarity matrix.\n",
            "Computing the cosine similarity matrix...\n",
            "Done computing similarity matrix.\n",
            "Computing the cosine similarity matrix...\n",
            "Done computing similarity matrix.\n",
            "Computing the cosine similarity matrix...\n",
            "Done computing similarity matrix.\n",
            "Computing the cosine similarity matrix...\n",
            "Done computing similarity matrix.\n",
            "Computing the cosine similarity matrix...\n",
            "Done computing similarity matrix.\n",
            "Computing the cosine similarity matrix...\n",
            "Done computing similarity matrix.\n",
            "Computing the cosine similarity matrix...\n",
            "Done computing similarity matrix.\n",
            "Computing the msd similarity matrix...\n",
            "Done computing similarity matrix.\n",
            "RMSE: 0.9200638941257951\n",
            "MAE: 0.723564229561002\n",
            "RMSE Best Params: {'sim_options': {'name': 'msd', 'min_support': 5, 'user_based': False}}\n",
            "MAE Best Params: {'sim_options': {'name': 'msd', 'min_support': 5, 'user_based': False}}\n"
          ],
          "name": "stdout"
        }
      ]
    },
    {
      "cell_type": "code",
      "metadata": {
        "id": "haPlUROgQ_Ys",
        "colab_type": "code",
        "colab": {
          "base_uri": "https://localhost:8080/",
          "height": 101
        },
        "outputId": "6e9d6e4b-e014-46fb-ef9f-5af5457d62b2"
      },
      "source": [
        "# perform train test split using best parameters\n",
        "from surprise import KNNBasic\n",
        "from surprise.model_selection import train_test_split\n",
        "from surprise import accuracy\n",
        "trainset, testset = train_test_split(data, test_size=.25)\n",
        "\n",
        "algo=KNNBasic(name = 'msd', min_support = 5, user_based = False)\n",
        "predictions=algo.fit(trainset).test(testset)\n",
        "accuracy.rmse(predictions)\n",
        "accuracy.mae(predictions)"
      ],
      "execution_count": null,
      "outputs": [
        {
          "output_type": "stream",
          "text": [
            "Computing the msd similarity matrix...\n",
            "Done computing similarity matrix.\n",
            "RMSE: 0.9262\n",
            "MAE:  0.7307\n"
          ],
          "name": "stdout"
        },
        {
          "output_type": "execute_result",
          "data": {
            "text/plain": [
              "0.7306556466223432"
            ]
          },
          "metadata": {
            "tags": []
          },
          "execution_count": 29
        }
      ]
    },
    {
      "cell_type": "code",
      "metadata": {
        "id": "F4rjvLnhlyDm",
        "colab_type": "code",
        "colab": {
          "base_uri": "https://localhost:8080/",
          "height": 101
        },
        "outputId": "759eaf31-417c-46ec-cba6-72cbad391423"
      },
      "source": [
        "#using cosine similarity\n",
        "from surprise import KNNBasic\n",
        "from surprise.model_selection import train_test_split\n",
        "from surprise import accuracy\n",
        "trainset, testset = train_test_split(data, test_size=.25)\n",
        "\n",
        "algo=KNNBasic(name = 'cosine', min_support = 5, user_based = False)\n",
        "predictions=algo.fit(trainset).test(testset)\n",
        "accuracy.rmse(predictions)\n",
        "accuracy.mae(predictions)"
      ],
      "execution_count": null,
      "outputs": [
        {
          "output_type": "stream",
          "text": [
            "Computing the msd similarity matrix...\n",
            "Done computing similarity matrix.\n",
            "RMSE: 0.9289\n",
            "MAE:  0.7317\n"
          ],
          "name": "stdout"
        },
        {
          "output_type": "execute_result",
          "data": {
            "text/plain": [
              "0.7316674140159196"
            ]
          },
          "metadata": {
            "tags": []
          },
          "execution_count": 8
        }
      ]
    },
    {
      "cell_type": "code",
      "metadata": {
        "id": "xw1-Wu6McC2b",
        "colab_type": "code",
        "colab": {
          "base_uri": "https://localhost:8080/",
          "height": 185
        },
        "outputId": "8c3222df-98a3-41d0-d592-c12368242e28"
      },
      "source": [
        "# KNNBasic using cosine similarity only\n",
        "from surprise import KNNBasic\n",
        "from surprise import Dataset , Reader\n",
        "from surprise.model_selection import GridSearchCV\n",
        "\n",
        "\n",
        "reader = Reader(rating_scale=(1,5))\n",
        "data = Dataset.load_from_df(df[['UserID','MovieID','Rating']],reader)\n",
        "sim_options = {\n",
        "    \"name\": [\"cosine\"],\n",
        "    \"min_support\": [5],\n",
        "    \"user_based\": [False],\n",
        "}\n",
        "\n",
        "param_grid = {\"sim_options\": sim_options}\n",
        "\n",
        "gs = GridSearchCV(KNNBasic, param_grid, measures=[\"rmse\", \"mae\"], cv=3)\n",
        "gs.fit(data)\n",
        "\n",
        "print(\"RMSE:\",gs.best_score[\"rmse\"])\n",
        "print(\"MAE:\",gs.best_score[\"mae\"])\n",
        "\n",
        "print(\"RMSE Best Params:\",gs.best_params[\"rmse\"])\n",
        "print(\"MAE Best Params:\",gs.best_params[\"mae\"])\n"
      ],
      "execution_count": null,
      "outputs": [
        {
          "output_type": "stream",
          "text": [
            "Computing the cosine similarity matrix...\n",
            "Done computing similarity matrix.\n",
            "Computing the cosine similarity matrix...\n",
            "Done computing similarity matrix.\n",
            "Computing the cosine similarity matrix...\n",
            "Done computing similarity matrix.\n",
            "RMSE: 0.999738826435713\n",
            "MAE: 0.7804487811659365\n",
            "RMSE Best Params: {'sim_options': {'name': 'cosine', 'min_support': 5, 'user_based': False}}\n",
            "MAE Best Params: {'sim_options': {'name': 'cosine', 'min_support': 5, 'user_based': False}}\n"
          ],
          "name": "stdout"
        }
      ]
    },
    {
      "cell_type": "markdown",
      "metadata": {
        "id": "xI_OiRQ3WMv8",
        "colab_type": "text"
      },
      "source": [
        "##***3. KNNBaseline***"
      ]
    },
    {
      "cell_type": "code",
      "metadata": {
        "id": "o9ZNBqkeeGrf",
        "colab_type": "code",
        "colab": {
          "base_uri": "https://localhost:8080/",
          "height": 1000
        },
        "outputId": "ef1c3ed3-3bc3-46ac-de4d-1f547aec6407"
      },
      "source": [
        "from surprise import KNNBaseline\n",
        "from surprise import Dataset , Reader\n",
        "from surprise.model_selection import GridSearchCV\n",
        "\n",
        "data = Dataset.load_from_df(df[['UserID','MovieID','Rating']],reader)\n",
        "sim_options = {\n",
        "    \"name\": [\"msd\", \"cosine\"],\n",
        "    \"min_support\": [3, 4, 5],\n",
        "    \"user_based\": [False, True],\n",
        "}\n",
        "\n",
        "param_grid = {\"sim_options\": sim_options}\n",
        "\n",
        "gs = GridSearchCV(KNNBaseline, param_grid, measures=[\"rmse\", \"mae\"], cv=3)\n",
        "gs.fit(data)\n",
        "\n",
        "algo = gs.best_estimator['rmse']\n",
        "algo.fit(data.build_full_trainset())\n",
        "\n",
        "print(\"RMSE:\",gs.best_score[\"rmse\"])\n",
        "print(\"MAE:\",gs.best_score[\"mae\"])\n",
        "\n",
        "print(\"RMSE Best Params:\",gs.best_params[\"rmse\"])\n",
        "print(\"MAE Best Params:\",gs.best_params[\"mae\"])\n"
      ],
      "execution_count": null,
      "outputs": [
        {
          "output_type": "stream",
          "text": [
            "Estimating biases using als...\n",
            "Computing the msd similarity matrix...\n",
            "Done computing similarity matrix.\n",
            "Estimating biases using als...\n",
            "Computing the msd similarity matrix...\n",
            "Done computing similarity matrix.\n",
            "Estimating biases using als...\n",
            "Computing the msd similarity matrix...\n",
            "Done computing similarity matrix.\n",
            "Estimating biases using als...\n",
            "Computing the msd similarity matrix...\n",
            "Done computing similarity matrix.\n",
            "Estimating biases using als...\n",
            "Computing the msd similarity matrix...\n",
            "Done computing similarity matrix.\n",
            "Estimating biases using als...\n",
            "Computing the msd similarity matrix...\n",
            "Done computing similarity matrix.\n",
            "Estimating biases using als...\n",
            "Computing the msd similarity matrix...\n",
            "Done computing similarity matrix.\n",
            "Estimating biases using als...\n",
            "Computing the msd similarity matrix...\n",
            "Done computing similarity matrix.\n",
            "Estimating biases using als...\n",
            "Computing the msd similarity matrix...\n",
            "Done computing similarity matrix.\n",
            "Estimating biases using als...\n",
            "Computing the msd similarity matrix...\n",
            "Done computing similarity matrix.\n",
            "Estimating biases using als...\n",
            "Computing the msd similarity matrix...\n",
            "Done computing similarity matrix.\n",
            "Estimating biases using als...\n",
            "Computing the msd similarity matrix...\n",
            "Done computing similarity matrix.\n",
            "Estimating biases using als...\n",
            "Computing the msd similarity matrix...\n",
            "Done computing similarity matrix.\n",
            "Estimating biases using als...\n",
            "Computing the msd similarity matrix...\n",
            "Done computing similarity matrix.\n",
            "Estimating biases using als...\n",
            "Computing the msd similarity matrix...\n",
            "Done computing similarity matrix.\n",
            "Estimating biases using als...\n",
            "Computing the msd similarity matrix...\n",
            "Done computing similarity matrix.\n",
            "Estimating biases using als...\n",
            "Computing the msd similarity matrix...\n",
            "Done computing similarity matrix.\n",
            "Estimating biases using als...\n",
            "Computing the msd similarity matrix...\n",
            "Done computing similarity matrix.\n",
            "Estimating biases using als...\n",
            "Computing the cosine similarity matrix...\n",
            "Done computing similarity matrix.\n",
            "Estimating biases using als...\n",
            "Computing the cosine similarity matrix...\n",
            "Done computing similarity matrix.\n",
            "Estimating biases using als...\n",
            "Computing the cosine similarity matrix...\n",
            "Done computing similarity matrix.\n",
            "Estimating biases using als...\n",
            "Computing the cosine similarity matrix...\n",
            "Done computing similarity matrix.\n",
            "Estimating biases using als...\n",
            "Computing the cosine similarity matrix...\n",
            "Done computing similarity matrix.\n",
            "Estimating biases using als...\n",
            "Computing the cosine similarity matrix...\n",
            "Done computing similarity matrix.\n",
            "Estimating biases using als...\n",
            "Computing the cosine similarity matrix...\n",
            "Done computing similarity matrix.\n",
            "Estimating biases using als...\n",
            "Computing the cosine similarity matrix...\n",
            "Done computing similarity matrix.\n",
            "Estimating biases using als...\n",
            "Computing the cosine similarity matrix...\n",
            "Done computing similarity matrix.\n",
            "Estimating biases using als...\n",
            "Computing the cosine similarity matrix...\n",
            "Done computing similarity matrix.\n",
            "Estimating biases using als...\n",
            "Computing the cosine similarity matrix...\n",
            "Done computing similarity matrix.\n",
            "Estimating biases using als...\n",
            "Computing the cosine similarity matrix...\n",
            "Done computing similarity matrix.\n",
            "Estimating biases using als...\n",
            "Computing the cosine similarity matrix...\n",
            "Done computing similarity matrix.\n",
            "Estimating biases using als...\n",
            "Computing the cosine similarity matrix...\n",
            "Done computing similarity matrix.\n",
            "Estimating biases using als...\n",
            "Computing the cosine similarity matrix...\n",
            "Done computing similarity matrix.\n",
            "Estimating biases using als...\n",
            "Computing the cosine similarity matrix...\n",
            "Done computing similarity matrix.\n",
            "Estimating biases using als...\n",
            "Computing the cosine similarity matrix...\n",
            "Done computing similarity matrix.\n",
            "Estimating biases using als...\n",
            "Computing the cosine similarity matrix...\n",
            "Done computing similarity matrix.\n",
            "Estimating biases using als...\n",
            "Computing the msd similarity matrix...\n",
            "Done computing similarity matrix.\n",
            "RMSE: 0.8876483738127501\n",
            "MAE: 0.697069340378991\n",
            "RMSE Best Params: {'sim_options': {'name': 'msd', 'min_support': 5, 'user_based': False}}\n",
            "MAE Best Params: {'sim_options': {'name': 'msd', 'min_support': 5, 'user_based': False}}\n"
          ],
          "name": "stdout"
        }
      ]
    },
    {
      "cell_type": "code",
      "metadata": {
        "id": "SzDtnJrbWq65",
        "colab_type": "code",
        "colab": {
          "base_uri": "https://localhost:8080/",
          "height": 118
        },
        "outputId": "d4f2f1cc-f8cf-47d7-e8fc-db9637f2f62b"
      },
      "source": [
        "# perform train test split on best parameters\n",
        "from surprise import KNNBaseline\n",
        "from surprise.model_selection import train_test_split\n",
        "from surprise import accuracy\n",
        "trainset, testset = train_test_split(data, test_size=.25)\n",
        "\n",
        "algo=KNNBaseline(name = 'msd', min_support = 5, user_based = False)\n",
        "predictions=algo.fit(trainset).test(testset)\n",
        "accuracy.rmse(predictions)\n",
        "accuracy.mae(predictions)"
      ],
      "execution_count": null,
      "outputs": [
        {
          "output_type": "stream",
          "text": [
            "Estimating biases using als...\n",
            "Computing the msd similarity matrix...\n",
            "Done computing similarity matrix.\n",
            "RMSE: 0.8952\n",
            "MAE:  0.7063\n"
          ],
          "name": "stdout"
        },
        {
          "output_type": "execute_result",
          "data": {
            "text/plain": [
              "0.7062906993749141"
            ]
          },
          "metadata": {
            "tags": []
          },
          "execution_count": 30
        }
      ]
    },
    {
      "cell_type": "markdown",
      "metadata": {
        "id": "xBXjsE_iWyN6",
        "colab_type": "text"
      },
      "source": [
        "#*KNNBaseline* (Check which parameter is best from pearson_baseline and cosine similaritry)"
      ]
    },
    {
      "cell_type": "code",
      "metadata": {
        "id": "FSwxsYO6BYSq",
        "colab_type": "code",
        "colab": {
          "base_uri": "https://localhost:8080/",
          "height": 1000
        },
        "outputId": "6eda3206-2b1f-43ab-ef45-f635dc6e6b23"
      },
      "source": [
        "#KNNBaseline using pearson baseline and cosine similaritry\n",
        "from surprise import KNNBaseline\n",
        "from surprise import Dataset , Reader\n",
        "from surprise.model_selection import GridSearchCV\n",
        "\n",
        "data = Dataset.load_from_df(df[['UserID','MovieID','Rating']],reader)\n",
        "sim_options = {\n",
        "    \"name\": [\"pearson_baseline\", \"cosine\"],\n",
        "    \"min_support\": [3, 4, 5],\n",
        "    \"user_based\": [False, True],\n",
        "}\n",
        "\n",
        "param_grid = {\"sim_options\": sim_options}\n",
        "\n",
        "gs = GridSearchCV(KNNBaseline, param_grid, measures=[\"rmse\", \"mae\"], cv=3)\n",
        "gs.fit(data)\n",
        "\n",
        "algo = gs.best_estimator['rmse']\n",
        "algo.fit(data.build_full_trainset())\n",
        "\n",
        "print(\"RMSE:\",gs.best_score[\"rmse\"])\n",
        "print(\"MAE:\",gs.best_score[\"mae\"])\n",
        "\n",
        "print(\"RMSE Best Params:\",gs.best_params[\"rmse\"])\n",
        "print(\"MAE Best Params:\",gs.best_params[\"mae\"])\n"
      ],
      "execution_count": null,
      "outputs": [
        {
          "output_type": "stream",
          "text": [
            "Estimating biases using als...\n",
            "Computing the pearson_baseline similarity matrix...\n",
            "Done computing similarity matrix.\n",
            "Estimating biases using als...\n",
            "Computing the pearson_baseline similarity matrix...\n",
            "Done computing similarity matrix.\n",
            "Estimating biases using als...\n",
            "Computing the pearson_baseline similarity matrix...\n",
            "Done computing similarity matrix.\n",
            "Estimating biases using als...\n",
            "Computing the pearson_baseline similarity matrix...\n",
            "Done computing similarity matrix.\n",
            "Estimating biases using als...\n",
            "Computing the pearson_baseline similarity matrix...\n",
            "Done computing similarity matrix.\n",
            "Estimating biases using als...\n",
            "Computing the pearson_baseline similarity matrix...\n",
            "Done computing similarity matrix.\n",
            "Estimating biases using als...\n",
            "Computing the pearson_baseline similarity matrix...\n",
            "Done computing similarity matrix.\n",
            "Estimating biases using als...\n",
            "Computing the pearson_baseline similarity matrix...\n",
            "Done computing similarity matrix.\n",
            "Estimating biases using als...\n",
            "Computing the pearson_baseline similarity matrix...\n",
            "Done computing similarity matrix.\n",
            "Estimating biases using als...\n",
            "Computing the pearson_baseline similarity matrix...\n",
            "Done computing similarity matrix.\n",
            "Estimating biases using als...\n",
            "Computing the pearson_baseline similarity matrix...\n",
            "Done computing similarity matrix.\n",
            "Estimating biases using als...\n",
            "Computing the pearson_baseline similarity matrix...\n",
            "Done computing similarity matrix.\n",
            "Estimating biases using als...\n",
            "Computing the pearson_baseline similarity matrix...\n",
            "Done computing similarity matrix.\n",
            "Estimating biases using als...\n",
            "Computing the pearson_baseline similarity matrix...\n",
            "Done computing similarity matrix.\n",
            "Estimating biases using als...\n",
            "Computing the pearson_baseline similarity matrix...\n",
            "Done computing similarity matrix.\n",
            "Estimating biases using als...\n",
            "Computing the pearson_baseline similarity matrix...\n",
            "Done computing similarity matrix.\n",
            "Estimating biases using als...\n",
            "Computing the pearson_baseline similarity matrix...\n",
            "Done computing similarity matrix.\n",
            "Estimating biases using als...\n",
            "Computing the pearson_baseline similarity matrix...\n",
            "Done computing similarity matrix.\n",
            "Estimating biases using als...\n",
            "Computing the cosine similarity matrix...\n",
            "Done computing similarity matrix.\n",
            "Estimating biases using als...\n",
            "Computing the cosine similarity matrix...\n",
            "Done computing similarity matrix.\n",
            "Estimating biases using als...\n",
            "Computing the cosine similarity matrix...\n",
            "Done computing similarity matrix.\n",
            "Estimating biases using als...\n",
            "Computing the cosine similarity matrix...\n",
            "Done computing similarity matrix.\n",
            "Estimating biases using als...\n",
            "Computing the cosine similarity matrix...\n",
            "Done computing similarity matrix.\n",
            "Estimating biases using als...\n",
            "Computing the cosine similarity matrix...\n",
            "Done computing similarity matrix.\n",
            "Estimating biases using als...\n",
            "Computing the cosine similarity matrix...\n",
            "Done computing similarity matrix.\n",
            "Estimating biases using als...\n",
            "Computing the cosine similarity matrix...\n",
            "Done computing similarity matrix.\n",
            "Estimating biases using als...\n",
            "Computing the cosine similarity matrix...\n",
            "Done computing similarity matrix.\n",
            "Estimating biases using als...\n",
            "Computing the cosine similarity matrix...\n",
            "Done computing similarity matrix.\n",
            "Estimating biases using als...\n",
            "Computing the cosine similarity matrix...\n",
            "Done computing similarity matrix.\n",
            "Estimating biases using als...\n",
            "Computing the cosine similarity matrix...\n",
            "Done computing similarity matrix.\n",
            "Estimating biases using als...\n",
            "Computing the cosine similarity matrix...\n",
            "Done computing similarity matrix.\n",
            "Estimating biases using als...\n",
            "Computing the cosine similarity matrix...\n",
            "Done computing similarity matrix.\n",
            "Estimating biases using als...\n",
            "Computing the cosine similarity matrix...\n",
            "Done computing similarity matrix.\n",
            "Estimating biases using als...\n",
            "Computing the cosine similarity matrix...\n",
            "Done computing similarity matrix.\n",
            "Estimating biases using als...\n",
            "Computing the cosine similarity matrix...\n",
            "Done computing similarity matrix.\n",
            "Estimating biases using als...\n",
            "Computing the cosine similarity matrix...\n",
            "Done computing similarity matrix.\n",
            "Estimating biases using als...\n",
            "Computing the pearson_baseline similarity matrix...\n",
            "Done computing similarity matrix.\n",
            "RMSE: 0.8675298693325918\n",
            "MAE: 0.6800854093886066\n",
            "RMSE Best Params: {'sim_options': {'name': 'pearson_baseline', 'min_support': 3, 'user_based': False}}\n",
            "MAE Best Params: {'sim_options': {'name': 'pearson_baseline', 'min_support': 3, 'user_based': False}}\n"
          ],
          "name": "stdout"
        }
      ]
    },
    {
      "cell_type": "code",
      "metadata": {
        "id": "FxyMJUhFYelJ",
        "colab_type": "code",
        "colab": {
          "base_uri": "https://localhost:8080/",
          "height": 118
        },
        "outputId": "0b2278a3-e808-4e4f-e864-b16c0759d251"
      },
      "source": [
        "from surprise import KNNBaseline\n",
        "from surprise.model_selection import train_test_split\n",
        "from surprise import accuracy\n",
        "trainset, testset = train_test_split(data, test_size=.25)\n",
        "\n",
        "algo=KNNBaseline(name = 'pearson_baseline', min_support = 5, user_based = False)\n",
        "predictions=algo.fit(trainset).test(testset)\n",
        "accuracy.rmse(predictions)\n",
        "accuracy.mae(predictions)"
      ],
      "execution_count": null,
      "outputs": [
        {
          "output_type": "stream",
          "text": [
            "Estimating biases using als...\n",
            "Computing the msd similarity matrix...\n",
            "Done computing similarity matrix.\n",
            "RMSE: 0.8965\n",
            "MAE:  0.7085\n"
          ],
          "name": "stdout"
        },
        {
          "output_type": "execute_result",
          "data": {
            "text/plain": [
              "0.7084721749790376"
            ]
          },
          "metadata": {
            "tags": []
          },
          "execution_count": 31
        }
      ]
    },
    {
      "cell_type": "code",
      "metadata": {
        "id": "F_wqKR_Ket8V",
        "colab_type": "code",
        "colab": {
          "base_uri": "https://localhost:8080/",
          "height": 118
        },
        "outputId": "cbab4ee9-21ea-4ad7-cc63-fbb132cd53e9"
      },
      "source": [
        "from surprise import KNNBaseline\n",
        "from surprise.model_selection import train_test_split\n",
        "from surprise import accuracy\n",
        "trainset, testset = train_test_split(data, test_size=.25)\n",
        "\n",
        "algo=KNNBaseline(name = 'pearson_baseline', min_support = 3, user_based = False)\n",
        "predictions=algo.fit(trainset).test(testset)\n",
        "accuracy.rmse(predictions)\n",
        "accuracy.mae(predictions)"
      ],
      "execution_count": null,
      "outputs": [
        {
          "output_type": "stream",
          "text": [
            "Estimating biases using als...\n",
            "Computing the msd similarity matrix...\n",
            "Done computing similarity matrix.\n",
            "RMSE: 0.8982\n",
            "MAE:  0.7092\n"
          ],
          "name": "stdout"
        },
        {
          "output_type": "execute_result",
          "data": {
            "text/plain": [
              "0.709195029000913"
            ]
          },
          "metadata": {
            "tags": []
          },
          "execution_count": 16
        }
      ]
    },
    {
      "cell_type": "code",
      "metadata": {
        "id": "SgLZWswPB-xM",
        "colab_type": "code",
        "colab": {
          "base_uri": "https://localhost:8080/",
          "height": 286
        },
        "outputId": "d73c5221-e674-4b44-cd5e-13f5e739e468"
      },
      "source": [
        "#KNNBaseline using pearson_baseline similarity only\n",
        "from surprise import KNNBaseline\n",
        "from surprise import Dataset , Reader\n",
        "from surprise.model_selection import GridSearchCV\n",
        "\n",
        "\n",
        "reader = Reader(rating_scale=(1,5))\n",
        "data = Dataset.load_from_df(df[['UserID','MovieID','Rating']],reader)\n",
        "sim_options = {\n",
        "    \"name\": [\"pearson_baseline\"],\n",
        "    \"min_support\": [5],\n",
        "    \"user_based\": [False],\n",
        "}\n",
        "\n",
        "param_grid = {\"sim_options\": sim_options}\n",
        "\n",
        "gs = GridSearchCV(KNNBaseline, param_grid, measures=[\"rmse\", \"mae\"], cv=3)\n",
        "gs.fit(data)\n",
        "\n",
        "algo = gs.best_estimator['rmse']\n",
        "algo.fit(data.build_full_trainset())\n",
        "\n",
        "print(\"RMSE:\",gs.best_score[\"rmse\"])\n",
        "print(\"MAE:\",gs.best_score[\"mae\"])\n",
        "\n",
        "print(\"RMSE Best Params:\",gs.best_params[\"rmse\"])\n",
        "print(\"MAE Best Params:\",gs.best_params[\"mae\"])\n"
      ],
      "execution_count": null,
      "outputs": [
        {
          "output_type": "stream",
          "text": [
            "Estimating biases using als...\n",
            "Computing the pearson_baseline similarity matrix...\n",
            "Done computing similarity matrix.\n",
            "Estimating biases using als...\n",
            "Computing the pearson_baseline similarity matrix...\n",
            "Done computing similarity matrix.\n",
            "Estimating biases using als...\n",
            "Computing the pearson_baseline similarity matrix...\n",
            "Done computing similarity matrix.\n",
            "Estimating biases using als...\n",
            "Computing the pearson_baseline similarity matrix...\n",
            "Done computing similarity matrix.\n",
            "RMSE: 0.8678481054944127\n",
            "MAE: 0.6802883107211272\n",
            "RMSE Best Params: {'sim_options': {'name': 'pearson_baseline', 'min_support': 5, 'user_based': False}}\n",
            "MAE Best Params: {'sim_options': {'name': 'pearson_baseline', 'min_support': 5, 'user_based': False}}\n"
          ],
          "name": "stdout"
        }
      ]
    },
    {
      "cell_type": "code",
      "metadata": {
        "id": "Mi8xaXryvYA_",
        "colab_type": "code",
        "colab": {
          "base_uri": "https://localhost:8080/",
          "height": 286
        },
        "outputId": "5a766a5b-c1f7-4a1d-f158-a4d7513cb20c"
      },
      "source": [
        "# KNNBaseline using cosine similarity only\n",
        "from surprise import KNNBaseline\n",
        "from surprise import Dataset , Reader\n",
        "from surprise.model_selection import GridSearchCV\n",
        "\n",
        "\n",
        "reader = Reader(rating_scale=(1,5))\n",
        "data = Dataset.load_from_df(df[['UserID','MovieID','Rating']],reader)\n",
        "sim_options = {\n",
        "    \"name\": [\"cosine\"],\n",
        "    \"min_support\": [5],\n",
        "    \"user_based\": [False],\n",
        "}\n",
        "\n",
        "param_grid = {\"sim_options\": sim_options}\n",
        "\n",
        "gs = GridSearchCV(KNNBaseline, param_grid, measures=[\"rmse\", \"mae\"], cv=3)\n",
        "gs.fit(data)\n",
        "\n",
        "algo = gs.best_estimator['rmse']\n",
        "algo.fit(data.build_full_trainset())\n",
        "\n",
        "print(\"RMSE:\",gs.best_score[\"rmse\"])\n",
        "print(\"MAE:\",gs.best_score[\"mae\"])\n",
        "\n",
        "print(\"RMSE Best Params:\",gs.best_params[\"rmse\"])\n",
        "print(\"MAE Best Params:\",gs.best_params[\"mae\"])\n"
      ],
      "execution_count": null,
      "outputs": [
        {
          "output_type": "stream",
          "text": [
            "Estimating biases using als...\n",
            "Computing the cosine similarity matrix...\n",
            "Done computing similarity matrix.\n",
            "Estimating biases using als...\n",
            "Computing the cosine similarity matrix...\n",
            "Done computing similarity matrix.\n",
            "Estimating biases using als...\n",
            "Computing the cosine similarity matrix...\n",
            "Done computing similarity matrix.\n",
            "Estimating biases using als...\n",
            "Computing the cosine similarity matrix...\n",
            "Done computing similarity matrix.\n",
            "RMSE: 0.894247318239349\n",
            "MAE: 0.7036931198323774\n",
            "RMSE Best Params: {'sim_options': {'name': 'cosine', 'min_support': 5, 'user_based': False}}\n",
            "MAE Best Params: {'sim_options': {'name': 'cosine', 'min_support': 5, 'user_based': False}}\n"
          ],
          "name": "stdout"
        }
      ]
    },
    {
      "cell_type": "code",
      "metadata": {
        "id": "x7m6thv_zXgU",
        "colab_type": "code",
        "colab": {
          "base_uri": "https://localhost:8080/",
          "height": 286
        },
        "outputId": "db641fcc-2fac-4ce1-9484-0658ea928889"
      },
      "source": [
        "# KNNBaseline using cosine similarity only\n",
        "from surprise import KNNBaseline\n",
        "from surprise import Dataset , Reader\n",
        "from surprise.model_selection import GridSearchCV\n",
        "\n",
        "\n",
        "reader = Reader(rating_scale=(1,5))\n",
        "data = Dataset.load_from_df(df[['UserID','MovieID','Rating']],reader)\n",
        "sim_options = {\n",
        "    \"name\": [\"cosine\"],\n",
        "    \"min_support\": [3],\n",
        "    \"user_based\": [False],\n",
        "}\n",
        "\n",
        "param_grid = {\"sim_options\": sim_options}\n",
        "\n",
        "gs = GridSearchCV(KNNBaseline, param_grid, measures=[\"rmse\", \"mae\"], cv=3)\n",
        "gs.fit(data)\n",
        "\n",
        "algo = gs.best_estimator['rmse']\n",
        "algo.fit(data.build_full_trainset())\n",
        "\n",
        "print(\"RMSE:\",gs.best_score[\"rmse\"])\n",
        "print(\"MAE:\",gs.best_score[\"mae\"])\n",
        "\n",
        "print(\"RMSE Best Params:\",gs.best_params[\"rmse\"])\n",
        "print(\"MAE Best Params:\",gs.best_params[\"mae\"])\n"
      ],
      "execution_count": null,
      "outputs": [
        {
          "output_type": "stream",
          "text": [
            "Estimating biases using als...\n",
            "Computing the cosine similarity matrix...\n",
            "Done computing similarity matrix.\n",
            "Estimating biases using als...\n",
            "Computing the cosine similarity matrix...\n",
            "Done computing similarity matrix.\n",
            "Estimating biases using als...\n",
            "Computing the cosine similarity matrix...\n",
            "Done computing similarity matrix.\n",
            "Estimating biases using als...\n",
            "Computing the cosine similarity matrix...\n",
            "Done computing similarity matrix.\n",
            "RMSE: 0.895657047580421\n",
            "MAE: 0.7049347872608015\n",
            "RMSE Best Params: {'sim_options': {'name': 'cosine', 'min_support': 3, 'user_based': False}}\n",
            "MAE Best Params: {'sim_options': {'name': 'cosine', 'min_support': 3, 'user_based': False}}\n"
          ],
          "name": "stdout"
        }
      ]
    },
    {
      "cell_type": "markdown",
      "metadata": {
        "id": "JlDFgy6NZiSw",
        "colab_type": "text"
      },
      "source": [
        "#***KNNWithMeans*** \n",
        "\n",
        "Check by change the algorithm  and add n_jobs\n"
      ]
    },
    {
      "cell_type": "code",
      "metadata": {
        "id": "sbilPqPkpUSU",
        "colab_type": "code",
        "colab": {
          "base_uri": "https://localhost:8080/",
          "height": 235
        },
        "outputId": "3df60ea6-e202-437e-8d3d-6e73c5be230d"
      },
      "source": [
        "from surprise import KNNWithMeans\n",
        "from surprise import Dataset , Reader\n",
        "from surprise.model_selection import GridSearchCV\n",
        "\n",
        "data = Dataset.load_from_df(df[['UserID','MovieID','Rating']],reader)\n",
        "sim_options = {\n",
        "    \"name\": [\"cosine\"],\n",
        "    \"min_support\": [5],\n",
        "    \"user_based\": [False],\n",
        "    \"algorithm\": [\"brute\"],\n",
        "    \"n_jobs\": [-1]\n",
        "}\n",
        "\n",
        "param_grid = {\"sim_options\": sim_options}\n",
        "\n",
        "gs = GridSearchCV(KNNWithMeans, param_grid, measures=[\"rmse\", \"mae\"], cv=3)\n",
        "gs.fit(data)\n",
        "\n",
        "\n",
        "print(\"RMSE:\",gs.best_score[\"rmse\"])\n",
        "print(\"MAE:\",gs.best_score[\"mae\"])\n",
        "\n",
        "print(\"RMSE Best Params:\",gs.best_params[\"rmse\"])\n",
        "print(\"MAE Best Params:\",gs.best_params[\"mae\"])\n",
        "\n",
        "alg = gs.best_estimator['rmse']\n",
        "alg.fit(data.build_full_trainset())\n",
        "print(alg)\n"
      ],
      "execution_count": null,
      "outputs": [
        {
          "output_type": "stream",
          "text": [
            "Computing the cosine similarity matrix...\n",
            "Done computing similarity matrix.\n",
            "Computing the cosine similarity matrix...\n",
            "Done computing similarity matrix.\n",
            "Computing the cosine similarity matrix...\n",
            "Done computing similarity matrix.\n",
            "RMSE: 0.8944551700185066\n",
            "MAE: 0.7030400440184001\n",
            "RMSE Best Params: {'sim_options': {'name': 'cosine', 'min_support': 5, 'user_based': False, 'algorithm': 'brute', 'n_jobs': -1}}\n",
            "MAE Best Params: {'sim_options': {'name': 'cosine', 'min_support': 5, 'user_based': False, 'algorithm': 'brute', 'n_jobs': -1}}\n",
            "Computing the cosine similarity matrix...\n",
            "Done computing similarity matrix.\n",
            "<surprise.prediction_algorithms.knns.KNNWithMeans object at 0x7f0720ce0d30>\n"
          ],
          "name": "stdout"
        }
      ]
    },
    {
      "cell_type": "markdown",
      "metadata": {
        "id": "bWzG6CPnaZE6",
        "colab_type": "text"
      },
      "source": [
        "#***KNNBasic***\n",
        "\n",
        "Check by change the algorithm and add n_jobs"
      ]
    },
    {
      "cell_type": "code",
      "metadata": {
        "id": "FF4rmeXyzKsD",
        "colab_type": "code",
        "colab": {
          "base_uri": "https://localhost:8080/",
          "height": 235
        },
        "outputId": "90476689-e8a1-495a-e401-1bd3f87401aa"
      },
      "source": [
        "from surprise import KNNBasic\n",
        "from surprise import Dataset , Reader\n",
        "from surprise.model_selection import GridSearchCV\n",
        "\n",
        "data = Dataset.load_from_df(df[['UserID','MovieID','Rating']],reader)\n",
        "sim_options = {\n",
        "    \"name\": [\"cosine\"],\n",
        "    \"min_support\": [5],\n",
        "    \"user_based\": [False],\n",
        "    \"algorithm\": [\"brute\"],\n",
        "    \"n_jobs\": [-1]\n",
        "}\n",
        "\n",
        "param_grid = {\"sim_options\": sim_options}\n",
        "\n",
        "gs = GridSearchCV(KNNBasic, param_grid, measures=[\"rmse\", \"mae\"], cv=3)\n",
        "gs.fit(data)\n",
        "\n",
        "\n",
        "print(\"RMSE:\",gs.best_score[\"rmse\"])\n",
        "print(\"MAE:\",gs.best_score[\"mae\"])\n",
        "\n",
        "print(\"RMSE Best Params:\",gs.best_params[\"rmse\"])\n",
        "print(\"MAE Best Params:\",gs.best_params[\"mae\"])\n",
        "\n",
        "alg = gs.best_estimator['rmse']\n",
        "alg.fit(data.build_full_trainset())\n",
        "print(alg)\n"
      ],
      "execution_count": null,
      "outputs": [
        {
          "output_type": "stream",
          "text": [
            "Computing the cosine similarity matrix...\n",
            "Done computing similarity matrix.\n",
            "Computing the cosine similarity matrix...\n",
            "Done computing similarity matrix.\n",
            "Computing the cosine similarity matrix...\n",
            "Done computing similarity matrix.\n",
            "RMSE: 0.9996317502098634\n",
            "MAE: 0.7804705868491668\n",
            "RMSE Best Params: {'sim_options': {'name': 'cosine', 'min_support': 5, 'user_based': False, 'algorithm': 'brute', 'n_jobs': -1}}\n",
            "MAE Best Params: {'sim_options': {'name': 'cosine', 'min_support': 5, 'user_based': False, 'algorithm': 'brute', 'n_jobs': -1}}\n",
            "Computing the cosine similarity matrix...\n",
            "Done computing similarity matrix.\n",
            "<surprise.prediction_algorithms.knns.KNNBasic object at 0x7f0729461860>\n"
          ],
          "name": "stdout"
        }
      ]
    },
    {
      "cell_type": "code",
      "metadata": {
        "id": "AqHbOBpr3OOg",
        "colab_type": "code",
        "colab": {
          "base_uri": "https://localhost:8080/",
          "height": 101
        },
        "outputId": "4383a3c7-4626-48cd-bb1a-fdeaef37b995"
      },
      "source": [
        "from surprise.model_selection import train_test_split\n",
        "from surprise import accuracy\n",
        "trainset, testset = train_test_split(data, test_size=.25)\n",
        "\n",
        "algo=KNNBasic(name = 'cosine', min_support = 5, user_based = False, algorithm = 'brute', n_jobs = -1)\n",
        "predictions=algo.fit(trainset).test(testset)\n",
        "accuracy.rmse(predictions)\n",
        "accuracy.mae(predictions)"
      ],
      "execution_count": null,
      "outputs": [
        {
          "output_type": "stream",
          "text": [
            "Computing the msd similarity matrix...\n",
            "Done computing similarity matrix.\n",
            "RMSE: 0.9258\n",
            "MAE:  0.7303\n"
          ],
          "name": "stdout"
        },
        {
          "output_type": "execute_result",
          "data": {
            "text/plain": [
              "0.7303039843973058"
            ]
          },
          "metadata": {
            "tags": []
          },
          "execution_count": 12
        }
      ]
    },
    {
      "cell_type": "markdown",
      "metadata": {
        "id": "_9_h_Ej-azdN",
        "colab_type": "text"
      },
      "source": [
        "#***KNNBaseline***\n",
        "\n",
        "Check by change the algorithm  and add n_jobs"
      ]
    },
    {
      "cell_type": "code",
      "metadata": {
        "id": "NCYpmFvO5vQX",
        "colab_type": "code",
        "colab": {
          "base_uri": "https://localhost:8080/",
          "height": 302
        },
        "outputId": "e48b6318-8076-4041-908a-8cd0652d196d"
      },
      "source": [
        "from surprise import KNNBaseline\n",
        "from surprise import Dataset , Reader\n",
        "from surprise.model_selection import GridSearchCV\n",
        "\n",
        "data = Dataset.load_from_df(df[['UserID','MovieID','Rating']],reader)\n",
        "sim_options = {\n",
        "    \"name\": [\"pearson_baseline\"],\n",
        "    \"min_support\": [3],\n",
        "    \"user_based\": [False],\n",
        "    \"algorithm\": [\"brute\"],\n",
        "    \"n_jobs\": [-1]\n",
        "}\n",
        "\n",
        "param_grid = {\"sim_options\": sim_options}\n",
        "\n",
        "gs = GridSearchCV(KNNBaseline, param_grid, measures=[\"rmse\", \"mae\"], cv=3)\n",
        "gs.fit(data)\n",
        "\n",
        "\n",
        "print(\"RMSE:\",gs.best_score[\"rmse\"])\n",
        "print(\"MAE:\",gs.best_score[\"mae\"])\n",
        "\n",
        "print(\"RMSE Best Params:\",gs.best_params[\"rmse\"])\n",
        "print(\"MAE Best Params:\",gs.best_params[\"mae\"])\n",
        "\n",
        "alg = gs.best_estimator['rmse']\n",
        "alg.fit(data.build_full_trainset())\n",
        "print(alg)\n"
      ],
      "execution_count": null,
      "outputs": [
        {
          "output_type": "stream",
          "text": [
            "Estimating biases using als...\n",
            "Computing the pearson_baseline similarity matrix...\n",
            "Done computing similarity matrix.\n",
            "Estimating biases using als...\n",
            "Computing the pearson_baseline similarity matrix...\n",
            "Done computing similarity matrix.\n",
            "Estimating biases using als...\n",
            "Computing the pearson_baseline similarity matrix...\n",
            "Done computing similarity matrix.\n",
            "RMSE: 0.8676366451223743\n",
            "MAE: 0.6802497742555182\n",
            "RMSE Best Params: {'sim_options': {'name': 'pearson_baseline', 'min_support': 3, 'user_based': False, 'algorithm': 'brute', 'n_jobs': -1}}\n",
            "MAE Best Params: {'sim_options': {'name': 'pearson_baseline', 'min_support': 3, 'user_based': False, 'algorithm': 'brute', 'n_jobs': -1}}\n",
            "Estimating biases using als...\n",
            "Computing the pearson_baseline similarity matrix...\n",
            "Done computing similarity matrix.\n",
            "<surprise.prediction_algorithms.knns.KNNBaseline object at 0x7f071f7e17b8>\n"
          ],
          "name": "stdout"
        }
      ]
    },
    {
      "cell_type": "code",
      "metadata": {
        "id": "x5UWZyNH9Lon",
        "colab_type": "code",
        "colab": {
          "base_uri": "https://localhost:8080/",
          "height": 101
        },
        "outputId": "75998243-a618-4f2f-8dd4-2190906399a1"
      },
      "source": [
        "from surprise.model_selection import train_test_split\n",
        "from surprise import accuracy\n",
        "trainset, testset = train_test_split(data, test_size=.25)\n",
        "\n",
        "algo=KNNBasic(name = 'pearson-baseline', min_support = 3, user_based = False, alrorithm = 'brute', n_jobs = -1)\n",
        "predictions=algo.fit(trainset).test(testset)\n",
        "accuracy.rmse(predictions)\n",
        "accuracy.mae(predictions)"
      ],
      "execution_count": null,
      "outputs": [
        {
          "output_type": "stream",
          "text": [
            "Computing the msd similarity matrix...\n",
            "Done computing similarity matrix.\n",
            "RMSE: 0.9269\n",
            "MAE:  0.7306\n"
          ],
          "name": "stdout"
        },
        {
          "output_type": "execute_result",
          "data": {
            "text/plain": [
              "0.7306308538242435"
            ]
          },
          "metadata": {
            "tags": []
          },
          "execution_count": 14
        }
      ]
    },
    {
      "cell_type": "markdown",
      "metadata": {
        "id": "LsiTjYwJKWtU",
        "colab_type": "text"
      },
      "source": [
        "# **Results**"
      ]
    },
    {
      "cell_type": "markdown",
      "metadata": {
        "id": "otioArI_mZkC",
        "colab_type": "text"
      },
      "source": [
        "***KNNWithMeans***\n",
        "\n",
        "*   RMSE: 0.88773908475051\n",
        "*   MAE: 0.6964841763563742\n",
        "\n",
        "With best parameters{'name': 'msd', 'min_support': 5, 'user_based': False}\n",
        "\n",
        "*After perform train test split on the best parametres*\n",
        "\n",
        "*   RMSE: 0.9306\n",
        "*   MAE:  0.7391\n",
        "\n",
        "*KNNWithMeans* using cosine similarity \n",
        "\n",
        "*   RMSE: 0.89408056190716\n",
        "*   MAE: 0.702771576599453\n",
        "\n",
        "\n",
        "***KNNBasic***\n",
        "\n",
        "*   RMSE: 0.9200638941257951\n",
        "*   MAE: 0.723564229561002\n",
        "\n",
        "With best parameters are{'name': 'msd', 'min_support': 5, 'user_based': False}\n",
        "\n",
        "*After performing train test split on best parameters* \n",
        "\n",
        "*   RMSE: 0.9262\n",
        "*   MAE:  0.7307\n",
        "\n",
        "*KNNBasic* using cosine similarity\n",
        "\n",
        "*   RMSE: 0.999738826435713\n",
        "*   MAE: 0.7804487811659365\n",
        "\n",
        "***KNNBaseline***\n",
        "\n",
        "*   RMSE: 0.8876483738127501\n",
        "*   MAE: 0.697069340378991\n",
        "\n",
        "With best parameters are{'name': 'msd', 'min_support': 5, 'user_based': False}\n",
        "\n",
        "*After performing train test split on best parameters*\n",
        "\n",
        "*   RMSE: 0.8952\n",
        "*   MAE:  0.7063\n",
        "\n",
        "*Using pearson_baseline and cosine similarity to check which one is best*\n",
        "\n",
        "*   RMSE: 0.8675298693325918\n",
        "*   MAE: 0.6800854093886066\n",
        "\n",
        "With pest parameters are{'name': 'pearson_baseline', 'min_support': 3, 'user_based': False}\n",
        "\n",
        "*After performing train test split on above parameters*\n",
        "\n",
        "*   RMSE: 0.8982\n",
        "*   MAE:  0.7092\n",
        "\n",
        "*KNNBaseline* using cosine similarity \n",
        "\n",
        "*   RMSE: 0.895657047580421\n",
        "*   MAE: 0.7049347872608015\n",
        "\n",
        "With parameters are{'name': 'cosine', 'min_support': 3, 'user_based': False}\n",
        "\n",
        "**KNNWithMeans( change the algorithm and add n_jobs )**\n",
        "\n",
        "*   RMSE: 0.8944551700185066\n",
        "*   MAE: 0.7030400440184001\n",
        "\n",
        "With parameters are {'name': 'cosine', 'min_support': 5, 'user_based': False, 'algorithm': 'brute', 'n_jobs': -1}\n",
        "\n",
        "**KNNBasic( change the algorithm and add n_jobs )**\n",
        "\n",
        "*   RMSE: 0.9996317502098634\n",
        "*   MAE: 0.7804705868491668\n",
        "\n",
        "With parameters are{'name': 'cosine', 'min_support': 5, 'user_based': False, 'algorithm': 'brute', 'n_jobs': -1}\n",
        "\n",
        "**KNNBaseline( change the algorithm and add n_jobs )**\n",
        "\n",
        "*   RMSE: 0.8676366451223743\n",
        "*   MAE: 0.6802497742555182\n",
        "\n",
        "With parameters are{'name': 'pearson_baseline', 'min_support': 3, 'user_based': False, 'algorithm': 'brute', 'n_jobs': -1}\n",
        "\n",
        "So, From all the above results the best RMSE and MAE given by KNNBaseline \n",
        "RMSE: 0.8675298693325918 ,\n",
        "MAE: 0.6800854093886066\n",
        "With best parameters are{'name': 'pearson_baseline', 'min_support': 3, 'user_based': False}"
      ]
    }
  ]
}