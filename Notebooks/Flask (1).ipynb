{
  "nbformat": 4,
  "nbformat_minor": 0,
  "metadata": {
    "colab": {
      "name": "Flask.ipynb",
      "provenance": [],
      "collapsed_sections": [],
      "toc_visible": true
    },
    "kernelspec": {
      "name": "python3",
      "display_name": "Python 3"
    }
  },
  "cells": [
    {
      "cell_type": "markdown",
      "metadata": {
        "id": "G0kYg-q2dJQc",
        "colab_type": "text"
      },
      "source": [
        "# New section"
      ]
    },
    {
      "cell_type": "code",
      "metadata": {
        "id": "yWQrKABNqClW",
        "colab_type": "code",
        "colab": {
          "base_uri": "https://localhost:8080/",
          "height": 407
        },
        "outputId": "454fb67e-b4d6-48ab-fe62-e1a6ad4faade"
      },
      "source": [
        "import pandas as pd\n",
        "!pip install surprise\n",
        "# import surprise\n",
        "\n",
        "from sklearn.metrics.pairwise import cosine_similarity\n",
        "from surprise.model_selection import train_test_split\n",
        "from surprise import Reader, Dataset, SVD, model_selection\n",
        "!pip install flask==0.12.2\n",
        "!pip install flask_ngrok \n",
        "\n",
        "\n",
        "ratings=pd.read_csv('/content/drive/My Drive/datasets/Ratings .csv')\n",
        "movies=pd.read_csv('/content/drive/My Drive/datasets/movies.csv')\n",
        "userdata=pd.read_csv('/content/drive/My Drive/datasets/user_data.csv')\n",
        "d=pd.merge(userdata,ratings,on='UserID',how='left')\n",
        "df=pd.merge(d,movies,on='MovieID',how='left')"
      ],
      "execution_count": 105,
      "outputs": [
        {
          "output_type": "stream",
          "text": [
            "Requirement already satisfied: surprise in /usr/local/lib/python3.6/dist-packages (0.1)\n",
            "Requirement already satisfied: scikit-surprise in /usr/local/lib/python3.6/dist-packages (from surprise) (1.1.0)\n",
            "Requirement already satisfied: joblib>=0.11 in /usr/local/lib/python3.6/dist-packages (from scikit-surprise->surprise) (0.16.0)\n",
            "Requirement already satisfied: scipy>=1.0.0 in /usr/local/lib/python3.6/dist-packages (from scikit-surprise->surprise) (1.4.1)\n",
            "Requirement already satisfied: numpy>=1.11.2 in /usr/local/lib/python3.6/dist-packages (from scikit-surprise->surprise) (1.18.5)\n",
            "Requirement already satisfied: six>=1.10.0 in /usr/local/lib/python3.6/dist-packages (from scikit-surprise->surprise) (1.12.0)\n",
            "Requirement already satisfied: flask==0.12.2 in /usr/local/lib/python3.6/dist-packages (0.12.2)\n",
            "Requirement already satisfied: click>=2.0 in /usr/local/lib/python3.6/dist-packages (from flask==0.12.2) (7.1.2)\n",
            "Requirement already satisfied: itsdangerous>=0.21 in /usr/local/lib/python3.6/dist-packages (from flask==0.12.2) (1.1.0)\n",
            "Requirement already satisfied: Werkzeug>=0.7 in /usr/local/lib/python3.6/dist-packages (from flask==0.12.2) (1.0.1)\n",
            "Requirement already satisfied: Jinja2>=2.4 in /usr/local/lib/python3.6/dist-packages (from flask==0.12.2) (2.11.2)\n",
            "Requirement already satisfied: MarkupSafe>=0.23 in /usr/local/lib/python3.6/dist-packages (from Jinja2>=2.4->flask==0.12.2) (1.1.1)\n",
            "Requirement already satisfied: flask_ngrok in /usr/local/lib/python3.6/dist-packages (0.0.25)\n",
            "Requirement already satisfied: requests in /usr/local/lib/python3.6/dist-packages (from flask_ngrok) (2.23.0)\n",
            "Requirement already satisfied: Flask>=0.8 in /usr/local/lib/python3.6/dist-packages (from flask_ngrok) (0.12.2)\n",
            "Requirement already satisfied: urllib3!=1.25.0,!=1.25.1,<1.26,>=1.21.1 in /usr/local/lib/python3.6/dist-packages (from requests->flask_ngrok) (1.24.3)\n",
            "Requirement already satisfied: chardet<4,>=3.0.2 in /usr/local/lib/python3.6/dist-packages (from requests->flask_ngrok) (3.0.4)\n",
            "Requirement already satisfied: certifi>=2017.4.17 in /usr/local/lib/python3.6/dist-packages (from requests->flask_ngrok) (2020.6.20)\n",
            "Requirement already satisfied: idna<3,>=2.5 in /usr/local/lib/python3.6/dist-packages (from requests->flask_ngrok) (2.10)\n",
            "Requirement already satisfied: click>=2.0 in /usr/local/lib/python3.6/dist-packages (from Flask>=0.8->flask_ngrok) (7.1.2)\n",
            "Requirement already satisfied: Werkzeug>=0.7 in /usr/local/lib/python3.6/dist-packages (from Flask>=0.8->flask_ngrok) (1.0.1)\n",
            "Requirement already satisfied: itsdangerous>=0.21 in /usr/local/lib/python3.6/dist-packages (from Flask>=0.8->flask_ngrok) (1.1.0)\n",
            "Requirement already satisfied: Jinja2>=2.4 in /usr/local/lib/python3.6/dist-packages (from Flask>=0.8->flask_ngrok) (2.11.2)\n",
            "Requirement already satisfied: MarkupSafe>=0.23 in /usr/local/lib/python3.6/dist-packages (from Jinja2>=2.4->Flask>=0.8->flask_ngrok) (1.1.1)\n"
          ],
          "name": "stdout"
        }
      ]
    },
    {
      "cell_type": "code",
      "metadata": {
        "id": "Emiu4ZU7hvJI",
        "colab_type": "code",
        "colab": {}
      },
      "source": [
        "from google.colab import drive\n",
        "drive.mount('/content/drive')"
      ],
      "execution_count": null,
      "outputs": []
    },
    {
      "cell_type": "markdown",
      "metadata": {
        "id": "yndgODe2dHJh",
        "colab_type": "text"
      },
      "source": [
        "# New section"
      ]
    },
    {
      "cell_type": "markdown",
      "metadata": {
        "id": "yPF-VAPq8LGl",
        "colab_type": "text"
      },
      "source": [
        "***User Based Surprise SVD***"
      ]
    },
    {
      "cell_type": "code",
      "metadata": {
        "id": "7GcUbTXlmkIn",
        "colab_type": "code",
        "colab": {}
      },
      "source": [
        "e = pd.read_csv('/content/drive/My Drive/datasets/svd_p.csv')"
      ],
      "execution_count": 104,
      "outputs": []
    },
    {
      "cell_type": "code",
      "metadata": {
        "id": "BqlqcOaLJj8H",
        "colab_type": "code",
        "colab": {}
      },
      "source": [
        "def recommend(userid_, n):\n",
        "  f=e.loc[e[(e.uid==userid_)].est.sort_values(ascending=False).index][:n].iid.tolist()\n",
        "  p=movies.loc[movies[movies.MovieID.isin(f)].index]\n",
        "  k = ratings.loc[ratings[(ratings.UserID==userid_)].index]['MovieID'].tolist()\n",
        "  return p.loc[p[~p.MovieID.isin(k)].index]"
      ],
      "execution_count": 106,
      "outputs": []
    },
    {
      "cell_type": "code",
      "metadata": {
        "id": "nSunbkWwnXPn",
        "colab_type": "code",
        "colab": {}
      },
      "source": [
        "# recommend(1, 15)\n",
        "def rec(a,b):\n",
        "  t = recommend(a,b)[['MovieID','Title','Genres']]\n",
        "  t1,t2,t3 = t['MovieID'].to_list(),t['Title'].to_list(),t['Genres'].to_list()\n",
        "  return t1,t2,t3"
      ],
      "execution_count": 107,
      "outputs": []
    },
    {
      "cell_type": "code",
      "metadata": {
        "id": "XZl-tcIt6-A1",
        "colab_type": "code",
        "colab": {
          "base_uri": "https://localhost:8080/",
          "height": 456
        },
        "outputId": "f3b11db4-3b1a-4ef5-d39c-82e818429124"
      },
      "source": [
        "rec(1,15)"
      ],
      "execution_count": 108,
      "outputs": [
        {
          "output_type": "execute_result",
          "data": {
            "text/plain": [
              "([318, 593, 903, 904, 920, 953, 1198, 1234, 1250, 1272, 1307, 2905, 3198],\n",
              " ['Shawshank Redemption, The (1994)',\n",
              "  'Silence of the Lambs, The (1991)',\n",
              "  'Vertigo (1958)',\n",
              "  'Rear Window (1954)',\n",
              "  'Gone with the Wind (1939)',\n",
              "  \"It's a Wonderful Life (1946)\",\n",
              "  'Raiders of the Lost Ark (1981)',\n",
              "  'Sting, The (1973)',\n",
              "  'Bridge on the River Kwai, The (1957)',\n",
              "  'Patton (1970)',\n",
              "  'When Harry Met Sally... (1989)',\n",
              "  'Sanjuro (1962)',\n",
              "  'Papillon (1973)'],\n",
              " ['Drama',\n",
              "  'Drama|Thriller',\n",
              "  'Mystery|Thriller',\n",
              "  'Mystery|Thriller',\n",
              "  'Drama|Romance|War',\n",
              "  'Drama',\n",
              "  'Action|Adventure',\n",
              "  'Comedy|Crime',\n",
              "  'Drama|War',\n",
              "  'Drama|War',\n",
              "  'Comedy|Romance',\n",
              "  'Action|Adventure',\n",
              "  'Drama'])"
            ]
          },
          "metadata": {
            "tags": []
          },
          "execution_count": 108
        }
      ]
    },
    {
      "cell_type": "markdown",
      "metadata": {
        "id": "-XVjSNGU7Cin",
        "colab_type": "text"
      },
      "source": [
        "f# New section"
      ]
    },
    {
      "cell_type": "markdown",
      "metadata": {
        "id": "OaXGa2WSMxkX",
        "colab_type": "text"
      },
      "source": [
        "***Content Based (Genres)***"
      ]
    },
    {
      "cell_type": "code",
      "metadata": {
        "id": "KvfTfuTyeQEC",
        "colab_type": "code",
        "colab": {}
      },
      "source": [
        "from sklearn.metrics.pairwise import linear_kernel\n",
        "from sklearn.feature_extraction.text import TfidfVectorizer\n"
      ],
      "execution_count": 84,
      "outputs": []
    },
    {
      "cell_type": "code",
      "metadata": {
        "id": "CIVsaCtONKd9",
        "colab_type": "code",
        "colab": {}
      },
      "source": [
        "movies['Genres'] = movies['Genres'].str.split('|')\n",
        "movies['Genres'] = movies['Genres'].fillna(\"\").astype('str')\n",
        "movies.head(50)\n",
        "\n",
        "tf = TfidfVectorizer(analyzer='word',ngram_range=(1, 2),min_df=0)\n",
        "matrix = tf.fit_transform(movies['Genres'])\n",
        "csim = linear_kernel(matrix,matrix)\n",
        "\n",
        "\n",
        "titles = movies['Title']\n",
        "indices = pd.Series(movies.index, index=movies['Title'])\n",
        "\n",
        "def c_rec(title):\n",
        "    idx = indices[title]\n",
        "    sim_sc = list(enumerate(csim[idx]))\n",
        "    sim_sc = sorted(sim_sc, key=lambda x: x[1], reverse=True)[1:]\n",
        "    movie_idx = [i[0] for i in sim_sc]\n",
        "    print('Movies Similar to : ',title)\n",
        "    yy=pd.DataFrame(movies.Title.iloc[movie_idx])[:10]\n",
        "    return yy"
      ],
      "execution_count": 86,
      "outputs": []
    },
    {
      "cell_type": "code",
      "metadata": {
        "id": "1ChDNvjt1Ikz",
        "colab_type": "code",
        "colab": {
          "base_uri": "https://localhost:8080/",
          "height": 351
        },
        "outputId": "f1e57bd2-7d37-48cf-992d-18b906ff29be"
      },
      "source": [
        "c_rec('Dracula: Dead and Loving It (1995)')"
      ],
      "execution_count": 101,
      "outputs": [
        {
          "output_type": "stream",
          "text": [
            "Movies Similar to :  Dracula: Dead and Loving It (1995)\n"
          ],
          "name": "stdout"
        },
        {
          "output_type": "execute_result",
          "data": {
            "text/html": [
              "<div>\n",
              "<style scoped>\n",
              "    .dataframe tbody tr th:only-of-type {\n",
              "        vertical-align: middle;\n",
              "    }\n",
              "\n",
              "    .dataframe tbody tr th {\n",
              "        vertical-align: top;\n",
              "    }\n",
              "\n",
              "    .dataframe thead th {\n",
              "        text-align: right;\n",
              "    }\n",
              "</style>\n",
              "<table border=\"1\" class=\"dataframe\">\n",
              "  <thead>\n",
              "    <tr style=\"text-align: right;\">\n",
              "      <th></th>\n",
              "      <th>Title</th>\n",
              "    </tr>\n",
              "  </thead>\n",
              "  <tbody>\n",
              "    <tr>\n",
              "      <th>326</th>\n",
              "      <td>Tales from the Hood (1995)</td>\n",
              "    </tr>\n",
              "    <tr>\n",
              "      <th>726</th>\n",
              "      <td>Cemetery Man (Dellamorte Dellamore) (1994)</td>\n",
              "    </tr>\n",
              "    <tr>\n",
              "      <th>789</th>\n",
              "      <td>Frighteners, The (1996)</td>\n",
              "    </tr>\n",
              "    <tr>\n",
              "      <th>1221</th>\n",
              "      <td>Braindead (1992)</td>\n",
              "    </tr>\n",
              "    <tr>\n",
              "      <th>1235</th>\n",
              "      <td>Bad Taste (1987)</td>\n",
              "    </tr>\n",
              "    <tr>\n",
              "      <th>1258</th>\n",
              "      <td>Young Frankenstein (1974)</td>\n",
              "    </tr>\n",
              "    <tr>\n",
              "      <th>1310</th>\n",
              "      <td>April Fool's Day (1986)</td>\n",
              "    </tr>\n",
              "    <tr>\n",
              "      <th>1409</th>\n",
              "      <td>Machine, The (1994)</td>\n",
              "    </tr>\n",
              "    <tr>\n",
              "      <th>1934</th>\n",
              "      <td>Gremlins (1984)</td>\n",
              "    </tr>\n",
              "    <tr>\n",
              "      <th>1935</th>\n",
              "      <td>Gremlins 2: The New Batch (1990)</td>\n",
              "    </tr>\n",
              "  </tbody>\n",
              "</table>\n",
              "</div>"
            ],
            "text/plain": [
              "                                           Title\n",
              "326                   Tales from the Hood (1995)\n",
              "726   Cemetery Man (Dellamorte Dellamore) (1994)\n",
              "789                      Frighteners, The (1996)\n",
              "1221                            Braindead (1992)\n",
              "1235                            Bad Taste (1987)\n",
              "1258                   Young Frankenstein (1974)\n",
              "1310                     April Fool's Day (1986)\n",
              "1409                         Machine, The (1994)\n",
              "1934                             Gremlins (1984)\n",
              "1935            Gremlins 2: The New Batch (1990)"
            ]
          },
          "metadata": {
            "tags": []
          },
          "execution_count": 101
        }
      ]
    },
    {
      "cell_type": "markdown",
      "metadata": {
        "id": "AJl3Sz5Ds0fu",
        "colab_type": "text"
      },
      "source": [
        "***CountVectorizer***"
      ]
    },
    {
      "cell_type": "code",
      "metadata": {
        "id": "_UX8HdgVmwGA",
        "colab_type": "code",
        "colab": {}
      },
      "source": [
        "df2 = pd.read_csv('/content/drive/My Drive/datasets/movies.csv')\n",
        "\n",
        "count = CountVectorizer(stop_words='english')\n",
        "count_matrix = count.fit_transform(df2['Genres'])\n",
        "\n",
        "cosine_sim2 = cosine_similarity(count_matrix, count_matrix)\n",
        "\n",
        "df2 = df2.reset_index()\n",
        "indices = pd.Series(df2.index, index=df2['Title'])\n",
        "all_titles = [df2['Title'][i] for i in range(len(df2['Title']))]\n",
        "\n",
        "def get_recommendations(title):\n",
        "    cosine_sim = cosine_similarity(count_matrix, count_matrix)\n",
        "    idx = indices[title]\n",
        "    sim_scores = list(enumerate(cosine_sim[idx]))\n",
        "    sim_scores = sorted(sim_scores, key=lambda x: x[1], reverse=True)\n",
        "    sim_scores = sim_scores[1:11]\n",
        "    movie_indices = [i[0] for i in sim_scores]\n",
        "    tit = df2['Title'].iloc[movie_indices]\n",
        "    dat = df2['Genres'].iloc[movie_indices]\n",
        "    return_df = pd.DataFrame(columns=['Title','Genres'])\n",
        "    return_df['Title'] = tit\n",
        "    return_df['Genres'] = dat\n",
        "    return return_df"
      ],
      "execution_count": 81,
      "outputs": []
    },
    {
      "cell_type": "code",
      "metadata": {
        "id": "lq4qUBTmoKhm",
        "colab_type": "code",
        "colab": {
          "base_uri": "https://localhost:8080/",
          "height": 335
        },
        "outputId": "8365a398-b817-4be4-c5f7-e77f78b66205"
      },
      "source": [
        "get_recommendations('Paths of Glory (1957)')"
      ],
      "execution_count": 89,
      "outputs": [
        {
          "output_type": "execute_result",
          "data": {
            "text/html": [
              "<div>\n",
              "<style scoped>\n",
              "    .dataframe tbody tr th:only-of-type {\n",
              "        vertical-align: middle;\n",
              "    }\n",
              "\n",
              "    .dataframe tbody tr th {\n",
              "        vertical-align: top;\n",
              "    }\n",
              "\n",
              "    .dataframe thead th {\n",
              "        text-align: right;\n",
              "    }\n",
              "</style>\n",
              "<table border=\"1\" class=\"dataframe\">\n",
              "  <thead>\n",
              "    <tr style=\"text-align: right;\">\n",
              "      <th></th>\n",
              "      <th>Title</th>\n",
              "      <th>Genres</th>\n",
              "    </tr>\n",
              "  </thead>\n",
              "  <tbody>\n",
              "    <tr>\n",
              "      <th>153</th>\n",
              "      <td>Beyond Rangoon (1995)</td>\n",
              "      <td>Drama|War</td>\n",
              "    </tr>\n",
              "    <tr>\n",
              "      <th>332</th>\n",
              "      <td>Walking Dead, The (1995)</td>\n",
              "      <td>Drama|War</td>\n",
              "    </tr>\n",
              "    <tr>\n",
              "      <th>523</th>\n",
              "      <td>Schindler's List (1993)</td>\n",
              "      <td>Drama|War</td>\n",
              "    </tr>\n",
              "    <tr>\n",
              "      <th>641</th>\n",
              "      <td>Courage Under Fire (1996)</td>\n",
              "      <td>Drama|War</td>\n",
              "    </tr>\n",
              "    <tr>\n",
              "      <th>967</th>\n",
              "      <td>Nothing Personal (1995)</td>\n",
              "      <td>Drama|War</td>\n",
              "    </tr>\n",
              "    <tr>\n",
              "      <th>979</th>\n",
              "      <td>Michael Collins (1996)</td>\n",
              "      <td>Drama|War</td>\n",
              "    </tr>\n",
              "    <tr>\n",
              "      <th>1074</th>\n",
              "      <td>Platoon (1986)</td>\n",
              "      <td>Drama|War</td>\n",
              "    </tr>\n",
              "    <tr>\n",
              "      <th>1162</th>\n",
              "      <td>Paths of Glory (1957)</td>\n",
              "      <td>Drama|War</td>\n",
              "    </tr>\n",
              "    <tr>\n",
              "      <th>1190</th>\n",
              "      <td>Apocalypse Now (1979)</td>\n",
              "      <td>Drama|War</td>\n",
              "    </tr>\n",
              "    <tr>\n",
              "      <th>1199</th>\n",
              "      <td>Ran (1985)</td>\n",
              "      <td>Drama|War</td>\n",
              "    </tr>\n",
              "  </tbody>\n",
              "</table>\n",
              "</div>"
            ],
            "text/plain": [
              "                          Title     Genres\n",
              "153       Beyond Rangoon (1995)  Drama|War\n",
              "332    Walking Dead, The (1995)  Drama|War\n",
              "523     Schindler's List (1993)  Drama|War\n",
              "641   Courage Under Fire (1996)  Drama|War\n",
              "967     Nothing Personal (1995)  Drama|War\n",
              "979      Michael Collins (1996)  Drama|War\n",
              "1074             Platoon (1986)  Drama|War\n",
              "1162      Paths of Glory (1957)  Drama|War\n",
              "1190      Apocalypse Now (1979)  Drama|War\n",
              "1199                 Ran (1985)  Drama|War"
            ]
          },
          "metadata": {
            "tags": []
          },
          "execution_count": 89
        }
      ]
    },
    {
      "cell_type": "code",
      "metadata": {
        "id": "GCd-R_TkIMGQ",
        "colab_type": "code",
        "colab": {
          "base_uri": "https://localhost:8080/",
          "height": 180
        },
        "outputId": "a1f32b1b-50b2-4cf5-ebb0-4cb8502dcec8"
      },
      "source": [
        "import flask\n",
        "import difflib\n",
        "import pandas as pd\n",
        "from sklearn.feature_extraction.text import CountVectorizer\n",
        "from sklearn.metrics.pairwise import cosine_similarity\n",
        "from flask import Flask,request,render_template\n",
        "from flask_ngrok import run_with_ngrok\n",
        "\n",
        "\n",
        "app = flask.Flask(__name__, template_folder='/content/drive/My Drive/datasets/templates')\n",
        "\n",
        "run_with_ngrok(app)\n",
        "\n",
        "\n",
        "\n",
        "@app.route('/', methods=['GET', 'POST'])\n",
        "def index(): return render_template('index.html')\n",
        "\n",
        "\n",
        "@app.route(\"/predict/\",methods=[\"POST\"])\n",
        "def main():\n",
        "  if request.method == 'POST': m_name = request.form['movie_name'].title()\n",
        "  if request.method == \"GET\" : m_name = request.args.get('movie_name').title()\n",
        "  \n",
        "\n",
        "  print(m_name)\n",
        "  # check = difflib.get_close_matches(m_name,all_titles,cutout=0.50,n=1)\n",
        "  if m_name not in all_titles: return(render_template('index.html'))\n",
        "  else:\n",
        "    result_final = get_recommendations(m_name)\n",
        "    names = []\n",
        "    dates = []\n",
        "    for i in range(len(result_final)):\n",
        "      names.append(result_final.iloc[i][0])\n",
        "      dates.append(result_final.iloc[i][1])\n",
        "    return flask.render_template('positive.html',result = 1,ret = zip(names,dates),search_name=m_name)\n",
        "\n",
        "\n",
        "@app.route(\"/user/\",methods=[\"POST\"])\n",
        "def userPred():\n",
        "  print(request.method)\n",
        "\n",
        "\n",
        "\n",
        "  try: a = int(request.form['user_id'])\n",
        "  except: return render_template('index.html')\n",
        "  # b = request.form['recommendation']\n",
        "  print(a)\n",
        "  b = 10\n",
        "  t1,t2,t3 = rec(a,b)\n",
        "  return render_template('positive.html',neut = 1,ret = zip(t1,t2,t3))\n",
        "\n",
        "if __name__ == '__main__':\n",
        "    app.run()"
      ],
      "execution_count": 109,
      "outputs": [
        {
          "output_type": "stream",
          "text": [
            " * Running on http://127.0.0.1:5000/ (Press CTRL+C to quit)\n"
          ],
          "name": "stderr"
        },
        {
          "output_type": "stream",
          "text": [
            " * Running on http://16031e9306a9.ngrok.io\n",
            " * Traffic stats available on http://127.0.0.1:4040\n"
          ],
          "name": "stdout"
        },
        {
          "output_type": "stream",
          "text": [
            "127.0.0.1 - - [19/Jul/2020 10:50:35] \"\u001b[37mGET / HTTP/1.1\u001b[0m\" 200 -\n",
            "127.0.0.1 - - [19/Jul/2020 10:50:36] \"\u001b[33mGET /favicon.ico HTTP/1.1\u001b[0m\" 404 -\n",
            "127.0.0.1 - - [19/Jul/2020 10:50:40] \"\u001b[37mPOST /predict/ HTTP/1.1\u001b[0m\" 200 -\n"
          ],
          "name": "stderr"
        },
        {
          "output_type": "stream",
          "text": [
            "Toy Story (1995)\n"
          ],
          "name": "stdout"
        },
        {
          "output_type": "stream",
          "text": [
            "127.0.0.1 - - [19/Jul/2020 10:50:49] \"\u001b[37mPOST /user/ HTTP/1.1\u001b[0m\" 200 -\n"
          ],
          "name": "stderr"
        },
        {
          "output_type": "stream",
          "text": [
            "POST\n",
            "555\n"
          ],
          "name": "stdout"
        }
      ]
    }
  ]
}