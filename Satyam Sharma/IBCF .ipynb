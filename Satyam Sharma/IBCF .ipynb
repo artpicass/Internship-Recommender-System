{
 "cells": [
  {
   "cell_type": "markdown",
   "metadata": {
    "colab_type": "text",
    "id": "FMF1EtaCWNbQ"
   },
   "source": [
    "**WEEK 2 - ITEM BASED COLABORATIVE FILTERING (IBCF)**"
   ]
  },
  {
   "cell_type": "code",
   "execution_count": 1,
   "metadata": {
    "colab": {},
    "colab_type": "code",
    "executionInfo": {
     "elapsed": 3699,
     "status": "ok",
     "timestamp": 1594204862182,
     "user": {
      "displayName": "Satyam sharma",
      "photoUrl": "https://lh3.googleusercontent.com/a-/AOh14GgPaI0Tl8R_nz_3Pyi7vBr7y7oxj-ZVyt7On1L66Q=s64",
      "userId": "10642879215283566188"
     },
     "user_tz": -330
    },
    "id": "vfCZFei_DMmm"
   },
   "outputs": [],
   "source": [
    "import pandas as pd\n",
    "import numpy as np\n",
    "import matplotlib.pyplot as plt\n",
    "from sklearn.model_selection import train_test_split\n",
    "from scipy.sparse import csr_matrix\n",
    "import time\n",
    "import os\n",
    "from os import path"
   ]
  },
  {
   "cell_type": "code",
   "execution_count": 2,
   "metadata": {
    "colab": {
     "base_uri": "https://localhost:8080/",
     "height": 306
    },
    "colab_type": "code",
    "executionInfo": {
     "elapsed": 41368,
     "status": "ok",
     "timestamp": 1594204899865,
     "user": {
      "displayName": "Satyam sharma",
      "photoUrl": "https://lh3.googleusercontent.com/a-/AOh14GgPaI0Tl8R_nz_3Pyi7vBr7y7oxj-ZVyt7On1L66Q=s64",
      "userId": "10642879215283566188"
     },
     "user_tz": -330
    },
    "id": "fdd3FysRD5S8",
    "outputId": "e628b7b8-adde-4f09-b8b1-d8c0819e69a3"
   },
   "outputs": [
    {
     "name": "stdout",
     "output_type": "stream",
     "text": [
      "Collecting surprise\n",
      "  Downloading https://files.pythonhosted.org/packages/61/de/e5cba8682201fcf9c3719a6fdda95693468ed061945493dea2dd37c5618b/surprise-0.1-py2.py3-none-any.whl\n",
      "Collecting scikit-surprise\n",
      "\u001b[?25l  Downloading https://files.pythonhosted.org/packages/f5/da/b5700d96495fb4f092be497f02492768a3d96a3f4fa2ae7dea46d4081cfa/scikit-surprise-1.1.0.tar.gz (6.4MB)\n",
      "\u001b[K     |████████████████████████████████| 6.5MB 2.9MB/s \n",
      "\u001b[?25hRequirement already satisfied: joblib>=0.11 in /usr/local/lib/python3.6/dist-packages (from scikit-surprise->surprise) (0.15.1)\n",
      "Requirement already satisfied: numpy>=1.11.2 in /usr/local/lib/python3.6/dist-packages (from scikit-surprise->surprise) (1.18.5)\n",
      "Requirement already satisfied: scipy>=1.0.0 in /usr/local/lib/python3.6/dist-packages (from scikit-surprise->surprise) (1.4.1)\n",
      "Requirement already satisfied: six>=1.10.0 in /usr/local/lib/python3.6/dist-packages (from scikit-surprise->surprise) (1.12.0)\n",
      "Building wheels for collected packages: scikit-surprise\n",
      "  Building wheel for scikit-surprise (setup.py) ... \u001b[?25l\u001b[?25hdone\n",
      "  Created wheel for scikit-surprise: filename=scikit_surprise-1.1.0-cp36-cp36m-linux_x86_64.whl size=1675736 sha256=cf85678b78d255f6f22c47bbaa4d0db7a4aa0d47e85ad9f39e43e1d1f02dacde\n",
      "  Stored in directory: /root/.cache/pip/wheels/cc/fa/8c/16c93fccce688ae1bde7d979ff102f7bee980d9cfeb8641bcf\n",
      "Successfully built scikit-surprise\n",
      "Installing collected packages: scikit-surprise, surprise\n",
      "Successfully installed scikit-surprise-1.1.0 surprise-0.1\n"
     ]
    }
   ],
   "source": [
    "!pip install surprise"
   ]
  },
  {
   "cell_type": "code",
   "execution_count": 3,
   "metadata": {
    "colab": {},
    "colab_type": "code",
    "executionInfo": {
     "elapsed": 41357,
     "status": "ok",
     "timestamp": 1594204899866,
     "user": {
      "displayName": "Satyam sharma",
      "photoUrl": "https://lh3.googleusercontent.com/a-/AOh14GgPaI0Tl8R_nz_3Pyi7vBr7y7oxj-ZVyt7On1L66Q=s64",
      "userId": "10642879215283566188"
     },
     "user_tz": -330
    },
    "id": "LN6f_-IFD9My"
   },
   "outputs": [],
   "source": [
    "from surprise import Reader, Dataset ,KNNWithMeans"
   ]
  },
  {
   "cell_type": "code",
   "execution_count": 4,
   "metadata": {
    "colab": {},
    "colab_type": "code",
    "executionInfo": {
     "elapsed": 41349,
     "status": "ok",
     "timestamp": 1594204899867,
     "user": {
      "displayName": "Satyam sharma",
      "photoUrl": "https://lh3.googleusercontent.com/a-/AOh14GgPaI0Tl8R_nz_3Pyi7vBr7y7oxj-ZVyt7On1L66Q=s64",
      "userId": "10642879215283566188"
     },
     "user_tz": -330
    },
    "id": "kHy2LrVjEy3h"
   },
   "outputs": [],
   "source": [
    "rating = pd.read_csv('ratings.csv',sep=',', names=['UserID','MovieID','Rating','Timestamp'])\n",
    "rating = rating.drop(columns='Timestamp')"
   ]
  },
  {
   "cell_type": "code",
   "execution_count": 5,
   "metadata": {
    "colab": {},
    "colab_type": "code",
    "executionInfo": {
     "elapsed": 41341,
     "status": "ok",
     "timestamp": 1594204899868,
     "user": {
      "displayName": "Satyam sharma",
      "photoUrl": "https://lh3.googleusercontent.com/a-/AOh14GgPaI0Tl8R_nz_3Pyi7vBr7y7oxj-ZVyt7On1L66Q=s64",
      "userId": "10642879215283566188"
     },
     "user_tz": -330
    },
    "id": "XAzthVz2FEHD"
   },
   "outputs": [],
   "source": [
    "reader = Reader(rating_scale=(1,5))     #Rating scale is used for every rating i.e 1 to 5"
   ]
  },
  {
   "cell_type": "code",
   "execution_count": 6,
   "metadata": {
    "colab": {},
    "colab_type": "code",
    "executionInfo": {
     "elapsed": 42516,
     "status": "ok",
     "timestamp": 1594204901051,
     "user": {
      "displayName": "Satyam sharma",
      "photoUrl": "https://lh3.googleusercontent.com/a-/AOh14GgPaI0Tl8R_nz_3Pyi7vBr7y7oxj-ZVyt7On1L66Q=s64",
      "userId": "10642879215283566188"
     },
     "user_tz": -330
    },
    "id": "sI4Jn8IgFVcn"
   },
   "outputs": [],
   "source": [
    "#Loads from Dataframe into data\n",
    "data = Dataset.load_from_df(rating[['UserID','MovieID','Rating']],reader)"
   ]
  },
  {
   "cell_type": "code",
   "execution_count": 7,
   "metadata": {
    "colab": {},
    "colab_type": "code",
    "executionInfo": {
     "elapsed": 42509,
     "status": "ok",
     "timestamp": 1594204901052,
     "user": {
      "displayName": "Satyam sharma",
      "photoUrl": "https://lh3.googleusercontent.com/a-/AOh14GgPaI0Tl8R_nz_3Pyi7vBr7y7oxj-ZVyt7On1L66Q=s64",
      "userId": "10642879215283566188"
     },
     "user_tz": -330
    },
    "id": "XI-B_-QoGw81"
   },
   "outputs": [],
   "source": [
    "#Compute similarity between items\n",
    "methods = {\n",
    "    'name':'cosine',\n",
    "    'user_based': False\n",
    "}\n",
    "knn  = KNNWithMeans(sim_options=methods)"
   ]
  },
  {
   "cell_type": "code",
   "execution_count": 8,
   "metadata": {
    "colab": {
     "base_uri": "https://localhost:8080/",
     "height": 67
    },
    "colab_type": "code",
    "executionInfo": {
     "elapsed": 56817,
     "status": "ok",
     "timestamp": 1594204915369,
     "user": {
      "displayName": "Satyam sharma",
      "photoUrl": "https://lh3.googleusercontent.com/a-/AOh14GgPaI0Tl8R_nz_3Pyi7vBr7y7oxj-ZVyt7On1L66Q=s64",
      "userId": "10642879215283566188"
     },
     "user_tz": -330
    },
    "id": "kJr9c1DUHk0k",
    "outputId": "16c50620-a183-4ad2-91b2-f0bc1370bbff"
   },
   "outputs": [
    {
     "name": "stdout",
     "output_type": "stream",
     "text": [
      "Computing the cosine similarity matrix...\n",
      "Done computing similarity matrix.\n"
     ]
    },
    {
     "data": {
      "text/plain": [
       "<surprise.prediction_algorithms.knns.KNNWithMeans at 0x7f1c1e69bd30>"
      ]
     },
     "execution_count": 8,
     "metadata": {
      "tags": []
     },
     "output_type": "execute_result"
    }
   ],
   "source": [
    "#Spliting the data into training\n",
    "trainingdata = data.build_full_trainset()\n",
    "#Fit KNNwithmean\n",
    "knn.fit(trainingdata)"
   ]
  },
  {
   "cell_type": "code",
   "execution_count": 9,
   "metadata": {
    "colab": {},
    "colab_type": "code",
    "executionInfo": {
     "elapsed": 56779,
     "status": "ok",
     "timestamp": 1594204915370,
     "user": {
      "displayName": "Satyam sharma",
      "photoUrl": "https://lh3.googleusercontent.com/a-/AOh14GgPaI0Tl8R_nz_3Pyi7vBr7y7oxj-ZVyt7On1L66Q=s64",
      "userId": "10642879215283566188"
     },
     "user_tz": -330
    },
    "id": "99ZZty7yMGPz"
   },
   "outputs": [],
   "source": [
    "from surprise.model_selection import GridSearchCV"
   ]
  },
  {
   "cell_type": "code",
   "execution_count": 10,
   "metadata": {
    "colab": {},
    "colab_type": "code",
    "executionInfo": {
     "elapsed": 56772,
     "status": "ok",
     "timestamp": 1594204915371,
     "user": {
      "displayName": "Satyam sharma",
      "photoUrl": "https://lh3.googleusercontent.com/a-/AOh14GgPaI0Tl8R_nz_3Pyi7vBr7y7oxj-ZVyt7On1L66Q=s64",
      "userId": "10642879215283566188"
     },
     "user_tz": -330
    },
    "id": "GpouBva8ITp4"
   },
   "outputs": [],
   "source": [
    "def prediction(userid,movieid):\n",
    "  pred = knn.predict(userid,movieid)\n",
    "  rating =  pred.est\n",
    "  print('User {} rate {:.1f}/5 of movieid {}'.format(userid,rating,movieid)) "
   ]
  },
  {
   "cell_type": "code",
   "execution_count": 11,
   "metadata": {
    "colab": {
     "base_uri": "https://localhost:8080/",
     "height": 34
    },
    "colab_type": "code",
    "executionInfo": {
     "elapsed": 56765,
     "status": "ok",
     "timestamp": 1594204915372,
     "user": {
      "displayName": "Satyam sharma",
      "photoUrl": "https://lh3.googleusercontent.com/a-/AOh14GgPaI0Tl8R_nz_3Pyi7vBr7y7oxj-ZVyt7On1L66Q=s64",
      "userId": "10642879215283566188"
     },
     "user_tz": -330
    },
    "id": "06WTO4KPUocW",
    "outputId": "9a0773e6-db9d-43e0-ad8d-1d94dd9a6b0a"
   },
   "outputs": [
    {
     "name": "stdout",
     "output_type": "stream",
     "text": [
      "User 35 rate 3.1/5 of movieid 45\n"
     ]
    }
   ],
   "source": [
    "#User having userid 35 will give 3.3 ratings to movie having id 45\n",
    "prediction(35,45)       "
   ]
  },
  {
   "cell_type": "code",
   "execution_count": 12,
   "metadata": {
    "colab": {
     "base_uri": "https://localhost:8080/",
     "height": 86
    },
    "colab_type": "code",
    "executionInfo": {
     "elapsed": 56756,
     "status": "ok",
     "timestamp": 1594204915372,
     "user": {
      "displayName": "Satyam sharma",
      "photoUrl": "https://lh3.googleusercontent.com/a-/AOh14GgPaI0Tl8R_nz_3Pyi7vBr7y7oxj-ZVyt7On1L66Q=s64",
      "userId": "10642879215283566188"
     },
     "user_tz": -330
    },
    "id": "kDd15xQFIezS",
    "outputId": "dc3d34e8-4ed1-4fba-eae4-5d321d3d73a6"
   },
   "outputs": [
    {
     "data": {
      "application/vnd.google.colaboratory.intrinsic": {
       "type": "string"
      },
      "text/plain": [
       "'def rmse(cv):\\n  sim_options = {\\n      \"name\": [\"msd\", \"cosine\"],\\n      \"min_support\": [3],\\n      \"user_based\": [False],\\n  }\\n  param_grid = {\\'sim_options\\': sim_options}\\n  gs = GridSearchCV(KNNWithMeans, param_grid , measures=[\\'rmse\\'] ,cv = cv)\\n  gs.fit(data)\\n  print(gs.best_score)\\n  print(gs.best_params)'"
      ]
     },
     "execution_count": 12,
     "metadata": {
      "tags": []
     },
     "output_type": "execute_result"
    }
   ],
   "source": [
    "#Cheaking accuracy on dataset  - 'data'\n",
    "'''def rmse(cv):\n",
    "  sim_options = {\n",
    "      \"name\": [\"msd\", \"cosine\"],\n",
    "      \"min_support\": [3],\n",
    "      \"user_based\": [False],\n",
    "  }\n",
    "  param_grid = {'sim_options': sim_options}\n",
    "  gs = GridSearchCV(KNNWithMeans, param_grid , measures=['rmse'] ,cv = cv)\n",
    "  gs.fit(data)\n",
    "  print(gs.best_score)\n",
    "  print(gs.best_params)'''"
   ]
  }
 ],
 "metadata": {
  "colab": {
   "authorship_tag": "ABX9TyMJRmT7BNNqG2z6STYvK6AF",
   "collapsed_sections": [],
   "name": "IBCF.ipynb",
   "provenance": []
  },
  "kernelspec": {
   "display_name": "Python 3",
   "language": "python",
   "name": "python3"
  },
  "language_info": {
   "codemirror_mode": {
    "name": "ipython",
    "version": 3
   },
   "file_extension": ".py",
   "mimetype": "text/x-python",
   "name": "python",
   "nbconvert_exporter": "python",
   "pygments_lexer": "ipython3",
   "version": "3.7.6"
  }
 },
 "nbformat": 4,
 "nbformat_minor": 1
}
